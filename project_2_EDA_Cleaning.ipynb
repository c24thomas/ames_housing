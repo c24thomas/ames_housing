{
 "cells": [
  {
   "cell_type": "code",
   "execution_count": null,
   "metadata": {},
   "outputs": [],
   "source": []
  },
  {
   "cell_type": "code",
   "execution_count": null,
   "metadata": {
    "ExecuteTime": {
     "end_time": "2021-04-06T21:44:03.935658Z",
     "start_time": "2021-04-06T21:43:49.562158Z"
    }
   },
   "outputs": [],
   "source": []
  },
  {
   "cell_type": "code",
   "execution_count": 1,
   "metadata": {
    "ExecuteTime": {
     "end_time": "2021-04-10T00:19:30.329404Z",
     "start_time": "2021-04-10T00:19:29.332492Z"
    }
   },
   "outputs": [],
   "source": [
    "import pandas as pd\n",
    "import numpy as np\n",
    "import matplotlib.pyplot as plt\n",
    "import seaborn as sns\n",
    "from sklearn.linear_model import LinearRegression\n",
    "from sklearn.model_selection import train_test_split, cross_val_score\n",
    "from local_EDA import heat"
   ]
  },
  {
   "cell_type": "code",
   "execution_count": 2,
   "metadata": {
    "ExecuteTime": {
     "end_time": "2021-04-10T00:19:30.360156Z",
     "start_time": "2021-04-10T00:19:30.330396Z"
    }
   },
   "outputs": [],
   "source": [
    "df = pd.read_csv('datasets/test.csv')"
   ]
  },
  {
   "cell_type": "code",
   "execution_count": 3,
   "metadata": {
    "ExecuteTime": {
     "end_time": "2021-04-10T00:19:30.390932Z",
     "start_time": "2021-04-10T00:19:30.361148Z"
    },
    "scrolled": true
   },
   "outputs": [
    {
     "data": {
      "text/html": [
       "<div>\n",
       "<style scoped>\n",
       "    .dataframe tbody tr th:only-of-type {\n",
       "        vertical-align: middle;\n",
       "    }\n",
       "\n",
       "    .dataframe tbody tr th {\n",
       "        vertical-align: top;\n",
       "    }\n",
       "\n",
       "    .dataframe thead th {\n",
       "        text-align: right;\n",
       "    }\n",
       "</style>\n",
       "<table border=\"1\" class=\"dataframe\">\n",
       "  <thead>\n",
       "    <tr style=\"text-align: right;\">\n",
       "      <th></th>\n",
       "      <th>Id</th>\n",
       "      <th>PID</th>\n",
       "      <th>MS SubClass</th>\n",
       "      <th>MS Zoning</th>\n",
       "      <th>Lot Frontage</th>\n",
       "      <th>Lot Area</th>\n",
       "      <th>Street</th>\n",
       "      <th>Alley</th>\n",
       "      <th>Lot Shape</th>\n",
       "      <th>Land Contour</th>\n",
       "      <th>...</th>\n",
       "      <th>3Ssn Porch</th>\n",
       "      <th>Screen Porch</th>\n",
       "      <th>Pool Area</th>\n",
       "      <th>Pool QC</th>\n",
       "      <th>Fence</th>\n",
       "      <th>Misc Feature</th>\n",
       "      <th>Misc Val</th>\n",
       "      <th>Mo Sold</th>\n",
       "      <th>Yr Sold</th>\n",
       "      <th>Sale Type</th>\n",
       "    </tr>\n",
       "  </thead>\n",
       "  <tbody>\n",
       "    <tr>\n",
       "      <th>0</th>\n",
       "      <td>2658</td>\n",
       "      <td>902301120</td>\n",
       "      <td>190</td>\n",
       "      <td>RM</td>\n",
       "      <td>69.0</td>\n",
       "      <td>9142</td>\n",
       "      <td>Pave</td>\n",
       "      <td>Grvl</td>\n",
       "      <td>Reg</td>\n",
       "      <td>Lvl</td>\n",
       "      <td>...</td>\n",
       "      <td>0</td>\n",
       "      <td>0</td>\n",
       "      <td>0</td>\n",
       "      <td>NaN</td>\n",
       "      <td>NaN</td>\n",
       "      <td>NaN</td>\n",
       "      <td>0</td>\n",
       "      <td>4</td>\n",
       "      <td>2006</td>\n",
       "      <td>WD</td>\n",
       "    </tr>\n",
       "    <tr>\n",
       "      <th>1</th>\n",
       "      <td>2718</td>\n",
       "      <td>905108090</td>\n",
       "      <td>90</td>\n",
       "      <td>RL</td>\n",
       "      <td>NaN</td>\n",
       "      <td>9662</td>\n",
       "      <td>Pave</td>\n",
       "      <td>NaN</td>\n",
       "      <td>IR1</td>\n",
       "      <td>Lvl</td>\n",
       "      <td>...</td>\n",
       "      <td>0</td>\n",
       "      <td>0</td>\n",
       "      <td>0</td>\n",
       "      <td>NaN</td>\n",
       "      <td>NaN</td>\n",
       "      <td>NaN</td>\n",
       "      <td>0</td>\n",
       "      <td>8</td>\n",
       "      <td>2006</td>\n",
       "      <td>WD</td>\n",
       "    </tr>\n",
       "    <tr>\n",
       "      <th>2</th>\n",
       "      <td>2414</td>\n",
       "      <td>528218130</td>\n",
       "      <td>60</td>\n",
       "      <td>RL</td>\n",
       "      <td>58.0</td>\n",
       "      <td>17104</td>\n",
       "      <td>Pave</td>\n",
       "      <td>NaN</td>\n",
       "      <td>IR1</td>\n",
       "      <td>Lvl</td>\n",
       "      <td>...</td>\n",
       "      <td>0</td>\n",
       "      <td>0</td>\n",
       "      <td>0</td>\n",
       "      <td>NaN</td>\n",
       "      <td>NaN</td>\n",
       "      <td>NaN</td>\n",
       "      <td>0</td>\n",
       "      <td>9</td>\n",
       "      <td>2006</td>\n",
       "      <td>New</td>\n",
       "    </tr>\n",
       "    <tr>\n",
       "      <th>3</th>\n",
       "      <td>1989</td>\n",
       "      <td>902207150</td>\n",
       "      <td>30</td>\n",
       "      <td>RM</td>\n",
       "      <td>60.0</td>\n",
       "      <td>8520</td>\n",
       "      <td>Pave</td>\n",
       "      <td>NaN</td>\n",
       "      <td>Reg</td>\n",
       "      <td>Lvl</td>\n",
       "      <td>...</td>\n",
       "      <td>0</td>\n",
       "      <td>0</td>\n",
       "      <td>0</td>\n",
       "      <td>NaN</td>\n",
       "      <td>NaN</td>\n",
       "      <td>NaN</td>\n",
       "      <td>0</td>\n",
       "      <td>7</td>\n",
       "      <td>2007</td>\n",
       "      <td>WD</td>\n",
       "    </tr>\n",
       "    <tr>\n",
       "      <th>4</th>\n",
       "      <td>625</td>\n",
       "      <td>535105100</td>\n",
       "      <td>20</td>\n",
       "      <td>RL</td>\n",
       "      <td>NaN</td>\n",
       "      <td>9500</td>\n",
       "      <td>Pave</td>\n",
       "      <td>NaN</td>\n",
       "      <td>IR1</td>\n",
       "      <td>Lvl</td>\n",
       "      <td>...</td>\n",
       "      <td>0</td>\n",
       "      <td>185</td>\n",
       "      <td>0</td>\n",
       "      <td>NaN</td>\n",
       "      <td>NaN</td>\n",
       "      <td>NaN</td>\n",
       "      <td>0</td>\n",
       "      <td>7</td>\n",
       "      <td>2009</td>\n",
       "      <td>WD</td>\n",
       "    </tr>\n",
       "  </tbody>\n",
       "</table>\n",
       "<p>5 rows × 80 columns</p>\n",
       "</div>"
      ],
      "text/plain": [
       "     Id        PID  MS SubClass MS Zoning  Lot Frontage  Lot Area Street  \\\n",
       "0  2658  902301120          190        RM          69.0      9142   Pave   \n",
       "1  2718  905108090           90        RL           NaN      9662   Pave   \n",
       "2  2414  528218130           60        RL          58.0     17104   Pave   \n",
       "3  1989  902207150           30        RM          60.0      8520   Pave   \n",
       "4   625  535105100           20        RL           NaN      9500   Pave   \n",
       "\n",
       "  Alley Lot Shape Land Contour  ... 3Ssn Porch Screen Porch Pool Area Pool QC  \\\n",
       "0  Grvl       Reg          Lvl  ...          0            0         0     NaN   \n",
       "1   NaN       IR1          Lvl  ...          0            0         0     NaN   \n",
       "2   NaN       IR1          Lvl  ...          0            0         0     NaN   \n",
       "3   NaN       Reg          Lvl  ...          0            0         0     NaN   \n",
       "4   NaN       IR1          Lvl  ...          0          185         0     NaN   \n",
       "\n",
       "  Fence Misc Feature Misc Val Mo Sold  Yr Sold  Sale Type  \n",
       "0   NaN          NaN        0       4     2006        WD   \n",
       "1   NaN          NaN        0       8     2006        WD   \n",
       "2   NaN          NaN        0       9     2006        New  \n",
       "3   NaN          NaN        0       7     2007        WD   \n",
       "4   NaN          NaN        0       7     2009        WD   \n",
       "\n",
       "[5 rows x 80 columns]"
      ]
     },
     "execution_count": 3,
     "metadata": {},
     "output_type": "execute_result"
    }
   ],
   "source": [
    "df.head()"
   ]
  },
  {
   "cell_type": "code",
   "execution_count": 4,
   "metadata": {
    "ExecuteTime": {
     "end_time": "2021-04-10T00:19:30.406284Z",
     "start_time": "2021-04-10T00:19:30.391927Z"
    }
   },
   "outputs": [
    {
     "name": "stdout",
     "output_type": "stream",
     "text": [
      "<class 'pandas.core.frame.DataFrame'>\n",
      "RangeIndex: 878 entries, 0 to 877\n",
      "Data columns (total 80 columns):\n",
      " #   Column           Non-Null Count  Dtype  \n",
      "---  ------           --------------  -----  \n",
      " 0   Id               878 non-null    int64  \n",
      " 1   PID              878 non-null    int64  \n",
      " 2   MS SubClass      878 non-null    int64  \n",
      " 3   MS Zoning        878 non-null    object \n",
      " 4   Lot Frontage     718 non-null    float64\n",
      " 5   Lot Area         878 non-null    int64  \n",
      " 6   Street           878 non-null    object \n",
      " 7   Alley            58 non-null     object \n",
      " 8   Lot Shape        878 non-null    object \n",
      " 9   Land Contour     878 non-null    object \n",
      " 10  Utilities        878 non-null    object \n",
      " 11  Lot Config       878 non-null    object \n",
      " 12  Land Slope       878 non-null    object \n",
      " 13  Neighborhood     878 non-null    object \n",
      " 14  Condition 1      878 non-null    object \n",
      " 15  Condition 2      878 non-null    object \n",
      " 16  Bldg Type        878 non-null    object \n",
      " 17  House Style      878 non-null    object \n",
      " 18  Overall Qual     878 non-null    int64  \n",
      " 19  Overall Cond     878 non-null    int64  \n",
      " 20  Year Built       878 non-null    int64  \n",
      " 21  Year Remod/Add   878 non-null    int64  \n",
      " 22  Roof Style       878 non-null    object \n",
      " 23  Roof Matl        878 non-null    object \n",
      " 24  Exterior 1st     878 non-null    object \n",
      " 25  Exterior 2nd     878 non-null    object \n",
      " 26  Mas Vnr Type     877 non-null    object \n",
      " 27  Mas Vnr Area     877 non-null    float64\n",
      " 28  Exter Qual       878 non-null    object \n",
      " 29  Exter Cond       878 non-null    object \n",
      " 30  Foundation       878 non-null    object \n",
      " 31  Bsmt Qual        853 non-null    object \n",
      " 32  Bsmt Cond        853 non-null    object \n",
      " 33  Bsmt Exposure    853 non-null    object \n",
      " 34  BsmtFin Type 1   853 non-null    object \n",
      " 35  BsmtFin SF 1     878 non-null    int64  \n",
      " 36  BsmtFin Type 2   853 non-null    object \n",
      " 37  BsmtFin SF 2     878 non-null    int64  \n",
      " 38  Bsmt Unf SF      878 non-null    int64  \n",
      " 39  Total Bsmt SF    878 non-null    int64  \n",
      " 40  Heating          878 non-null    object \n",
      " 41  Heating QC       878 non-null    object \n",
      " 42  Central Air      878 non-null    object \n",
      " 43  Electrical       877 non-null    object \n",
      " 44  1st Flr SF       878 non-null    int64  \n",
      " 45  2nd Flr SF       878 non-null    int64  \n",
      " 46  Low Qual Fin SF  878 non-null    int64  \n",
      " 47  Gr Liv Area      878 non-null    int64  \n",
      " 48  Bsmt Full Bath   878 non-null    int64  \n",
      " 49  Bsmt Half Bath   878 non-null    int64  \n",
      " 50  Full Bath        878 non-null    int64  \n",
      " 51  Half Bath        878 non-null    int64  \n",
      " 52  Bedroom AbvGr    878 non-null    int64  \n",
      " 53  Kitchen AbvGr    878 non-null    int64  \n",
      " 54  Kitchen Qual     878 non-null    object \n",
      " 55  TotRms AbvGrd    878 non-null    int64  \n",
      " 56  Functional       878 non-null    object \n",
      " 57  Fireplaces       878 non-null    int64  \n",
      " 58  Fireplace Qu     456 non-null    object \n",
      " 59  Garage Type      834 non-null    object \n",
      " 60  Garage Yr Blt    833 non-null    float64\n",
      " 61  Garage Finish    833 non-null    object \n",
      " 62  Garage Cars      878 non-null    int64  \n",
      " 63  Garage Area      878 non-null    int64  \n",
      " 64  Garage Qual      833 non-null    object \n",
      " 65  Garage Cond      833 non-null    object \n",
      " 66  Paved Drive      878 non-null    object \n",
      " 67  Wood Deck SF     878 non-null    int64  \n",
      " 68  Open Porch SF    878 non-null    int64  \n",
      " 69  Enclosed Porch   878 non-null    int64  \n",
      " 70  3Ssn Porch       878 non-null    int64  \n",
      " 71  Screen Porch     878 non-null    int64  \n",
      " 72  Pool Area        878 non-null    int64  \n",
      " 73  Pool QC          4 non-null      object \n",
      " 74  Fence            172 non-null    object \n",
      " 75  Misc Feature     41 non-null     object \n",
      " 76  Misc Val         878 non-null    int64  \n",
      " 77  Mo Sold          878 non-null    int64  \n",
      " 78  Yr Sold          878 non-null    int64  \n",
      " 79  Sale Type        878 non-null    object \n",
      "dtypes: float64(3), int64(35), object(42)\n",
      "memory usage: 548.9+ KB\n"
     ]
    }
   ],
   "source": [
    "df.info()"
   ]
  },
  {
   "cell_type": "code",
   "execution_count": 5,
   "metadata": {
    "ExecuteTime": {
     "end_time": "2021-04-10T00:19:30.421685Z",
     "start_time": "2021-04-10T00:19:30.407276Z"
    }
   },
   "outputs": [
    {
     "data": {
      "text/plain": [
       "NaN     837\n",
       "Shed     39\n",
       "Gar2      1\n",
       "Othr      1\n",
       "Name: Misc Feature, dtype: int64"
      ]
     },
     "execution_count": 5,
     "metadata": {},
     "output_type": "execute_result"
    }
   ],
   "source": [
    "df['Misc Feature'].value_counts(dropna=False)"
   ]
  },
  {
   "cell_type": "code",
   "execution_count": 6,
   "metadata": {
    "ExecuteTime": {
     "end_time": "2021-04-10T00:19:30.498540Z",
     "start_time": "2021-04-10T00:19:30.423643Z"
    }
   },
   "outputs": [
    {
     "name": "stdout",
     "output_type": "stream",
     "text": [
      "2       1\n",
      "1188    1\n",
      "1150    1\n",
      "1153    1\n",
      "1154    1\n",
      "       ..\n",
      "2571    1\n",
      "2576    1\n",
      "2370    1\n",
      "530     1\n",
      "359     1\n",
      "Name: Id, Length: 878, dtype: int64\n",
      "914475010    1\n",
      "535453080    1\n",
      "527451520    1\n",
      "535451010    1\n",
      "905480180    1\n",
      "            ..\n",
      "527164120    1\n",
      "905104090    1\n",
      "909275160    1\n",
      "905108190    1\n",
      "903476030    1\n",
      "Name: PID, Length: 878, dtype: int64\n",
      "20     309\n",
      "60     180\n",
      "50      89\n",
      "120     60\n",
      "160     41\n",
      "30      38\n",
      "70      38\n",
      "90      34\n",
      "80      32\n",
      "85      20\n",
      "190     15\n",
      "45       7\n",
      "75       7\n",
      "180      6\n",
      "40       2\n",
      "Name: MS SubClass, dtype: int64\n",
      "RL         674\n",
      "RM         146\n",
      "FV          38\n",
      "RH          13\n",
      "C (all)      6\n",
      "I (all)      1\n",
      "Name: MS Zoning, dtype: int64\n",
      "NaN      160\n",
      "60.0      97\n",
      "80.0      43\n",
      "75.0      37\n",
      "70.0      37\n",
      "        ... \n",
      "30.0       1\n",
      "116.0      1\n",
      "28.0       1\n",
      "126.0      1\n",
      "103.0      1\n",
      "Name: Lot Frontage, Length: 105, dtype: int64\n",
      "7200     16\n",
      "9000     11\n",
      "9600     10\n",
      "8400     10\n",
      "6120      9\n",
      "         ..\n",
      "5470      1\n",
      "4447      1\n",
      "11616     1\n",
      "10594     1\n",
      "11136     1\n",
      "Name: Lot Area, Length: 689, dtype: int64\n",
      "Pave    873\n",
      "Grvl      5\n",
      "Name: Street, dtype: int64\n",
      "NaN     820\n",
      "Grvl     35\n",
      "Pave     23\n",
      "Name: Alley, dtype: int64\n",
      "Reg    564\n",
      "IR1    286\n",
      "IR2     21\n",
      "IR3      7\n",
      "Name: Lot Shape, dtype: int64\n",
      "Lvl    790\n",
      "Bnk     36\n",
      "HLS     35\n",
      "Low     17\n",
      "Name: Land Contour, dtype: int64\n",
      "AllPub    877\n",
      "NoSewr      1\n",
      "Name: Utilities, dtype: int64\n",
      "Inside     636\n",
      "Corner     163\n",
      "CulDSac     49\n",
      "FR2         25\n",
      "FR3          5\n",
      "Name: Lot Config, dtype: int64\n",
      "Gtl    835\n",
      "Mod     37\n",
      "Sev      6\n",
      "Name: Land Slope, dtype: int64\n",
      "NAmes      133\n",
      "CollgCr     87\n",
      "OldTown     76\n",
      "Somerst     52\n",
      "Edwards     50\n",
      "Gilbert     49\n",
      "NridgHt     44\n",
      "NWAmes      44\n",
      "Sawyer      40\n",
      "SawyerW     38\n",
      "Crawfor     32\n",
      "BrkSide     32\n",
      "Mitchel     32\n",
      "IDOTRR      24\n",
      "Timber      24\n",
      "NoRidge     23\n",
      "ClearCr     17\n",
      "SWISU       16\n",
      "StoneBr     13\n",
      "MeadowV     13\n",
      "BrDale      11\n",
      "Veenker      7\n",
      "NPkVill      6\n",
      "Blmngtn      6\n",
      "Greens       5\n",
      "Blueste      4\n",
      "Name: Neighborhood, dtype: int64\n",
      "Norm      755\n",
      "Feedr      55\n",
      "Artery     22\n",
      "RRAn       14\n",
      "PosN       11\n",
      "PosA        8\n",
      "RRAe        7\n",
      "RRNe        3\n",
      "RRNn        3\n",
      "Name: Condition 1, dtype: int64\n",
      "Norm     875\n",
      "Feedr      2\n",
      "PosA       1\n",
      "Name: Condition 2, dtype: int64\n",
      "1Fam      724\n",
      "TwnhsE     72\n",
      "Duplex     34\n",
      "Twnhs      32\n",
      "2fmCon     16\n",
      "Name: Bldg Type, dtype: int64\n",
      "1Story    422\n",
      "2Story    274\n",
      "1.5Fin     96\n",
      "SLvl       34\n",
      "SFoyer     33\n",
      "2.5Unf     10\n",
      "1.5Unf      7\n",
      "2.5Fin      2\n",
      "Name: House Style, dtype: int64\n",
      "5     262\n",
      "6     226\n",
      "7     171\n",
      "8     100\n",
      "4      67\n",
      "9      30\n",
      "3      11\n",
      "10      7\n",
      "2       4\n",
      "Name: Overall Qual, dtype: int64\n",
      "5    485\n",
      "6    165\n",
      "7    120\n",
      "8     43\n",
      "4     31\n",
      "3     15\n",
      "9     12\n",
      "2      4\n",
      "1      3\n",
      "Name: Overall Cond, dtype: int64\n",
      "2005    40\n",
      "2006    39\n",
      "2007    30\n",
      "2004    27\n",
      "2003    24\n",
      "        ..\n",
      "1927     1\n",
      "1928     1\n",
      "1934     1\n",
      "1882     1\n",
      "1914     1\n",
      "Name: Year Built, Length: 106, dtype: int64\n",
      "1950    99\n",
      "2006    63\n",
      "2007    41\n",
      "2005    41\n",
      "2000    35\n",
      "        ..\n",
      "1986     4\n",
      "1983     4\n",
      "1951     4\n",
      "1988     3\n",
      "1953     2\n",
      "Name: Year Remod/Add, Length: 61, dtype: int64\n",
      "Gable      702\n",
      "Hip        153\n",
      "Gambrel     10\n",
      "Flat         7\n",
      "Mansard      4\n",
      "Shed         2\n",
      "Name: Roof Style, dtype: int64\n",
      "CompShg    861\n",
      "Tar&Grv      8\n",
      "WdShake      5\n",
      "WdShngl      2\n",
      "Roll         1\n",
      "Metal        1\n",
      "Name: Roof Matl, dtype: int64\n",
      "VinylSd    302\n",
      "Wd Sdng    144\n",
      "HdBoard    142\n",
      "MetalSd    119\n",
      "Plywood     69\n",
      "CemntBd     35\n",
      "BrkFace     24\n",
      "Stucco      16\n",
      "WdShing     11\n",
      "AsbShng     11\n",
      "BrkComm      3\n",
      "AsphShn      1\n",
      "PreCast      1\n",
      "Name: Exterior 1st, dtype: int64\n",
      "VinylSd    294\n",
      "Wd Sdng    135\n",
      "HdBoard    131\n",
      "MetalSd    123\n",
      "Plywood     89\n",
      "CmentBd     35\n",
      "Wd Shng     18\n",
      "Stucco      17\n",
      "BrkFace     13\n",
      "AsbShng     10\n",
      "Brk Cmn      5\n",
      "ImStucc      4\n",
      "AsphShn      1\n",
      "PreCast      1\n",
      "Other        1\n",
      "CBlock       1\n",
      "Name: Exterior 2nd, dtype: int64\n",
      "None       534\n",
      "BrkFace    250\n",
      "Stone       80\n",
      "BrkCmn      12\n",
      "NaN          1\n",
      "CBlock       1\n",
      "Name: Mas Vnr Type, dtype: int64\n",
      "0.0      532\n",
      "216.0      7\n",
      "196.0      5\n",
      "80.0       5\n",
      "420.0      5\n",
      "        ... \n",
      "877.0      1\n",
      "440.0      1\n",
      "378.0      1\n",
      "293.0      1\n",
      "415.0      1\n",
      "Name: Mas Vnr Area, Length: 233, dtype: int64\n",
      "TA    552\n",
      "Gd    292\n",
      "Ex     25\n",
      "Fa      9\n",
      "Name: Exter Qual, dtype: int64\n",
      "TA    770\n",
      "Gd     84\n",
      "Fa     18\n",
      "Ex      5\n",
      "Po      1\n",
      "Name: Exter Cond, dtype: int64\n",
      "PConc     383\n",
      "CBlock    381\n",
      "BrkTil     90\n",
      "Slab       15\n",
      "Stone       6\n",
      "Wood        3\n",
      "Name: Foundation, dtype: int64\n",
      "TA     396\n",
      "Gd     355\n",
      "Ex      73\n",
      "Fa      28\n",
      "NaN     25\n",
      "Po       1\n",
      "Name: Bsmt Qual, dtype: int64\n",
      "TA     781\n",
      "Fa      39\n",
      "Gd      33\n",
      "NaN     25\n",
      "Name: Bsmt Cond, dtype: int64\n",
      "No     567\n",
      "Av     130\n",
      "Gd      80\n",
      "Mn      76\n",
      "NaN     25\n",
      "Name: Bsmt Exposure, dtype: int64\n",
      "Unf    248\n",
      "GLQ    243\n",
      "ALQ    136\n",
      "Rec    105\n",
      "BLQ     69\n",
      "LwQ     52\n",
      "NaN     25\n",
      "Name: BsmtFin Type 1, dtype: int64\n",
      "0       273\n",
      "24       10\n",
      "662       4\n",
      "16        4\n",
      "936       4\n",
      "       ... \n",
      "1387      1\n",
      "1260      1\n",
      "360       1\n",
      "1383      1\n",
      "1022      1\n",
      "Name: BsmtFin SF 1, Length: 462, dtype: int64\n",
      "Unf    749\n",
      "LwQ     29\n",
      "Rec     26\n",
      "NaN     25\n",
      "BLQ     20\n",
      "ALQ     18\n",
      "GLQ     11\n",
      "Name: BsmtFin Type 2, dtype: int64\n",
      "0       774\n",
      "147       2\n",
      "435       2\n",
      "391       2\n",
      "374       2\n",
      "       ... \n",
      "264       1\n",
      "252       1\n",
      "250       1\n",
      "243       1\n",
      "1020      1\n",
      "Name: BsmtFin SF 2, Length: 96, dtype: int64\n",
      "0       79\n",
      "270      7\n",
      "840      5\n",
      "572      5\n",
      "100      5\n",
      "        ..\n",
      "1368     1\n",
      "1367     1\n",
      "339      1\n",
      "338      1\n",
      "2046     1\n",
      "Name: Bsmt Unf SF, Length: 562, dtype: int64\n",
      "0       25\n",
      "864     23\n",
      "768     10\n",
      "780      9\n",
      "912      9\n",
      "        ..\n",
      "1580     1\n",
      "1578     1\n",
      "407      1\n",
      "1574     1\n",
      "2552     1\n",
      "Name: Total Bsmt SF, Length: 526, dtype: int64\n",
      "GasA     866\n",
      "GasW       7\n",
      "Grav       4\n",
      "Floor      1\n",
      "Name: Heating, dtype: int64\n",
      "Ex    429\n",
      "TA    267\n",
      "Gd    157\n",
      "Fa     25\n",
      "Name: Heating QC, dtype: int64\n",
      "Y    823\n",
      "N     55\n",
      "Name: Central Air, dtype: int64\n",
      "SBrkr    813\n",
      "FuseA     48\n",
      "FuseF     15\n",
      "NaN        1\n",
      "FuseP      1\n",
      "Name: Electrical, dtype: int64\n",
      "864     15\n",
      "848      7\n",
      "672      7\n",
      "894      7\n",
      "546      6\n",
      "        ..\n",
      "1500     1\n",
      "1498     1\n",
      "1493     1\n",
      "1491     1\n",
      "1643     1\n",
      "Name: 1st Flr SF, Length: 560, dtype: int64\n",
      "0       487\n",
      "546      11\n",
      "840       5\n",
      "720       5\n",
      "672       4\n",
      "       ... \n",
      "660       1\n",
      "661       1\n",
      "662       1\n",
      "665       1\n",
      "1020      1\n",
      "Name: 2nd Flr SF, Length: 285, dtype: int64\n",
      "0      871\n",
      "80       1\n",
      "232      1\n",
      "360      1\n",
      "392      1\n",
      "420      1\n",
      "431      1\n",
      "481      1\n",
      "Name: Low Qual Fin SF, dtype: int64\n",
      "864     16\n",
      "1092     7\n",
      "848      6\n",
      "816      5\n",
      "894      5\n",
      "        ..\n",
      "1511     1\n",
      "1509     1\n",
      "1507     1\n",
      "1505     1\n",
      "1024     1\n",
      "Name: Gr Liv Area, Length: 621, dtype: int64\n",
      "0    507\n",
      "1    356\n",
      "2     15\n",
      "Name: Bsmt Full Bath, dtype: int64\n",
      "0    829\n",
      "1     49\n",
      "Name: Bsmt Half Bath, dtype: int64\n",
      "2    436\n",
      "1    418\n",
      "3     18\n",
      "0      4\n",
      "4      2\n",
      "Name: Full Bath, dtype: int64\n",
      "0    535\n",
      "1    336\n",
      "2      7\n",
      "Name: Half Bath, dtype: int64\n",
      "3    488\n",
      "2    199\n",
      "4    135\n",
      "1     37\n",
      "6      9\n",
      "5      7\n",
      "0      3\n",
      "Name: Bedroom AbvGr, dtype: int64\n",
      "1    835\n",
      "2     41\n",
      "0      1\n",
      "3      1\n",
      "Name: Kitchen AbvGr, dtype: int64\n",
      "TA    447\n",
      "Gd    354\n",
      "Ex     53\n",
      "Fa     23\n",
      "Po      1\n",
      "Name: Kitchen Qual, dtype: int64\n",
      "6     247\n",
      "5     179\n",
      "7     174\n",
      "8     119\n",
      "4      57\n",
      "9      45\n",
      "10     31\n",
      "3      14\n",
      "11      9\n",
      "12      3\n",
      "Name: TotRms AbvGrd, dtype: int64\n",
      "Typ     812\n",
      "Min2     28\n",
      "Min1     23\n",
      "Maj1      7\n",
      "Mod       6\n",
      "Maj2      2\n",
      "Name: Functional, dtype: int64\n",
      "0    422\n",
      "1    375\n",
      "2     75\n",
      "3      6\n",
      "Name: Fireplaces, dtype: int64\n",
      "NaN    422\n",
      "Gd     220\n",
      "TA     193\n",
      "Fa      16\n",
      "Po      15\n",
      "Ex      12\n",
      "Name: Fireplace Qu, dtype: int64\n",
      "Attchd     518\n",
      "Detchd     246\n",
      "BuiltIn     53\n",
      "NaN         44\n",
      "Basment      9\n",
      "CarPort      4\n",
      "2Types       4\n",
      "Name: Garage Type, dtype: int64\n",
      "NaN       45\n",
      "2005.0    37\n",
      "2006.0    35\n",
      "2007.0    30\n",
      "2004.0    27\n",
      "          ..\n",
      "1906.0     1\n",
      "1908.0     1\n",
      "1931.0     1\n",
      "1928.0     1\n",
      "1923.0     1\n",
      "Name: Garage Yr Blt, Length: 94, dtype: int64\n",
      "Unf    382\n",
      "RFn    233\n",
      "Fin    218\n",
      "NaN     45\n",
      "Name: Garage Finish, dtype: int64\n",
      "2    467\n",
      "1    254\n",
      "3    110\n",
      "0     44\n",
      "4      3\n",
      "Name: Garage Cars, dtype: int64\n",
      "0       44\n",
      "576     28\n",
      "440     26\n",
      "484     24\n",
      "240     24\n",
      "        ..\n",
      "332      1\n",
      "328      1\n",
      "577      1\n",
      "578      1\n",
      "1014     1\n",
      "Name: Garage Area, Length: 357, dtype: int64\n",
      "TA     782\n",
      "NaN     45\n",
      "Fa      42\n",
      "Gd       6\n",
      "Po       3\n",
      "Name: Garage Qual, dtype: int64\n",
      "TA     796\n",
      "NaN     45\n",
      "Fa      27\n",
      "Po       6\n",
      "Gd       3\n",
      "Ex       1\n",
      "Name: Garage Cond, dtype: int64\n",
      "Y    790\n",
      "N     65\n",
      "P     23\n",
      "Name: Paved Drive, dtype: int64\n",
      "0      451\n",
      "192     27\n",
      "100     21\n",
      "168     20\n",
      "144     15\n",
      "      ... \n",
      "169      1\n",
      "165      1\n",
      "164      1\n",
      "161      1\n",
      "690      1\n",
      "Name: Wood Deck SF, Length: 210, dtype: int64\n",
      "0      388\n",
      "28      17\n",
      "36      14\n",
      "24      13\n",
      "48      12\n",
      "      ... \n",
      "140      1\n",
      "139      1\n",
      "138      1\n",
      "137      1\n",
      "742      1\n",
      "Name: Open Porch SF, Length: 162, dtype: int64\n",
      "0       746\n",
      "112       9\n",
      "144       5\n",
      "192       4\n",
      "168       4\n",
      "       ... \n",
      "183       1\n",
      "184       1\n",
      "185       1\n",
      "56        1\n",
      "1012      1\n",
      "Name: Enclosed Porch, Length: 83, dtype: int64\n",
      "0      867\n",
      "23       1\n",
      "130      1\n",
      "174      1\n",
      "180      1\n",
      "196      1\n",
      "216      1\n",
      "219      1\n",
      "225      1\n",
      "238      1\n",
      "320      1\n",
      "360      1\n",
      "Name: 3Ssn Porch, dtype: int64\n",
      "0      803\n",
      "192      4\n",
      "144      4\n",
      "160      4\n",
      "200      4\n",
      "216      3\n",
      "256      3\n",
      "120      3\n",
      "153      2\n",
      "156      2\n",
      "115      2\n",
      "168      2\n",
      "189      1\n",
      "195      1\n",
      "196      1\n",
      "197      1\n",
      "198      1\n",
      "204      1\n",
      "184      1\n",
      "221      1\n",
      "225      1\n",
      "227      1\n",
      "228      1\n",
      "259      1\n",
      "263      1\n",
      "266      1\n",
      "273      1\n",
      "287      1\n",
      "288      1\n",
      "185      1\n",
      "166      1\n",
      "178      1\n",
      "112      1\n",
      "60       1\n",
      "63       1\n",
      "80       1\n",
      "90       1\n",
      "92       1\n",
      "99       1\n",
      "100      1\n",
      "108      1\n",
      "110      1\n",
      "116      1\n",
      "175      1\n",
      "117      1\n",
      "119      1\n",
      "121      1\n",
      "123      1\n",
      "126      1\n",
      "128      1\n",
      "138      1\n",
      "155      1\n",
      "40       1\n",
      "576      1\n",
      "Name: Screen Porch, dtype: int64\n",
      "0      874\n",
      "144      1\n",
      "444      1\n",
      "512      1\n",
      "555      1\n",
      "Name: Pool Area, dtype: int64\n",
      "NaN    874\n",
      "Ex       3\n",
      "TA       1\n",
      "Name: Pool QC, dtype: int64\n",
      "NaN      706\n",
      "MnPrv    103\n",
      "GdPrv     35\n",
      "GdWo      32\n",
      "MnWw       2\n",
      "Name: Fence, dtype: int64\n",
      "NaN     837\n",
      "Shed     39\n",
      "Gar2      1\n",
      "Othr      1\n",
      "Name: Misc Feature, dtype: int64\n",
      "0        840\n",
      "400        6\n",
      "500        5\n",
      "450        4\n",
      "700        3\n",
      "2000       2\n",
      "650        2\n",
      "1500       2\n",
      "600        2\n",
      "750        1\n",
      "620        1\n",
      "560        1\n",
      "1512       1\n",
      "490        "
     ]
    },
    {
     "data": {
      "text/html": [
       "<b>limit_output extension: Maximum message size of 10000 exceeded with 10518 characters</b>"
      ]
     },
     "metadata": {},
     "output_type": "display_data"
    }
   ],
   "source": [
    "for col in df.columns:\n",
    "    print(df[col].value_counts(dropna=False))"
   ]
  },
  {
   "cell_type": "code",
   "execution_count": 7,
   "metadata": {
    "ExecuteTime": {
     "end_time": "2021-04-10T00:19:30.529292Z",
     "start_time": "2021-04-10T00:19:30.500027Z"
    }
   },
   "outputs": [
    {
     "name": "stdout",
     "output_type": "stream",
     "text": [
      "TA     796\n",
      "NaN     45\n",
      "Fa      27\n",
      "Po       6\n",
      "Gd       3\n",
      "Ex       1\n",
      "Name: Garage Cond, dtype: int64\n",
      "Y    790\n",
      "N     65\n",
      "P     23\n",
      "Name: Paved Drive, dtype: int64\n",
      "0      451\n",
      "192     27\n",
      "100     21\n",
      "168     20\n",
      "144     15\n",
      "      ... \n",
      "169      1\n",
      "165      1\n",
      "164      1\n",
      "161      1\n",
      "690      1\n",
      "Name: Wood Deck SF, Length: 210, dtype: int64\n",
      "0      388\n",
      "28      17\n",
      "36      14\n",
      "24      13\n",
      "48      12\n",
      "      ... \n",
      "140      1\n",
      "139      1\n",
      "138      1\n",
      "137      1\n",
      "742      1\n",
      "Name: Open Porch SF, Length: 162, dtype: int64\n",
      "0       746\n",
      "112       9\n",
      "144       5\n",
      "192       4\n",
      "168       4\n",
      "       ... \n",
      "183       1\n",
      "184       1\n",
      "185       1\n",
      "56        1\n",
      "1012      1\n",
      "Name: Enclosed Porch, Length: 83, dtype: int64\n",
      "0      867\n",
      "23       1\n",
      "130      1\n",
      "174      1\n",
      "180      1\n",
      "196      1\n",
      "216      1\n",
      "219      1\n",
      "225      1\n",
      "238      1\n",
      "320      1\n",
      "360      1\n",
      "Name: 3Ssn Porch, dtype: int64\n",
      "0      803\n",
      "192      4\n",
      "144      4\n",
      "160      4\n",
      "200      4\n",
      "216      3\n",
      "256      3\n",
      "120      3\n",
      "153      2\n",
      "156      2\n",
      "115      2\n",
      "168      2\n",
      "189      1\n",
      "195      1\n",
      "196      1\n",
      "197      1\n",
      "198      1\n",
      "204      1\n",
      "184      1\n",
      "221      1\n",
      "225      1\n",
      "227      1\n",
      "228      1\n",
      "259      1\n",
      "263      1\n",
      "266      1\n",
      "273      1\n",
      "287      1\n",
      "288      1\n",
      "185      1\n",
      "166      1\n",
      "178      1\n",
      "112      1\n",
      "60       1\n",
      "63       1\n",
      "80       1\n",
      "90       1\n",
      "92       1\n",
      "99       1\n",
      "100      1\n",
      "108      1\n",
      "110      1\n",
      "116      1\n",
      "175      1\n",
      "117      1\n",
      "119      1\n",
      "121      1\n",
      "123      1\n",
      "126      1\n",
      "128      1\n",
      "138      1\n",
      "155      1\n",
      "40       1\n",
      "576      1\n",
      "Name: Screen Porch, dtype: int64\n",
      "0      874\n",
      "144      1\n",
      "444      1\n",
      "512      1\n",
      "555      1\n",
      "Name: Pool Area, dtype: int64\n",
      "NaN    874\n",
      "Ex       3\n",
      "TA       1\n",
      "Name: Pool QC, dtype: int64\n",
      "NaN      706\n",
      "MnPrv    103\n",
      "GdPrv     35\n",
      "GdWo      32\n",
      "MnWw       2\n",
      "Name: Fence, dtype: int64\n",
      "NaN     837\n",
      "Shed     39\n",
      "Gar2      1\n",
      "Othr      1\n",
      "Name: Misc Feature, dtype: int64\n",
      "0        840\n",
      "400        6\n",
      "500        5\n",
      "450        4\n",
      "700        3\n",
      "2000       2\n",
      "650        2\n",
      "1500       2\n",
      "600        2\n",
      "750        1\n",
      "620        1\n",
      "560        1\n",
      "1512       1\n",
      "490        1\n",
      "15500      1\n",
      "480        1\n",
      "420        1\n",
      "1400       1\n",
      "350        1\n",
      "1200       1\n",
      "1000       1\n",
      "Name: Misc Val, dtype: int64\n",
      "6     153\n",
      "7     146\n",
      "5     138\n",
      "4      71\n",
      "8      66\n",
      "3      64\n",
      "9      52\n",
      "10     49\n",
      "1      44\n",
      "11     40\n",
      "2      29\n",
      "12     26\n",
      "Name: Mo Sold, dtype: int64\n",
      "2009    202\n",
      "2007    195\n",
      "2006    187\n",
      "2008    187\n",
      "2010    107\n",
      "Name: Yr Sold, dtype: int64\n",
      "WD       755\n",
      "New       78\n",
      "COD       24\n",
      "ConLD      9\n",
      "ConLw      3\n",
      "Oth        3\n",
      "ConLI      2\n",
      "CWD        2\n",
      "VWD        1\n",
      "Con        1\n",
      "Name: Sale Type, dtype: int64\n"
     ]
    }
   ],
   "source": [
    "for col in df.columns[-15:]:\n",
    "    print(df[col].value_counts(dropna=False))"
   ]
  },
  {
   "cell_type": "code",
   "execution_count": 8,
   "metadata": {
    "ExecuteTime": {
     "end_time": "2021-04-10T00:19:30.544668Z",
     "start_time": "2021-04-10T00:19:30.530284Z"
    }
   },
   "outputs": [
    {
     "data": {
      "text/plain": [
       "count    718.000000\n",
       "mean      69.545961\n",
       "std       23.533945\n",
       "min       21.000000\n",
       "25%       59.000000\n",
       "50%       68.000000\n",
       "75%       80.000000\n",
       "max      182.000000\n",
       "Name: Lot Frontage, dtype: float64"
      ]
     },
     "execution_count": 8,
     "metadata": {},
     "output_type": "execute_result"
    }
   ],
   "source": [
    "df['Lot Frontage'].describe()"
   ]
  },
  {
   "cell_type": "code",
   "execution_count": 9,
   "metadata": {
    "ExecuteTime": {
     "end_time": "2021-04-10T00:19:30.560069Z",
     "start_time": "2021-04-10T00:19:30.546155Z"
    }
   },
   "outputs": [
    {
     "data": {
      "text/plain": [
       "count       878.000000\n",
       "mean      10307.033030\n",
       "std       10002.674602\n",
       "min        1477.000000\n",
       "25%        7297.250000\n",
       "50%        9446.000000\n",
       "75%       11589.000000\n",
       "max      215245.000000\n",
       "Name: Lot Area, dtype: float64"
      ]
     },
     "execution_count": 9,
     "metadata": {},
     "output_type": "execute_result"
    }
   ],
   "source": [
    "df['Lot Area'].describe()"
   ]
  },
  {
   "cell_type": "code",
   "execution_count": 10,
   "metadata": {
    "ExecuteTime": {
     "end_time": "2021-04-10T00:19:30.575420Z",
     "start_time": "2021-04-10T00:19:30.561058Z"
    }
   },
   "outputs": [
    {
     "data": {
      "text/plain": [
       "count     878.000000\n",
       "mean     1970.492027\n",
       "std        30.395895\n",
       "min      1880.000000\n",
       "25%      1954.000000\n",
       "50%      1972.000000\n",
       "75%      1999.750000\n",
       "max      2010.000000\n",
       "Name: Year Built, dtype: float64"
      ]
     },
     "execution_count": 10,
     "metadata": {},
     "output_type": "execute_result"
    }
   ],
   "source": [
    "df['Year Built'].describe()"
   ]
  },
  {
   "cell_type": "code",
   "execution_count": 11,
   "metadata": {
    "ExecuteTime": {
     "end_time": "2021-04-10T00:19:30.590821Z",
     "start_time": "2021-04-10T00:19:30.576908Z"
    }
   },
   "outputs": [
    {
     "data": {
      "text/plain": [
       "0"
      ]
     },
     "execution_count": 11,
     "metadata": {},
     "output_type": "execute_result"
    }
   ],
   "source": [
    "df['Year Remod/Add'].isna().sum()"
   ]
  },
  {
   "cell_type": "code",
   "execution_count": 12,
   "metadata": {
    "ExecuteTime": {
     "end_time": "2021-04-10T00:19:30.606196Z",
     "start_time": "2021-04-10T00:19:30.592284Z"
    }
   },
   "outputs": [
    {
     "data": {
      "text/plain": [
       "count     878.000000\n",
       "mean     1984.417995\n",
       "std        20.450725\n",
       "min      1950.000000\n",
       "25%      1967.000000\n",
       "50%      1992.000000\n",
       "75%      2003.000000\n",
       "max      2010.000000\n",
       "Name: Year Remod/Add, dtype: float64"
      ]
     },
     "execution_count": 12,
     "metadata": {},
     "output_type": "execute_result"
    }
   ],
   "source": [
    "df['Year Remod/Add'].describe()"
   ]
  },
  {
   "cell_type": "code",
   "execution_count": 13,
   "metadata": {
    "ExecuteTime": {
     "end_time": "2021-04-10T00:19:30.621548Z",
     "start_time": "2021-04-10T00:19:30.607163Z"
    }
   },
   "outputs": [
    {
     "data": {
      "text/plain": [
       "Index(['Id', 'PID', 'MS SubClass', 'MS Zoning', 'Lot Frontage', 'Lot Area',\n",
       "       'Street', 'Alley', 'Lot Shape', 'Land Contour', 'Utilities',\n",
       "       'Lot Config', 'Land Slope', 'Neighborhood', 'Condition 1',\n",
       "       'Condition 2', 'Bldg Type', 'House Style', 'Overall Qual',\n",
       "       'Overall Cond', 'Year Built', 'Year Remod/Add', 'Roof Style',\n",
       "       'Roof Matl', 'Exterior 1st', 'Exterior 2nd', 'Mas Vnr Type',\n",
       "       'Mas Vnr Area', 'Exter Qual', 'Exter Cond', 'Foundation', 'Bsmt Qual',\n",
       "       'Bsmt Cond', 'Bsmt Exposure', 'BsmtFin Type 1', 'BsmtFin SF 1',\n",
       "       'BsmtFin Type 2', 'BsmtFin SF 2', 'Bsmt Unf SF', 'Total Bsmt SF',\n",
       "       'Heating', 'Heating QC', 'Central Air', 'Electrical', '1st Flr SF',\n",
       "       '2nd Flr SF', 'Low Qual Fin SF', 'Gr Liv Area', 'Bsmt Full Bath',\n",
       "       'Bsmt Half Bath', 'Full Bath', 'Half Bath', 'Bedroom AbvGr',\n",
       "       'Kitchen AbvGr', 'Kitchen Qual', 'TotRms AbvGrd', 'Functional',\n",
       "       'Fireplaces', 'Fireplace Qu', 'Garage Type', 'Garage Yr Blt',\n",
       "       'Garage Finish', 'Garage Cars', 'Garage Area', 'Garage Qual',\n",
       "       'Garage Cond', 'Paved Drive', 'Wood Deck SF', 'Open Porch SF',\n",
       "       'Enclosed Porch', '3Ssn Porch', 'Screen Porch', 'Pool Area', 'Pool QC',\n",
       "       'Fence', 'Misc Feature', 'Misc Val', 'Mo Sold', 'Yr Sold', 'Sale Type'],\n",
       "      dtype='object')"
      ]
     },
     "execution_count": 13,
     "metadata": {},
     "output_type": "execute_result"
    }
   ],
   "source": [
    "df.columns"
   ]
  },
  {
   "cell_type": "code",
   "execution_count": 14,
   "metadata": {
    "ExecuteTime": {
     "end_time": "2021-04-10T00:19:30.636924Z",
     "start_time": "2021-04-10T00:19:30.623035Z"
    }
   },
   "outputs": [],
   "source": [
    "df.drop(columns=['PID', 'MS SubClass', 'Utilities', 'Condition 2', 'Year Remod/Add', 'Exterior 2nd', \n",
    "                'Mas Vnr Area', 'Bsmt Exposure', 'BsmtFin SF 1', 'BsmtFin Type 2', 'BsmtFin SF 2', \n",
    "                 'Bsmt Unf SF', '1st Flr SF', '2nd Flr SF', 'Low Qual Fin SF', 'Garage Yr Blt',\n",
    "                'Garage Cars', 'Garage Qual', 'Garage Cond', 'Pool QC', 'Misc Val', 'Sale Type'],\n",
    "       inplace=True)"
   ]
  },
  {
   "cell_type": "code",
   "execution_count": 15,
   "metadata": {
    "ExecuteTime": {
     "end_time": "2021-04-10T00:19:30.652324Z",
     "start_time": "2021-04-10T00:19:30.638412Z"
    }
   },
   "outputs": [
    {
     "data": {
      "text/html": [
       "<div>\n",
       "<style scoped>\n",
       "    .dataframe tbody tr th:only-of-type {\n",
       "        vertical-align: middle;\n",
       "    }\n",
       "\n",
       "    .dataframe tbody tr th {\n",
       "        vertical-align: top;\n",
       "    }\n",
       "\n",
       "    .dataframe thead th {\n",
       "        text-align: right;\n",
       "    }\n",
       "</style>\n",
       "<table border=\"1\" class=\"dataframe\">\n",
       "  <thead>\n",
       "    <tr style=\"text-align: right;\">\n",
       "      <th></th>\n",
       "      <th>Id</th>\n",
       "      <th>MS Zoning</th>\n",
       "      <th>Lot Frontage</th>\n",
       "      <th>Lot Area</th>\n",
       "      <th>Street</th>\n",
       "      <th>Alley</th>\n",
       "      <th>Lot Shape</th>\n",
       "      <th>Land Contour</th>\n",
       "      <th>Lot Config</th>\n",
       "      <th>Land Slope</th>\n",
       "      <th>...</th>\n",
       "      <th>Wood Deck SF</th>\n",
       "      <th>Open Porch SF</th>\n",
       "      <th>Enclosed Porch</th>\n",
       "      <th>3Ssn Porch</th>\n",
       "      <th>Screen Porch</th>\n",
       "      <th>Pool Area</th>\n",
       "      <th>Fence</th>\n",
       "      <th>Misc Feature</th>\n",
       "      <th>Mo Sold</th>\n",
       "      <th>Yr Sold</th>\n",
       "    </tr>\n",
       "  </thead>\n",
       "  <tbody>\n",
       "    <tr>\n",
       "      <th>0</th>\n",
       "      <td>2658</td>\n",
       "      <td>RM</td>\n",
       "      <td>69.0</td>\n",
       "      <td>9142</td>\n",
       "      <td>Pave</td>\n",
       "      <td>Grvl</td>\n",
       "      <td>Reg</td>\n",
       "      <td>Lvl</td>\n",
       "      <td>Inside</td>\n",
       "      <td>Gtl</td>\n",
       "      <td>...</td>\n",
       "      <td>0</td>\n",
       "      <td>60</td>\n",
       "      <td>112</td>\n",
       "      <td>0</td>\n",
       "      <td>0</td>\n",
       "      <td>0</td>\n",
       "      <td>NaN</td>\n",
       "      <td>NaN</td>\n",
       "      <td>4</td>\n",
       "      <td>2006</td>\n",
       "    </tr>\n",
       "    <tr>\n",
       "      <th>1</th>\n",
       "      <td>2718</td>\n",
       "      <td>RL</td>\n",
       "      <td>NaN</td>\n",
       "      <td>9662</td>\n",
       "      <td>Pave</td>\n",
       "      <td>NaN</td>\n",
       "      <td>IR1</td>\n",
       "      <td>Lvl</td>\n",
       "      <td>Inside</td>\n",
       "      <td>Gtl</td>\n",
       "      <td>...</td>\n",
       "      <td>170</td>\n",
       "      <td>0</td>\n",
       "      <td>0</td>\n",
       "      <td>0</td>\n",
       "      <td>0</td>\n",
       "      <td>0</td>\n",
       "      <td>NaN</td>\n",
       "      <td>NaN</td>\n",
       "      <td>8</td>\n",
       "      <td>2006</td>\n",
       "    </tr>\n",
       "    <tr>\n",
       "      <th>2</th>\n",
       "      <td>2414</td>\n",
       "      <td>RL</td>\n",
       "      <td>58.0</td>\n",
       "      <td>17104</td>\n",
       "      <td>Pave</td>\n",
       "      <td>NaN</td>\n",
       "      <td>IR1</td>\n",
       "      <td>Lvl</td>\n",
       "      <td>Inside</td>\n",
       "      <td>Gtl</td>\n",
       "      <td>...</td>\n",
       "      <td>100</td>\n",
       "      <td>24</td>\n",
       "      <td>0</td>\n",
       "      <td>0</td>\n",
       "      <td>0</td>\n",
       "      <td>0</td>\n",
       "      <td>NaN</td>\n",
       "      <td>NaN</td>\n",
       "      <td>9</td>\n",
       "      <td>2006</td>\n",
       "    </tr>\n",
       "    <tr>\n",
       "      <th>3</th>\n",
       "      <td>1989</td>\n",
       "      <td>RM</td>\n",
       "      <td>60.0</td>\n",
       "      <td>8520</td>\n",
       "      <td>Pave</td>\n",
       "      <td>NaN</td>\n",
       "      <td>Reg</td>\n",
       "      <td>Lvl</td>\n",
       "      <td>Inside</td>\n",
       "      <td>Gtl</td>\n",
       "      <td>...</td>\n",
       "      <td>0</td>\n",
       "      <td>0</td>\n",
       "      <td>184</td>\n",
       "      <td>0</td>\n",
       "      <td>0</td>\n",
       "      <td>0</td>\n",
       "      <td>NaN</td>\n",
       "      <td>NaN</td>\n",
       "      <td>7</td>\n",
       "      <td>2007</td>\n",
       "    </tr>\n",
       "    <tr>\n",
       "      <th>4</th>\n",
       "      <td>625</td>\n",
       "      <td>RL</td>\n",
       "      <td>NaN</td>\n",
       "      <td>9500</td>\n",
       "      <td>Pave</td>\n",
       "      <td>NaN</td>\n",
       "      <td>IR1</td>\n",
       "      <td>Lvl</td>\n",
       "      <td>Inside</td>\n",
       "      <td>Gtl</td>\n",
       "      <td>...</td>\n",
       "      <td>0</td>\n",
       "      <td>76</td>\n",
       "      <td>0</td>\n",
       "      <td>0</td>\n",
       "      <td>185</td>\n",
       "      <td>0</td>\n",
       "      <td>NaN</td>\n",
       "      <td>NaN</td>\n",
       "      <td>7</td>\n",
       "      <td>2009</td>\n",
       "    </tr>\n",
       "  </tbody>\n",
       "</table>\n",
       "<p>5 rows × 58 columns</p>\n",
       "</div>"
      ],
      "text/plain": [
       "     Id MS Zoning  Lot Frontage  Lot Area Street Alley Lot Shape Land Contour  \\\n",
       "0  2658        RM          69.0      9142   Pave  Grvl       Reg          Lvl   \n",
       "1  2718        RL           NaN      9662   Pave   NaN       IR1          Lvl   \n",
       "2  2414        RL          58.0     17104   Pave   NaN       IR1          Lvl   \n",
       "3  1989        RM          60.0      8520   Pave   NaN       Reg          Lvl   \n",
       "4   625        RL           NaN      9500   Pave   NaN       IR1          Lvl   \n",
       "\n",
       "  Lot Config Land Slope  ... Wood Deck SF Open Porch SF Enclosed Porch  \\\n",
       "0     Inside        Gtl  ...            0            60            112   \n",
       "1     Inside        Gtl  ...          170             0              0   \n",
       "2     Inside        Gtl  ...          100            24              0   \n",
       "3     Inside        Gtl  ...            0             0            184   \n",
       "4     Inside        Gtl  ...            0            76              0   \n",
       "\n",
       "  3Ssn Porch  Screen Porch  Pool Area  Fence Misc Feature Mo Sold Yr Sold  \n",
       "0          0             0          0    NaN          NaN       4    2006  \n",
       "1          0             0          0    NaN          NaN       8    2006  \n",
       "2          0             0          0    NaN          NaN       9    2006  \n",
       "3          0             0          0    NaN          NaN       7    2007  \n",
       "4          0           185          0    NaN          NaN       7    2009  \n",
       "\n",
       "[5 rows x 58 columns]"
      ]
     },
     "execution_count": 15,
     "metadata": {},
     "output_type": "execute_result"
    }
   ],
   "source": [
    "df.head()"
   ]
  },
  {
   "cell_type": "code",
   "execution_count": 16,
   "metadata": {
    "ExecuteTime": {
     "end_time": "2021-04-10T00:19:30.667700Z",
     "start_time": "2021-04-10T00:19:30.653291Z"
    }
   },
   "outputs": [
    {
     "data": {
      "text/plain": [
       "1    833\n",
       "0     45\n",
       "Name: MS Zoning, dtype: int64"
      ]
     },
     "execution_count": 16,
     "metadata": {},
     "output_type": "execute_result"
    }
   ],
   "source": [
    "# Separating into Residential zoning or not\n",
    "df['MS Zoning'] = df['MS Zoning'].map(lambda x: 1 if x[0] == 'R' else 0)\n",
    "df['MS Zoning'].value_counts()"
   ]
  },
  {
   "cell_type": "code",
   "execution_count": 17,
   "metadata": {
    "ExecuteTime": {
     "end_time": "2021-04-10T00:19:30.683076Z",
     "start_time": "2021-04-10T00:19:30.668669Z"
    }
   },
   "outputs": [
    {
     "data": {
      "text/plain": [
       "160"
      ]
     },
     "execution_count": 17,
     "metadata": {},
     "output_type": "execute_result"
    }
   ],
   "source": [
    "df['Lot Frontage'].isna().sum()"
   ]
  },
  {
   "cell_type": "code",
   "execution_count": 18,
   "metadata": {
    "ExecuteTime": {
     "end_time": "2021-04-10T00:19:30.698458Z",
     "start_time": "2021-04-10T00:19:30.684540Z"
    }
   },
   "outputs": [
    {
     "data": {
      "text/plain": [
       "0    498\n",
       "1    380\n",
       "Name: Lot Frontage, dtype: int64"
      ]
     },
     "execution_count": 18,
     "metadata": {},
     "output_type": "execute_result"
    }
   ],
   "source": [
    "# I'm assuming the NaN values mean 0, separating into <within IQR of frontage or not>\n",
    "df['Lot Frontage'] = df['Lot Frontage'].map(lambda x: 1 if 58 <= x <= 80 else 0)\n",
    "df['Lot Frontage'].value_counts()"
   ]
  },
  {
   "cell_type": "code",
   "execution_count": 19,
   "metadata": {
    "ExecuteTime": {
     "end_time": "2021-04-10T00:19:30.713832Z",
     "start_time": "2021-04-10T00:19:30.699419Z"
    }
   },
   "outputs": [
    {
     "data": {
      "text/plain": [
       "count       878.000000\n",
       "mean      10307.033030\n",
       "std       10002.674602\n",
       "min        1477.000000\n",
       "25%        7297.250000\n",
       "50%        9446.000000\n",
       "75%       11589.000000\n",
       "max      215245.000000\n",
       "Name: Lot Area, dtype: float64"
      ]
     },
     "execution_count": 19,
     "metadata": {},
     "output_type": "execute_result"
    }
   ],
   "source": [
    "df['Lot Area'].describe()"
   ]
  },
  {
   "cell_type": "code",
   "execution_count": 20,
   "metadata": {
    "ExecuteTime": {
     "end_time": "2021-04-10T00:19:30.729201Z",
     "start_time": "2021-04-10T00:19:30.714824Z"
    }
   },
   "outputs": [
    {
     "data": {
      "text/plain": [
       "215245    1\n",
       "164660    1\n",
       "56600     1\n",
       "45600     1\n",
       "36500     1\n",
       "35760     1\n",
       "35133     1\n",
       "33983     1\n",
       "31220     1\n",
       "29959     1\n",
       "Name: Lot Area, dtype: int64"
      ]
     },
     "execution_count": 20,
     "metadata": {},
     "output_type": "execute_result"
    }
   ],
   "source": [
    "df['Lot Area'].value_counts(dropna=False).sort_index(ascending=False).head(10)"
   ]
  },
  {
   "cell_type": "code",
   "execution_count": 21,
   "metadata": {
    "ExecuteTime": {
     "end_time": "2021-04-10T00:19:30.744556Z",
     "start_time": "2021-04-10T00:19:30.733147Z"
    }
   },
   "outputs": [],
   "source": [
    "# Already binary column, just converting to 1/0\n",
    "df.Street = df.Street.map(lambda x: 1 if x == 'Pave' else 0)"
   ]
  },
  {
   "cell_type": "code",
   "execution_count": 22,
   "metadata": {
    "ExecuteTime": {
     "end_time": "2021-04-10T00:19:30.759959Z",
     "start_time": "2021-04-10T00:19:30.746540Z"
    }
   },
   "outputs": [],
   "source": [
    "# Has alley access or not\n",
    "df.Alley = df.Alley.map(lambda x: 1 if x in ['Grvl', 'Pave'] else 0)"
   ]
  },
  {
   "cell_type": "code",
   "execution_count": 23,
   "metadata": {
    "ExecuteTime": {
     "end_time": "2021-04-10T00:19:30.775332Z",
     "start_time": "2021-04-10T00:19:30.760954Z"
    }
   },
   "outputs": [],
   "source": [
    "# Regular lot shape or not\n",
    "df['Lot Shape'] = df['Lot Shape'].map(lambda x: 1 if x == 'Reg' else 0)"
   ]
  },
  {
   "cell_type": "code",
   "execution_count": 24,
   "metadata": {
    "ExecuteTime": {
     "end_time": "2021-04-10T00:19:30.790684Z",
     "start_time": "2021-04-10T00:19:30.776324Z"
    }
   },
   "outputs": [],
   "source": [
    "# Flat lot or not\n",
    "df['Land Contour'] = df['Land Contour'].map(lambda x: 1 if x == 'Lvl' else 0)"
   ]
  },
  {
   "cell_type": "code",
   "execution_count": 25,
   "metadata": {
    "ExecuteTime": {
     "end_time": "2021-04-10T00:19:30.806087Z",
     "start_time": "2021-04-10T00:19:30.791676Z"
    }
   },
   "outputs": [],
   "source": [
    "# Laziness is my passion\n",
    "def binarizer(col, operator, condition):\n",
    "    if operator == 'is':\n",
    "        return df[col].map(lambda x: 1 if x == condition else 0)\n",
    "    elif operator == 'is not':\n",
    "        return df[col].map(lambda x: 1 if x != condition else 0)\n",
    "    elif operator == 'lt':\n",
    "        return df[col].map(lambda x: 1 if x < condition else 0)\n",
    "    elif operator == 'in':\n",
    "        return df[col].map(lambda x: 1 if x in condition else 0)\n",
    "    elif operator == 'gte':\n",
    "        return df[col].map(lambda x: 1 if x >= condition else 0)\n",
    "    "
   ]
  },
  {
   "cell_type": "code",
   "execution_count": 26,
   "metadata": {
    "ExecuteTime": {
     "end_time": "2021-04-10T00:19:30.821461Z",
     "start_time": "2021-04-10T00:19:30.807083Z"
    }
   },
   "outputs": [],
   "source": [
    "# Inside lot or not (not corner lot, cul-de-sac, other weird lot type)\n",
    "df['Lot Config'] = binarizer('Lot Config', 'is', 'Inside')"
   ]
  },
  {
   "cell_type": "code",
   "execution_count": 27,
   "metadata": {
    "ExecuteTime": {
     "end_time": "2021-04-10T00:19:30.836835Z",
     "start_time": "2021-04-10T00:19:30.822456Z"
    }
   },
   "outputs": [
    {
     "data": {
      "text/plain": [
       "Norm      755\n",
       "Feedr      55\n",
       "Artery     22\n",
       "RRAn       14\n",
       "PosN       11\n",
       "PosA        8\n",
       "RRAe        7\n",
       "RRNe        3\n",
       "RRNn        3\n",
       "Name: Condition 1, dtype: int64"
      ]
     },
     "execution_count": 27,
     "metadata": {},
     "output_type": "execute_result"
    }
   ],
   "source": [
    "df['Condition 1'].value_counts()"
   ]
  },
  {
   "cell_type": "code",
   "execution_count": 28,
   "metadata": {
    "ExecuteTime": {
     "end_time": "2021-04-10T00:19:30.852214Z",
     "start_time": "2021-04-10T00:19:30.837835Z"
    }
   },
   "outputs": [],
   "source": [
    "# Making this one just <is_near_railroad>, as most of these are normal anyway, and\n",
    "# I think railroad proximity will have a serious impact on house value\n",
    "df['Condition 1'] = binarizer('Condition 1', 'in', ['RRAn', 'RRAe', 'RRNn', 'RRNe'])"
   ]
  },
  {
   "cell_type": "code",
   "execution_count": 29,
   "metadata": {
    "ExecuteTime": {
     "end_time": "2021-04-10T00:19:30.867588Z",
     "start_time": "2021-04-10T00:19:30.853179Z"
    }
   },
   "outputs": [],
   "source": [
    "# Single family house or not\n",
    "df['Bldg Type'] = binarizer('Bldg Type', 'is', '1Fam')"
   ]
  },
  {
   "cell_type": "code",
   "execution_count": 30,
   "metadata": {
    "ExecuteTime": {
     "end_time": "2021-04-10T00:19:30.882954Z",
     "start_time": "2021-04-10T00:19:30.868580Z"
    }
   },
   "outputs": [],
   "source": [
    "# 1 story house or not\n",
    "df['House Style'] = binarizer('House Style', 'is', '1Story')"
   ]
  },
  {
   "cell_type": "code",
   "execution_count": 31,
   "metadata": {
    "ExecuteTime": {
     "end_time": "2021-04-10T00:19:30.898337Z",
     "start_time": "2021-04-10T00:19:30.884441Z"
    }
   },
   "outputs": [],
   "source": [
    "# House built before 1970 or not\n",
    "df['Year Built'] = binarizer('Year Built', 'lt', 1970)"
   ]
  },
  {
   "cell_type": "code",
   "execution_count": 32,
   "metadata": {
    "ExecuteTime": {
     "end_time": "2021-04-10T00:19:30.913716Z",
     "start_time": "2021-04-10T00:19:30.899804Z"
    }
   },
   "outputs": [],
   "source": [
    "# Gable roof or not\n",
    "df['Roof Style'] = binarizer('Roof Style', 'is', 'Gable')"
   ]
  },
  {
   "cell_type": "code",
   "execution_count": 33,
   "metadata": {
    "ExecuteTime": {
     "end_time": "2021-04-10T00:19:30.929104Z",
     "start_time": "2021-04-10T00:19:30.914684Z"
    }
   },
   "outputs": [],
   "source": [
    "# Standard composite shingles on the roof or not\n",
    "df['Roof Matl'] = binarizer('Roof Matl', 'is', 'CompShg')"
   ]
  },
  {
   "cell_type": "code",
   "execution_count": 34,
   "metadata": {
    "ExecuteTime": {
     "end_time": "2021-04-10T00:19:30.944444Z",
     "start_time": "2021-04-10T00:19:30.930059Z"
    }
   },
   "outputs": [],
   "source": [
    "# \"Standard\" vinyl siding or not\n",
    "df['Exterior 1st'] = binarizer('Exterior 1st', 'is', 'VinylSd')"
   ]
  },
  {
   "cell_type": "code",
   "execution_count": 35,
   "metadata": {
    "ExecuteTime": {
     "end_time": "2021-04-10T00:19:30.959848Z",
     "start_time": "2021-04-10T00:19:30.945435Z"
    }
   },
   "outputs": [],
   "source": [
    "# Has masonry veneer or not\n",
    "df['Mas Vnr Type'] = binarizer('Mas Vnr Type', 'is not', 'None')"
   ]
  },
  {
   "cell_type": "code",
   "execution_count": 36,
   "metadata": {
    "ExecuteTime": {
     "end_time": "2021-04-10T00:19:30.975228Z",
     "start_time": "2021-04-10T00:19:30.961307Z"
    }
   },
   "outputs": [],
   "source": [
    "# Exterior material quality above average\n",
    "df['Exter Qual'] = binarizer('Exter Qual', 'in', ['Gd', 'Ex'])"
   ]
  },
  {
   "cell_type": "code",
   "execution_count": 37,
   "metadata": {
    "ExecuteTime": {
     "end_time": "2021-04-10T00:19:30.990572Z",
     "start_time": "2021-04-10T00:19:30.976187Z"
    }
   },
   "outputs": [],
   "source": [
    "gdex = ['Gd', 'Ex']"
   ]
  },
  {
   "cell_type": "code",
   "execution_count": 38,
   "metadata": {
    "ExecuteTime": {
     "end_time": "2021-04-10T00:19:31.005972Z",
     "start_time": "2021-04-10T00:19:30.991564Z"
    }
   },
   "outputs": [],
   "source": [
    "# Current Exterior condition above average or not\n",
    "df['Exter Cond'] = binarizer('Exter Cond', 'in', gdex)"
   ]
  },
  {
   "cell_type": "code",
   "execution_count": 39,
   "metadata": {
    "ExecuteTime": {
     "end_time": "2021-04-10T00:19:31.021348Z",
     "start_time": "2021-04-10T00:19:31.006939Z"
    }
   },
   "outputs": [],
   "source": [
    "# Basement ceiling height above average\n",
    "df['Bsmt Qual'] = binarizer('Bsmt Qual', 'in', gdex)"
   ]
  },
  {
   "cell_type": "code",
   "execution_count": 40,
   "metadata": {
    "ExecuteTime": {
     "end_time": "2021-04-10T00:19:31.036700Z",
     "start_time": "2021-04-10T00:19:31.022349Z"
    }
   },
   "outputs": [],
   "source": [
    "# Basement condition above average\n",
    "df['Bsmt Cond'] = binarizer('Bsmt Cond', 'in', gdex)"
   ]
  },
  {
   "cell_type": "code",
   "execution_count": 41,
   "metadata": {
    "ExecuteTime": {
     "end_time": "2021-04-10T00:19:31.052099Z",
     "start_time": "2021-04-10T00:19:31.037692Z"
    }
   },
   "outputs": [
    {
     "data": {
      "text/plain": [
       "Unf    248\n",
       "GLQ    243\n",
       "ALQ    136\n",
       "Rec    105\n",
       "BLQ     69\n",
       "LwQ     52\n",
       "Name: BsmtFin Type 1, dtype: int64"
      ]
     },
     "execution_count": 41,
     "metadata": {},
     "output_type": "execute_result"
    }
   ],
   "source": [
    "df['BsmtFin Type 1'].value_counts()"
   ]
  },
  {
   "cell_type": "code",
   "execution_count": 42,
   "metadata": {
    "ExecuteTime": {
     "end_time": "2021-04-10T00:19:31.067452Z",
     "start_time": "2021-04-10T00:19:31.053068Z"
    }
   },
   "outputs": [],
   "source": [
    "# is the basement finished or not\n",
    "df['BsmtFin Type 1'] = binarizer('BsmtFin Type 1', 'in', ['GLQ', 'ALQ', 'BLQ', 'Rec', 'LwQ'])"
   ]
  },
  {
   "cell_type": "code",
   "execution_count": 43,
   "metadata": {
    "ExecuteTime": {
     "end_time": "2021-04-10T00:19:31.082828Z",
     "start_time": "2021-04-10T00:19:31.068941Z"
    }
   },
   "outputs": [],
   "source": [
    "# has forced air or not\n",
    "df.Heating = binarizer('Heating', 'is', 'GasA')"
   ]
  },
  {
   "cell_type": "code",
   "execution_count": 44,
   "metadata": {
    "ExecuteTime": {
     "end_time": "2021-04-10T00:19:31.098203Z",
     "start_time": "2021-04-10T00:19:31.085308Z"
    }
   },
   "outputs": [],
   "source": [
    "# Heating qual above avg\n",
    "df['Heating QC'] = binarizer('Heating QC', 'in', gdex)"
   ]
  },
  {
   "cell_type": "code",
   "execution_count": 45,
   "metadata": {
    "ExecuteTime": {
     "end_time": "2021-04-10T00:19:31.113579Z",
     "start_time": "2021-04-10T00:19:31.099195Z"
    }
   },
   "outputs": [],
   "source": [
    "# has central air\n",
    "df['Central Air'] = binarizer('Central Air', 'is', 'Y')"
   ]
  },
  {
   "cell_type": "code",
   "execution_count": 46,
   "metadata": {
    "ExecuteTime": {
     "end_time": "2021-04-10T00:19:31.128983Z",
     "start_time": "2021-04-10T00:19:31.114571Z"
    }
   },
   "outputs": [],
   "source": [
    "# does the house have a standard circuit breaker or something else\n",
    "df.Electrical = binarizer('Electrical', 'is', 'SBrkr')"
   ]
  },
  {
   "cell_type": "code",
   "execution_count": 47,
   "metadata": {
    "ExecuteTime": {
     "end_time": "2021-04-10T00:19:31.144364Z",
     "start_time": "2021-04-10T00:19:31.129976Z"
    }
   },
   "outputs": [],
   "source": [
    "# Is the kitchen quality above avg\n",
    "df['Kitchen Qual'] = binarizer('Kitchen Qual', 'in', gdex)"
   ]
  },
  {
   "cell_type": "code",
   "execution_count": 48,
   "metadata": {
    "ExecuteTime": {
     "end_time": "2021-04-10T00:19:31.159731Z",
     "start_time": "2021-04-10T00:19:31.145352Z"
    }
   },
   "outputs": [],
   "source": [
    "# is the house fully functional or not\n",
    "df.Functional = binarizer('Functional', 'is', 'Typ')"
   ]
  },
  {
   "cell_type": "code",
   "execution_count": 49,
   "metadata": {
    "ExecuteTime": {
     "end_time": "2021-04-10T00:19:31.175107Z",
     "start_time": "2021-04-10T00:19:31.160715Z"
    }
   },
   "outputs": [],
   "source": [
    "# has a fireplace\n",
    "df.Fireplaces = binarizer('Fireplaces', 'gte', 1)"
   ]
  },
  {
   "cell_type": "code",
   "execution_count": 50,
   "metadata": {
    "ExecuteTime": {
     "end_time": "2021-04-10T00:19:31.190459Z",
     "start_time": "2021-04-10T00:19:31.176571Z"
    }
   },
   "outputs": [],
   "source": [
    "# Fireplace quality above avg\n",
    "df['Fireplace Qu'] = binarizer('Fireplace Qu', 'in', gdex)"
   ]
  },
  {
   "cell_type": "code",
   "execution_count": 51,
   "metadata": {
    "ExecuteTime": {
     "end_time": "2021-04-10T00:19:31.205835Z",
     "start_time": "2021-04-10T00:19:31.191451Z"
    }
   },
   "outputs": [
    {
     "data": {
      "text/plain": [
       "Attchd     518\n",
       "Detchd     246\n",
       "BuiltIn     53\n",
       "0           44\n",
       "Basment      9\n",
       "CarPort      4\n",
       "2Types       4\n",
       "Name: Garage Type, dtype: int64"
      ]
     },
     "execution_count": 51,
     "metadata": {},
     "output_type": "execute_result"
    }
   ],
   "source": [
    "df['Garage Type'].fillna(0, inplace=True)\n",
    "df['Garage Type'].value_counts(dropna=False)"
   ]
  },
  {
   "cell_type": "code",
   "execution_count": 52,
   "metadata": {
    "ExecuteTime": {
     "end_time": "2021-04-10T00:19:31.221211Z",
     "start_time": "2021-04-10T00:19:31.206827Z"
    }
   },
   "outputs": [],
   "source": [
    "# has a garage or not\n",
    "df['Garage Type'] = binarizer('Garage Type', 'is not', 0)"
   ]
  },
  {
   "cell_type": "code",
   "execution_count": 53,
   "metadata": {
    "ExecuteTime": {
     "end_time": "2021-04-10T00:19:31.236615Z",
     "start_time": "2021-04-10T00:19:31.222224Z"
    }
   },
   "outputs": [
    {
     "data": {
      "text/plain": [
       "Unf    382\n",
       "RFn    233\n",
       "Fin    218\n",
       "NaN     45\n",
       "Name: Garage Finish, dtype: int64"
      ]
     },
     "execution_count": 53,
     "metadata": {},
     "output_type": "execute_result"
    }
   ],
   "source": [
    "# is the garage a finished space\n",
    "# df['Garage Finish'] = binarizer('Garage Finish', 'in', ['Fin, RFn'])\n",
    "df['Garage Finish'].value_counts(dropna=False)"
   ]
  },
  {
   "cell_type": "code",
   "execution_count": 54,
   "metadata": {
    "ExecuteTime": {
     "end_time": "2021-04-10T00:19:31.251987Z",
     "start_time": "2021-04-10T00:19:31.237611Z"
    }
   },
   "outputs": [],
   "source": [
    "df['Garage Finish'] = df['Garage Finish'].map(lambda x: 1 if x in ['RFn', 'Fin'] else 0)"
   ]
  },
  {
   "cell_type": "code",
   "execution_count": 55,
   "metadata": {
    "ExecuteTime": {
     "end_time": "2021-04-10T00:19:31.267339Z",
     "start_time": "2021-04-10T00:19:31.252982Z"
    }
   },
   "outputs": [],
   "source": [
    "# is the driveway paved\n",
    "df['Paved Drive'] = binarizer('Paved Drive', 'in', ['Y', 'P'])"
   ]
  },
  {
   "cell_type": "code",
   "execution_count": 56,
   "metadata": {
    "ExecuteTime": {
     "end_time": "2021-04-10T00:19:31.282715Z",
     "start_time": "2021-04-10T00:19:31.268854Z"
    }
   },
   "outputs": [
    {
     "data": {
      "text/plain": [
       "Index(['Id', 'MS Zoning', 'Lot Frontage', 'Lot Area', 'Street', 'Alley',\n",
       "       'Lot Shape', 'Land Contour', 'Lot Config', 'Land Slope', 'Neighborhood',\n",
       "       'Condition 1', 'Bldg Type', 'House Style', 'Overall Qual',\n",
       "       'Overall Cond', 'Year Built', 'Roof Style', 'Roof Matl', 'Exterior 1st',\n",
       "       'Mas Vnr Type', 'Exter Qual', 'Exter Cond', 'Foundation', 'Bsmt Qual',\n",
       "       'Bsmt Cond', 'BsmtFin Type 1', 'Total Bsmt SF', 'Heating', 'Heating QC',\n",
       "       'Central Air', 'Electrical', 'Gr Liv Area', 'Bsmt Full Bath',\n",
       "       'Bsmt Half Bath', 'Full Bath', 'Half Bath', 'Bedroom AbvGr',\n",
       "       'Kitchen AbvGr', 'Kitchen Qual', 'TotRms AbvGrd', 'Functional',\n",
       "       'Fireplaces', 'Fireplace Qu', 'Garage Type', 'Garage Finish',\n",
       "       'Garage Area', 'Paved Drive', 'Wood Deck SF', 'Open Porch SF',\n",
       "       'Enclosed Porch', '3Ssn Porch', 'Screen Porch', 'Pool Area', 'Fence',\n",
       "       'Misc Feature', 'Mo Sold', 'Yr Sold'],\n",
       "      dtype='object')"
      ]
     },
     "execution_count": 56,
     "metadata": {},
     "output_type": "execute_result"
    }
   ],
   "source": [
    "df.columns"
   ]
  },
  {
   "cell_type": "code",
   "execution_count": 57,
   "metadata": {
    "ExecuteTime": {
     "end_time": "2021-04-10T00:19:31.298091Z",
     "start_time": "2021-04-10T00:19:31.283707Z"
    }
   },
   "outputs": [],
   "source": [
    "# does the house have <deck> for <deck> in <decks> or a pool\n",
    "cols = ['Wood Deck SF', 'Open Porch SF',\n",
    "       'Enclosed Porch', '3Ssn Porch', 'Screen Porch', 'Pool Area']\n",
    "for col in cols:\n",
    "    df[col] = binarizer(col, 'gte', 1)"
   ]
  },
  {
   "cell_type": "code",
   "execution_count": 58,
   "metadata": {
    "ExecuteTime": {
     "end_time": "2021-04-10T00:19:31.313467Z",
     "start_time": "2021-04-10T00:19:31.300075Z"
    }
   },
   "outputs": [
    {
     "data": {
      "text/plain": [
       "NaN      706\n",
       "MnPrv    103\n",
       "GdPrv     35\n",
       "GdWo      32\n",
       "MnWw       2\n",
       "Name: Fence, dtype: int64"
      ]
     },
     "execution_count": 58,
     "metadata": {},
     "output_type": "execute_result"
    }
   ],
   "source": [
    "df.Fence.value_counts(dropna=False)"
   ]
  },
  {
   "cell_type": "code",
   "execution_count": 59,
   "metadata": {
    "ExecuteTime": {
     "end_time": "2021-04-10T00:19:31.328871Z",
     "start_time": "2021-04-10T00:19:31.314955Z"
    }
   },
   "outputs": [],
   "source": [
    "df.Fence = binarizer('Fence', 'in', ['MnPrv', 'GdPrv', 'GdWo', 'MnWw'])"
   ]
  },
  {
   "cell_type": "code",
   "execution_count": 60,
   "metadata": {
    "ExecuteTime": {
     "end_time": "2021-04-10T00:19:31.344245Z",
     "start_time": "2021-04-10T00:19:31.329871Z"
    }
   },
   "outputs": [
    {
     "data": {
      "text/plain": [
       "NaN     837\n",
       "Shed     39\n",
       "Gar2      1\n",
       "Othr      1\n",
       "Name: Misc Feature, dtype: int64"
      ]
     },
     "execution_count": 60,
     "metadata": {},
     "output_type": "execute_result"
    }
   ],
   "source": [
    "df['Misc Feature'].value_counts(dropna=False)"
   ]
  },
  {
   "cell_type": "code",
   "execution_count": 61,
   "metadata": {
    "ExecuteTime": {
     "end_time": "2021-04-10T00:19:31.359619Z",
     "start_time": "2021-04-10T00:19:31.345211Z"
    }
   },
   "outputs": [],
   "source": [
    "df['Misc Feature'] = binarizer('Misc Feature', 'in', ['Shed', 'Gar2', 'Othr', 'TenC', 'Elev'])"
   ]
  },
  {
   "cell_type": "code",
   "execution_count": 62,
   "metadata": {
    "ExecuteTime": {
     "end_time": "2021-04-10T00:19:31.374971Z",
     "start_time": "2021-04-10T00:19:31.360603Z"
    }
   },
   "outputs": [],
   "source": [
    "df['total_sqft'] = df['Total Bsmt SF'] + df['Gr Liv Area']"
   ]
  },
  {
   "cell_type": "code",
   "execution_count": 63,
   "metadata": {
    "ExecuteTime": {
     "end_time": "2021-04-10T00:19:31.390369Z",
     "start_time": "2021-04-10T00:19:31.375974Z"
    }
   },
   "outputs": [],
   "source": [
    "df['full_baths'] = df['Bsmt Full Bath'] + df['Full Bath']"
   ]
  },
  {
   "cell_type": "code",
   "execution_count": 64,
   "metadata": {
    "ExecuteTime": {
     "end_time": "2021-04-10T00:19:31.405747Z",
     "start_time": "2021-04-10T00:19:31.391381Z"
    }
   },
   "outputs": [],
   "source": [
    "df['half_baths'] = df['Bsmt Half Bath'] + df['Half Bath']"
   ]
  },
  {
   "cell_type": "code",
   "execution_count": 65,
   "metadata": {
    "ExecuteTime": {
     "end_time": "2021-04-10T00:19:31.421145Z",
     "start_time": "2021-04-10T00:19:31.406715Z"
    }
   },
   "outputs": [],
   "source": [
    "df['total_rooms'] = df.full_baths + df.half_baths + df['Kitchen AbvGr'] + df['Bedroom AbvGr']"
   ]
  },
  {
   "cell_type": "code",
   "execution_count": 66,
   "metadata": {
    "ExecuteTime": {
     "end_time": "2021-04-10T00:19:31.436509Z",
     "start_time": "2021-04-10T00:19:31.428070Z"
    }
   },
   "outputs": [],
   "source": [
    "df.drop(columns=['Total Bsmt SF', 'Gr Liv Area', 'Bsmt Full Bath', 'Full Bath', 'Bsmt Half Bath', \n",
    "                'Half Bath', 'Kitchen AbvGr', 'Bedroom AbvGr'], inplace=True)"
   ]
  },
  {
   "cell_type": "code",
   "execution_count": 67,
   "metadata": {
    "ExecuteTime": {
     "end_time": "2021-04-10T00:19:31.451875Z",
     "start_time": "2021-04-10T00:19:31.439975Z"
    }
   },
   "outputs": [
    {
     "data": {
      "text/plain": [
       "Index(['Id', 'MS Zoning', 'Lot Frontage', 'Lot Area', 'Street', 'Alley',\n",
       "       'Lot Shape', 'Land Contour', 'Lot Config', 'Land Slope', 'Neighborhood',\n",
       "       'Condition 1', 'Bldg Type', 'House Style', 'Overall Qual',\n",
       "       'Overall Cond', 'Year Built', 'Roof Style', 'Roof Matl', 'Exterior 1st',\n",
       "       'Mas Vnr Type', 'Exter Qual', 'Exter Cond', 'Foundation', 'Bsmt Qual',\n",
       "       'Bsmt Cond', 'BsmtFin Type 1', 'Heating', 'Heating QC', 'Central Air',\n",
       "       'Electrical', 'Kitchen Qual', 'TotRms AbvGrd', 'Functional',\n",
       "       'Fireplaces', 'Fireplace Qu', 'Garage Type', 'Garage Finish',\n",
       "       'Garage Area', 'Paved Drive', 'Wood Deck SF', 'Open Porch SF',\n",
       "       'Enclosed Porch', '3Ssn Porch', 'Screen Porch', 'Pool Area', 'Fence',\n",
       "       'Misc Feature', 'Mo Sold', 'Yr Sold', 'total_sqft', 'full_baths',\n",
       "       'half_baths', 'total_rooms'],\n",
       "      dtype='object')"
      ]
     },
     "execution_count": 67,
     "metadata": {},
     "output_type": "execute_result"
    }
   ],
   "source": [
    "df.columns"
   ]
  },
  {
   "cell_type": "code",
   "execution_count": 68,
   "metadata": {
    "ExecuteTime": {
     "end_time": "2021-04-10T00:19:31.498007Z",
     "start_time": "2021-04-10T00:19:31.452867Z"
    }
   },
   "outputs": [
    {
     "name": "stdout",
     "output_type": "stream",
     "text": [
      "2       1\n",
      "1188    1\n",
      "1150    1\n",
      "1153    1\n",
      "1154    1\n",
      "       ..\n",
      "2571    1\n",
      "2576    1\n",
      "2370    1\n",
      "530     1\n",
      "359     1\n",
      "Name: Id, Length: 878, dtype: int64\n",
      "1    833\n",
      "0     45\n",
      "Name: MS Zoning, dtype: int64\n",
      "0    498\n",
      "1    380\n",
      "Name: Lot Frontage, dtype: int64\n",
      "7200     16\n",
      "9000     11\n",
      "9600     10\n",
      "8400     10\n",
      "6120      9\n",
      "         ..\n",
      "5470      1\n",
      "4447      1\n",
      "11616     1\n",
      "10594     1\n",
      "11136     1\n",
      "Name: Lot Area, Length: 689, dtype: int64\n",
      "1    873\n",
      "0      5\n",
      "Name: Street, dtype: int64\n",
      "0    820\n",
      "1     58\n",
      "Name: Alley, dtype: int64\n",
      "1    564\n",
      "0    314\n",
      "Name: Lot Shape, dtype: int64\n",
      "1    790\n",
      "0     88\n",
      "Name: Land Contour, dtype: int64\n",
      "1    636\n",
      "0    242\n",
      "Name: Lot Config, dtype: int64\n",
      "Gtl    835\n",
      "Mod     37\n",
      "Sev      6\n",
      "Name: Land Slope, dtype: int64\n",
      "NAmes      133\n",
      "CollgCr     87\n",
      "OldTown     76\n",
      "Somerst     52\n",
      "Edwards     50\n",
      "Gilbert     49\n",
      "NridgHt     44\n",
      "NWAmes      44\n",
      "Sawyer      40\n",
      "SawyerW     38\n",
      "Crawfor     32\n",
      "BrkSide     32\n",
      "Mitchel     32\n",
      "IDOTRR      24\n",
      "Timber      24\n",
      "NoRidge     23\n",
      "ClearCr     17\n",
      "SWISU       16\n",
      "StoneBr     13\n",
      "MeadowV     13\n",
      "BrDale      11\n",
      "Veenker      7\n",
      "NPkVill      6\n",
      "Blmngtn      6\n",
      "Greens       5\n",
      "Blueste      4\n",
      "Name: Neighborhood, dtype: int64\n",
      "0    851\n",
      "1     27\n",
      "Name: Condition 1, dtype: int64\n",
      "1    724\n",
      "0    154\n",
      "Name: Bldg Type, dtype: int64\n",
      "0    456\n",
      "1    422\n",
      "Name: House Style, dtype: int64\n",
      "5     262\n",
      "6     226\n",
      "7     171\n",
      "8     100\n",
      "4      67\n",
      "9      30\n",
      "3      11\n",
      "10      7\n",
      "2       4\n",
      "Name: Overall Qual, dtype: int64\n",
      "5    485\n",
      "6    165\n",
      "7    120\n",
      "8     43\n",
      "4     31\n",
      "3     15\n",
      "9     12\n",
      "2      4\n",
      "1      3\n",
      "Name: Overall Cond, dtype: int64\n",
      "0    476\n",
      "1    402\n",
      "Name: Year Built, dtype: int64\n",
      "1    702\n",
      "0    176\n",
      "Name: Roof Style, dtype: int64\n",
      "1    861\n",
      "0     17\n",
      "Name: Roof Matl, dtype: int64\n",
      "0    576\n",
      "1    302\n",
      "Name: Exterior 1st, dtype: int64\n",
      "0    534\n",
      "1    344\n",
      "Name: Mas Vnr Type, dtype: int64\n",
      "0    561\n",
      "1    317\n",
      "Name: Exter Qual, dtype: int64\n",
      "0    789\n",
      "1     89\n",
      "Name: Exter Cond, dtype: int64\n",
      "PConc     383\n",
      "CBlock    381\n",
      "BrkTil     90\n",
      "Slab       15\n",
      "Stone       6\n",
      "Wood        3\n",
      "Name: Foundation, dtype: int64\n",
      "0    450\n",
      "1    428\n",
      "Name: Bsmt Qual, dtype: int64\n",
      "0    845\n",
      "1     33\n",
      "Name: Bsmt Cond, dtype: int64\n",
      "1    605\n",
      "0    273\n",
      "Name: BsmtFin Type 1, dtype: int64\n",
      "1    866\n",
      "0     12\n",
      "Name: Heating, dtype: int64\n",
      "1    586\n",
      "0    292\n",
      "Name: Heating QC, dtype: int64\n",
      "1    823\n",
      "0     55\n",
      "Name: Central Air, dtype: int64\n",
      "1    813\n",
      "0     65\n",
      "Name: Electrical, dtype: int64\n",
      "0    471\n",
      "1    407\n",
      "Name: Kitchen Qual, dtype: int64\n",
      "6     247\n",
      "5     179\n",
      "7     174\n",
      "8     119\n",
      "4      57\n",
      "9      45\n",
      "10     31\n",
      "3      14\n",
      "11      9\n",
      "12      3\n",
      "Name: TotRms AbvGrd, dtype: int64\n",
      "1    812\n",
      "0     66\n",
      "Name: Functional, dtype: int64\n",
      "1    456\n",
      "0    422\n",
      "Name: Fireplaces, dtype: int64\n",
      "0    646\n",
      "1    232\n",
      "Name: Fireplace Qu, dtype: int64\n",
      "1    834\n",
      "0     44\n",
      "Name: Garage Type, dtype: int64\n",
      "1    451\n",
      "0    427\n",
      "Name: Garage Finish, dtype: int64\n",
      "0       44\n",
      "576     28\n",
      "440     26\n",
      "484     24\n",
      "240     24\n",
      "        ..\n",
      "332      1\n",
      "328      1\n",
      "577      1\n",
      "578      1\n",
      "1014     1\n",
      "Name: Garage Area, Length: 357, dtype: int64\n",
      "1    813\n",
      "0     65\n",
      "Name: Paved Drive, dtype: int64\n",
      "0    451\n",
      "1    427\n",
      "Name: Wood Deck SF, dtype: int64\n",
      "1    490\n",
      "0    388\n",
      "Name: Open Porch SF, dtype: int64\n",
      "0    746\n",
      "1    132\n",
      "Name: Enclosed Porch, dtype: int64\n",
      "0    867\n",
      "1     11\n",
      "Name: 3Ssn Porch, dtype: int64\n",
      "0    803\n",
      "1     75\n",
      "Name: Screen Porch, dtype: int64\n",
      "0    874\n",
      "1      4\n",
      "Name: Pool Area, dtype: int64\n",
      "0    706\n",
      "1    172\n",
      "Name: Fence, dtype: int64\n",
      "0    837\n",
      "1     41\n",
      "Name: Misc Feature, dtype: int64\n",
      "6     153\n",
      "7     146\n",
      "5     138\n",
      "4      71\n",
      "8      66\n",
      "3      64\n",
      "9      52\n",
      "10     49\n",
      "1      44\n",
      "11     40\n",
      "2      29\n",
      "12     26\n",
      "Name: Mo Sold, dtype: int64\n",
      "2009    202\n",
      "2007    195\n",
      "2006    187\n",
      "2008    187\n",
      "2010    107\n",
      "Name: Yr Sold, dtype: int64\n",
      "1728    15\n",
      "1638     7\n",
      "2112     7\n",
      "1890     7\n",
      "1696     6\n",
      "        ..\n",
      "4472     1\n",
      "3366     1\n",
      "4590     1\n",
      "2431     1\n",
      "2045     1\n",
      "Name: total_sqft, Length: 665, dtype: int64\n",
      "2    444\n",
      "1    235\n",
      "3    183\n",
      "4     15\n",
      "6      1\n",
      "Name: full_baths, dtype: int64\n",
      "0    497\n",
      "1    363\n",
      "2     18\n",
      "Name: half_baths, dtype: int64\n",
      "6     249\n",
      "7     198\n",
      "5     162\n",
      "8     127\n",
      "4      81\n",
      "9      38\n",
      "10     10\n",
      "3       5\n",
      "12      5\n",
      "11      2\n",
      "16      1\n",
      "Name: total_rooms, dtype: int64\n"
     ]
    }
   ],
   "source": [
    "for col in df.columns:\n",
    "    print(df[col].value_counts(dropna=False))"
   ]
  },
  {
   "cell_type": "code",
   "execution_count": 69,
   "metadata": {
    "ExecuteTime": {
     "end_time": "2021-04-10T00:19:31.513387Z",
     "start_time": "2021-04-10T00:19:31.498971Z"
    }
   },
   "outputs": [],
   "source": [
    "df.drop(columns=['TotRms AbvGrd'], inplace=True)"
   ]
  },
  {
   "cell_type": "code",
   "execution_count": 70,
   "metadata": {
    "ExecuteTime": {
     "end_time": "2021-04-10T00:19:31.528756Z",
     "start_time": "2021-04-10T00:19:31.514376Z"
    }
   },
   "outputs": [
    {
     "data": {
      "text/plain": [
       "Index(['Id', 'MS Zoning', 'Lot Frontage', 'Lot Area', 'Street', 'Alley',\n",
       "       'Lot Shape', 'Land Contour', 'Lot Config', 'Land Slope', 'Neighborhood',\n",
       "       'Condition 1', 'Bldg Type', 'House Style', 'Overall Qual',\n",
       "       'Overall Cond', 'Year Built', 'Roof Style', 'Roof Matl', 'Exterior 1st',\n",
       "       'Mas Vnr Type', 'Exter Qual', 'Exter Cond', 'Foundation', 'Bsmt Qual',\n",
       "       'Bsmt Cond', 'BsmtFin Type 1', 'Heating', 'Heating QC', 'Central Air',\n",
       "       'Electrical', 'Kitchen Qual', 'Functional', 'Fireplaces',\n",
       "       'Fireplace Qu', 'Garage Type', 'Garage Finish', 'Garage Area',\n",
       "       'Paved Drive', 'Wood Deck SF', 'Open Porch SF', 'Enclosed Porch',\n",
       "       '3Ssn Porch', 'Screen Porch', 'Pool Area', 'Fence', 'Misc Feature',\n",
       "       'Mo Sold', 'Yr Sold', 'total_sqft', 'full_baths', 'half_baths',\n",
       "       'total_rooms'],\n",
       "      dtype='object')"
      ]
     },
     "execution_count": 70,
     "metadata": {},
     "output_type": "execute_result"
    }
   ],
   "source": [
    "df.columns"
   ]
  },
  {
   "cell_type": "code",
   "execution_count": 71,
   "metadata": {
    "ExecuteTime": {
     "end_time": "2021-04-10T00:19:31.544138Z",
     "start_time": "2021-04-10T00:19:31.529723Z"
    }
   },
   "outputs": [],
   "source": [
    "df.rename(columns = {'MS Zoning': 'zoning', \n",
    "                     'Lot Frontage': 'normal_frontage', \n",
    "                     'Lot Area': 'lot_area',\n",
    "                     'Street': 'paved_access',\n",
    "                     'Alley': 'alley', \n",
    "                     'Lot Shape': 'reg_shape', \n",
    "                     'Land Contour': 'is_flat', \n",
    "                     'Lot Config': 'inside_lot', \n",
    "                     'Land Slope': 'slope', \n",
    "                     'Neighborhood': 'neighborhood', \n",
    "                     'Condition 1': 'near_rr', \n",
    "                     'Bldg Type': 'single_fam', \n",
    "                     'House Style': 'one_story', \n",
    "                     'Overall Qual': 'house_qual', \n",
    "                     'Overall Cond': 'house_cond', \n",
    "                     'Year Built': 'built_before_1970', \n",
    "                     'Roof Style': 'roof_gable', \n",
    "                     'Roof Matl': 'roof_std_shingle', \n",
    "                     'Exterior 1st': 'vinyl_siding', \n",
    "                     'Mas Vnr Type': 'has_masonry', \n",
    "                     'Exter Qual': 'ext_qual_above_avg', \n",
    "                     'Exter Cond': 'ext_cond_above_avg',\n",
    "                     'Foundation': 'foundation', \n",
    "                     'Bsmt Qual': 'b_height_above_avg', \n",
    "                     'Bsmt Cond': 'b_cond_above_avg', \n",
    "                     'BsmtFin Type 1': 'basement_finished', \n",
    "                     'Heating': 'forced_air', \n",
    "                     'Heating QC': 'heating_above_avg', \n",
    "                     'Central Air': 'central_air', \n",
    "                     'Electrical': 'std_circuit_breaker', \n",
    "                     'Kitchen Qual': 'kitchen_above_avg', \n",
    "                     'Functional': 'fully_functional', \n",
    "                     'Fireplaces': 'has_fireplace', \n",
    "                     'Fireplace Qu': 'fireplace_qual', \n",
    "                     'Garage Type': 'has_garage', \n",
    "                     'Garage Finish': 'garage_finished', \n",
    "                     'Garage Area': 'garage_sqft', \n",
    "                     'Paved Drive': 'driveway_paved', \n",
    "                     'Wood Deck SF': 'has_wood_deck', \n",
    "                     'Open Porch SF': 'has_open_porch', \n",
    "                     'Enclosed Porch': 'has_encl_porch', \n",
    "                     '3Ssn Porch': 'has_3ssn_porch', \n",
    "                     'Screen Porch': 'has_screen_porch', \n",
    "                     'Pool Area': 'has_pool', \n",
    "                     'Fence': 'has_fence', \n",
    "                     'Misc Feature': 'has_misc', \n",
    "                     'Mo Sold': 'month_sold', \n",
    "                     'Yr Sold': 'year_sold'\n",
    "                    }, inplace=True)"
   ]
  },
  {
   "cell_type": "code",
   "execution_count": 72,
   "metadata": {
    "ExecuteTime": {
     "end_time": "2021-04-10T00:19:31.559510Z",
     "start_time": "2021-04-10T00:19:31.545099Z"
    }
   },
   "outputs": [
    {
     "data": {
      "text/plain": [
       "Index(['Id', 'zoning', 'normal_frontage', 'lot_area', 'paved_access', 'alley',\n",
       "       'reg_shape', 'is_flat', 'inside_lot', 'slope', 'neighborhood',\n",
       "       'near_rr', 'single_fam', 'one_story', 'house_qual', 'house_cond',\n",
       "       'built_before_1970', 'roof_gable', 'roof_std_shingle', 'vinyl_siding',\n",
       "       'has_masonry', 'ext_qual_above_avg', 'ext_cond_above_avg', 'foundation',\n",
       "       'b_height_above_avg', 'b_cond_above_avg', 'basement_finished',\n",
       "       'forced_air', 'heating_above_avg', 'central_air', 'std_circuit_breaker',\n",
       "       'kitchen_above_avg', 'fully_functional', 'has_fireplace',\n",
       "       'fireplace_qual', 'has_garage', 'garage_finished', 'garage_sqft',\n",
       "       'driveway_paved', 'has_wood_deck', 'has_open_porch', 'has_encl_porch',\n",
       "       'has_3ssn_porch', 'has_screen_porch', 'has_pool', 'has_fence',\n",
       "       'has_misc', 'month_sold', 'year_sold', 'total_sqft', 'full_baths',\n",
       "       'half_baths', 'total_rooms'],\n",
       "      dtype='object')"
      ]
     },
     "execution_count": 72,
     "metadata": {},
     "output_type": "execute_result"
    }
   ],
   "source": [
    "df.columns"
   ]
  },
  {
   "cell_type": "code",
   "execution_count": 73,
   "metadata": {
    "ExecuteTime": {
     "end_time": "2021-04-10T00:19:31.574887Z",
     "start_time": "2021-04-10T00:19:31.560475Z"
    }
   },
   "outputs": [
    {
     "data": {
      "text/plain": [
       "Id                     0\n",
       "zoning                 0\n",
       "normal_frontage        0\n",
       "lot_area               0\n",
       "paved_access           0\n",
       "alley                  0\n",
       "reg_shape              0\n",
       "is_flat                0\n",
       "inside_lot             0\n",
       "slope                  0\n",
       "neighborhood           0\n",
       "near_rr                0\n",
       "single_fam             0\n",
       "one_story              0\n",
       "house_qual             0\n",
       "house_cond             0\n",
       "built_before_1970      0\n",
       "roof_gable             0\n",
       "roof_std_shingle       0\n",
       "vinyl_siding           0\n",
       "has_masonry            0\n",
       "ext_qual_above_avg     0\n",
       "ext_cond_above_avg     0\n",
       "foundation             0\n",
       "b_height_above_avg     0\n",
       "b_cond_above_avg       0\n",
       "basement_finished      0\n",
       "forced_air             0\n",
       "heating_above_avg      0\n",
       "central_air            0\n",
       "std_circuit_breaker    0\n",
       "kitchen_above_avg      0\n",
       "fully_functional       0\n",
       "has_fireplace          0\n",
       "fireplace_qual         0\n",
       "has_garage             0\n",
       "garage_finished        0\n",
       "garage_sqft            0\n",
       "driveway_paved         0\n",
       "has_wood_deck          0\n",
       "has_open_porch         0\n",
       "has_encl_porch         0\n",
       "has_3ssn_porch         0\n",
       "has_screen_porch       0\n",
       "has_pool               0\n",
       "has_fence              0\n",
       "has_misc               0\n",
       "month_sold             0\n",
       "year_sold              0\n",
       "total_sqft             0\n",
       "full_baths             0\n",
       "half_baths             0\n",
       "total_rooms            0\n",
       "dtype: int64"
      ]
     },
     "execution_count": 73,
     "metadata": {},
     "output_type": "execute_result"
    }
   ],
   "source": [
    "df.isna().sum()"
   ]
  },
  {
   "cell_type": "code",
   "execution_count": 74,
   "metadata": {
    "ExecuteTime": {
     "end_time": "2021-04-10T00:19:31.590264Z",
     "start_time": "2021-04-10T00:19:31.576347Z"
    }
   },
   "outputs": [],
   "source": [
    "df.garage_sqft.fillna(df.garage_sqft.mean(), inplace=True)"
   ]
  },
  {
   "cell_type": "code",
   "execution_count": 75,
   "metadata": {
    "ExecuteTime": {
     "end_time": "2021-04-10T00:19:31.605611Z",
     "start_time": "2021-04-10T00:19:31.591226Z"
    }
   },
   "outputs": [],
   "source": [
    "for col in ['total_sqft', 'full_baths', 'half_baths', 'total_rooms']:\n",
    "    df[col].fillna(df[col].mean(), inplace=True)"
   ]
  },
  {
   "cell_type": "code",
   "execution_count": 76,
   "metadata": {
    "ExecuteTime": {
     "end_time": "2021-04-10T00:19:31.620987Z",
     "start_time": "2021-04-10T00:19:31.606602Z"
    }
   },
   "outputs": [
    {
     "data": {
      "text/plain": [
       "Id                     0\n",
       "zoning                 0\n",
       "normal_frontage        0\n",
       "lot_area               0\n",
       "paved_access           0\n",
       "alley                  0\n",
       "reg_shape              0\n",
       "is_flat                0\n",
       "inside_lot             0\n",
       "slope                  0\n",
       "neighborhood           0\n",
       "near_rr                0\n",
       "single_fam             0\n",
       "one_story              0\n",
       "house_qual             0\n",
       "house_cond             0\n",
       "built_before_1970      0\n",
       "roof_gable             0\n",
       "roof_std_shingle       0\n",
       "vinyl_siding           0\n",
       "has_masonry            0\n",
       "ext_qual_above_avg     0\n",
       "ext_cond_above_avg     0\n",
       "foundation             0\n",
       "b_height_above_avg     0\n",
       "b_cond_above_avg       0\n",
       "basement_finished      0\n",
       "forced_air             0\n",
       "heating_above_avg      0\n",
       "central_air            0\n",
       "std_circuit_breaker    0\n",
       "kitchen_above_avg      0\n",
       "fully_functional       0\n",
       "has_fireplace          0\n",
       "fireplace_qual         0\n",
       "has_garage             0\n",
       "garage_finished        0\n",
       "garage_sqft            0\n",
       "driveway_paved         0\n",
       "has_wood_deck          0\n",
       "has_open_porch         0\n",
       "has_encl_porch         0\n",
       "has_3ssn_porch         0\n",
       "has_screen_porch       0\n",
       "has_pool               0\n",
       "has_fence              0\n",
       "has_misc               0\n",
       "month_sold             0\n",
       "year_sold              0\n",
       "total_sqft             0\n",
       "full_baths             0\n",
       "half_baths             0\n",
       "total_rooms            0\n",
       "dtype: int64"
      ]
     },
     "execution_count": 76,
     "metadata": {},
     "output_type": "execute_result"
    }
   ],
   "source": [
    "df.isna().sum()"
   ]
  },
  {
   "cell_type": "code",
   "execution_count": 77,
   "metadata": {
    "ExecuteTime": {
     "end_time": "2021-04-10T00:19:31.636363Z",
     "start_time": "2021-04-10T00:19:31.622475Z"
    }
   },
   "outputs": [],
   "source": [
    "df = pd.get_dummies(df, columns=['slope', 'neighborhood', 'foundation', 'month_sold', 'year_sold'], \n",
    "                   drop_first=True)"
   ]
  },
  {
   "cell_type": "code",
   "execution_count": 78,
   "metadata": {
    "ExecuteTime": {
     "end_time": "2021-04-10T00:19:31.928663Z",
     "start_time": "2021-04-10T00:19:31.637384Z"
    }
   },
   "outputs": [
    {
     "ename": "KeyError",
     "evalue": "'SalePrice'",
     "output_type": "error",
     "traceback": [
      "\u001b[1;31m---------------------------------------------------------------------------\u001b[0m",
      "\u001b[1;31mKeyError\u001b[0m                                  Traceback (most recent call last)",
      "\u001b[1;32m~\\anaconda3\\lib\\site-packages\\pandas\\core\\indexes\\base.py\u001b[0m in \u001b[0;36mget_loc\u001b[1;34m(self, key, method, tolerance)\u001b[0m\n\u001b[0;32m   3079\u001b[0m             \u001b[1;32mtry\u001b[0m\u001b[1;33m:\u001b[0m\u001b[1;33m\u001b[0m\u001b[1;33m\u001b[0m\u001b[0m\n\u001b[1;32m-> 3080\u001b[1;33m                 \u001b[1;32mreturn\u001b[0m \u001b[0mself\u001b[0m\u001b[1;33m.\u001b[0m\u001b[0m_engine\u001b[0m\u001b[1;33m.\u001b[0m\u001b[0mget_loc\u001b[0m\u001b[1;33m(\u001b[0m\u001b[0mcasted_key\u001b[0m\u001b[1;33m)\u001b[0m\u001b[1;33m\u001b[0m\u001b[1;33m\u001b[0m\u001b[0m\n\u001b[0m\u001b[0;32m   3081\u001b[0m             \u001b[1;32mexcept\u001b[0m \u001b[0mKeyError\u001b[0m \u001b[1;32mas\u001b[0m \u001b[0merr\u001b[0m\u001b[1;33m:\u001b[0m\u001b[1;33m\u001b[0m\u001b[1;33m\u001b[0m\u001b[0m\n",
      "\u001b[1;32mpandas\\_libs\\index.pyx\u001b[0m in \u001b[0;36mpandas._libs.index.IndexEngine.get_loc\u001b[1;34m()\u001b[0m\n",
      "\u001b[1;32mpandas\\_libs\\index.pyx\u001b[0m in \u001b[0;36mpandas._libs.index.IndexEngine.get_loc\u001b[1;34m()\u001b[0m\n",
      "\u001b[1;32mpandas\\_libs\\hashtable_class_helper.pxi\u001b[0m in \u001b[0;36mpandas._libs.hashtable.PyObjectHashTable.get_item\u001b[1;34m()\u001b[0m\n",
      "\u001b[1;32mpandas\\_libs\\hashtable_class_helper.pxi\u001b[0m in \u001b[0;36mpandas._libs.hashtable.PyObjectHashTable.get_item\u001b[1;34m()\u001b[0m\n",
      "\u001b[1;31mKeyError\u001b[0m: 'SalePrice'",
      "\nThe above exception was the direct cause of the following exception:\n",
      "\u001b[1;31mKeyError\u001b[0m                                  Traceback (most recent call last)",
      "\u001b[1;32m<ipython-input-78-f1a43a519773>\u001b[0m in \u001b[0;36m<module>\u001b[1;34m\u001b[0m\n\u001b[1;32m----> 1\u001b[1;33m \u001b[0mtgt\u001b[0m \u001b[1;33m=\u001b[0m \u001b[0mdf\u001b[0m\u001b[1;33m[\u001b[0m\u001b[1;34m'SalePrice'\u001b[0m\u001b[1;33m]\u001b[0m\u001b[1;33m\u001b[0m\u001b[1;33m\u001b[0m\u001b[0m\n\u001b[0m\u001b[0;32m      2\u001b[0m \u001b[0mdf\u001b[0m \u001b[1;33m=\u001b[0m \u001b[0mdf\u001b[0m\u001b[1;33m.\u001b[0m\u001b[0mdrop\u001b[0m\u001b[1;33m(\u001b[0m\u001b[0mcolumns\u001b[0m\u001b[1;33m=\u001b[0m\u001b[1;33m[\u001b[0m\u001b[1;34m'SalePrice'\u001b[0m\u001b[1;33m]\u001b[0m\u001b[1;33m)\u001b[0m\u001b[1;33m\u001b[0m\u001b[1;33m\u001b[0m\u001b[0m\n\u001b[0;32m      3\u001b[0m \u001b[0mdf\u001b[0m\u001b[1;33m.\u001b[0m\u001b[0minsert\u001b[0m\u001b[1;33m(\u001b[0m\u001b[0mloc\u001b[0m\u001b[1;33m=\u001b[0m\u001b[0mlen\u001b[0m\u001b[1;33m(\u001b[0m\u001b[0mdf\u001b[0m\u001b[1;33m.\u001b[0m\u001b[0mcolumns\u001b[0m\u001b[1;33m)\u001b[0m\u001b[1;33m,\u001b[0m \u001b[0mcolumn\u001b[0m\u001b[1;33m=\u001b[0m\u001b[1;34m'SalePrice'\u001b[0m\u001b[1;33m,\u001b[0m \u001b[0mvalue\u001b[0m\u001b[1;33m=\u001b[0m\u001b[0mtgt\u001b[0m\u001b[1;33m)\u001b[0m\u001b[1;33m\u001b[0m\u001b[1;33m\u001b[0m\u001b[0m\n",
      "\u001b[1;32m~\\anaconda3\\lib\\site-packages\\pandas\\core\\frame.py\u001b[0m in \u001b[0;36m__getitem__\u001b[1;34m(self, key)\u001b[0m\n\u001b[0;32m   3022\u001b[0m             \u001b[1;32mif\u001b[0m \u001b[0mself\u001b[0m\u001b[1;33m.\u001b[0m\u001b[0mcolumns\u001b[0m\u001b[1;33m.\u001b[0m\u001b[0mnlevels\u001b[0m \u001b[1;33m>\u001b[0m \u001b[1;36m1\u001b[0m\u001b[1;33m:\u001b[0m\u001b[1;33m\u001b[0m\u001b[1;33m\u001b[0m\u001b[0m\n\u001b[0;32m   3023\u001b[0m                 \u001b[1;32mreturn\u001b[0m \u001b[0mself\u001b[0m\u001b[1;33m.\u001b[0m\u001b[0m_getitem_multilevel\u001b[0m\u001b[1;33m(\u001b[0m\u001b[0mkey\u001b[0m\u001b[1;33m)\u001b[0m\u001b[1;33m\u001b[0m\u001b[1;33m\u001b[0m\u001b[0m\n\u001b[1;32m-> 3024\u001b[1;33m             \u001b[0mindexer\u001b[0m \u001b[1;33m=\u001b[0m \u001b[0mself\u001b[0m\u001b[1;33m.\u001b[0m\u001b[0mcolumns\u001b[0m\u001b[1;33m.\u001b[0m\u001b[0mget_loc\u001b[0m\u001b[1;33m(\u001b[0m\u001b[0mkey\u001b[0m\u001b[1;33m)\u001b[0m\u001b[1;33m\u001b[0m\u001b[1;33m\u001b[0m\u001b[0m\n\u001b[0m\u001b[0;32m   3025\u001b[0m             \u001b[1;32mif\u001b[0m \u001b[0mis_integer\u001b[0m\u001b[1;33m(\u001b[0m\u001b[0mindexer\u001b[0m\u001b[1;33m)\u001b[0m\u001b[1;33m:\u001b[0m\u001b[1;33m\u001b[0m\u001b[1;33m\u001b[0m\u001b[0m\n\u001b[0;32m   3026\u001b[0m                 \u001b[0mindexer\u001b[0m \u001b[1;33m=\u001b[0m \u001b[1;33m[\u001b[0m\u001b[0mindexer\u001b[0m\u001b[1;33m]\u001b[0m\u001b[1;33m\u001b[0m\u001b[1;33m\u001b[0m\u001b[0m\n",
      "\u001b[1;32m~\\anaconda3\\lib\\site-packages\\pandas\\core\\indexes\\base.py\u001b[0m in \u001b[0;36mget_loc\u001b[1;34m(self, key, method, tolerance)\u001b[0m\n\u001b[0;32m   3080\u001b[0m                 \u001b[1;32mreturn\u001b[0m \u001b[0mself\u001b[0m\u001b[1;33m.\u001b[0m\u001b[0m_engine\u001b[0m\u001b[1;33m.\u001b[0m\u001b[0mget_loc\u001b[0m\u001b[1;33m(\u001b[0m\u001b[0mcasted_key\u001b[0m\u001b[1;33m)\u001b[0m\u001b[1;33m\u001b[0m\u001b[1;33m\u001b[0m\u001b[0m\n\u001b[0;32m   3081\u001b[0m             \u001b[1;32mexcept\u001b[0m \u001b[0mKeyError\u001b[0m \u001b[1;32mas\u001b[0m \u001b[0merr\u001b[0m\u001b[1;33m:\u001b[0m\u001b[1;33m\u001b[0m\u001b[1;33m\u001b[0m\u001b[0m\n\u001b[1;32m-> 3082\u001b[1;33m                 \u001b[1;32mraise\u001b[0m \u001b[0mKeyError\u001b[0m\u001b[1;33m(\u001b[0m\u001b[0mkey\u001b[0m\u001b[1;33m)\u001b[0m \u001b[1;32mfrom\u001b[0m \u001b[0merr\u001b[0m\u001b[1;33m\u001b[0m\u001b[1;33m\u001b[0m\u001b[0m\n\u001b[0m\u001b[0;32m   3083\u001b[0m \u001b[1;33m\u001b[0m\u001b[0m\n\u001b[0;32m   3084\u001b[0m         \u001b[1;32mif\u001b[0m \u001b[0mtolerance\u001b[0m \u001b[1;32mis\u001b[0m \u001b[1;32mnot\u001b[0m \u001b[1;32mNone\u001b[0m\u001b[1;33m:\u001b[0m\u001b[1;33m\u001b[0m\u001b[1;33m\u001b[0m\u001b[0m\n",
      "\u001b[1;31mKeyError\u001b[0m: 'SalePrice'"
     ]
    }
   ],
   "source": [
    "tgt = df['SalePrice']\n",
    "df = df.drop(columns=['SalePrice'])\n",
    "df.insert(loc=len(df.columns), column='SalePrice', value=tgt)"
   ]
  },
  {
   "cell_type": "code",
   "execution_count": null,
   "metadata": {
    "ExecuteTime": {
     "end_time": "2021-04-10T00:19:31.979619Z",
     "start_time": "2021-04-10T00:19:29.481Z"
    }
   },
   "outputs": [],
   "source": [
    "df.columns"
   ]
  },
  {
   "cell_type": "code",
   "execution_count": 81,
   "metadata": {
    "ExecuteTime": {
     "end_time": "2021-04-10T00:20:51.492780Z",
     "start_time": "2021-04-10T00:20:51.474428Z"
    }
   },
   "outputs": [],
   "source": [
    "df.to_csv('./datasets/test_cleaned.csv', index=False)"
   ]
  },
  {
   "cell_type": "code",
   "execution_count": 80,
   "metadata": {
    "ExecuteTime": {
     "end_time": "2021-04-10T00:20:48.276392Z",
     "start_time": "2021-04-10T00:20:48.262008Z"
    }
   },
   "outputs": [
    {
     "data": {
      "text/plain": [
       "(878, 95)"
      ]
     },
     "execution_count": 80,
     "metadata": {},
     "output_type": "execute_result"
    }
   ],
   "source": [
    "df.shape"
   ]
  },
  {
   "cell_type": "code",
   "execution_count": null,
   "metadata": {},
   "outputs": [],
   "source": []
  },
  {
   "cell_type": "code",
   "execution_count": null,
   "metadata": {},
   "outputs": [],
   "source": []
  },
  {
   "cell_type": "code",
   "execution_count": null,
   "metadata": {},
   "outputs": [],
   "source": []
  },
  {
   "cell_type": "code",
   "execution_count": null,
   "metadata": {},
   "outputs": [],
   "source": []
  }
 ],
 "metadata": {
  "kernelspec": {
   "display_name": "Python 3",
   "language": "python",
   "name": "python3"
  },
  "language_info": {
   "codemirror_mode": {
    "name": "ipython",
    "version": 3
   },
   "file_extension": ".py",
   "mimetype": "text/x-python",
   "name": "python",
   "nbconvert_exporter": "python",
   "pygments_lexer": "ipython3",
   "version": "3.8.5"
  },
  "toc": {
   "base_numbering": 1,
   "nav_menu": {},
   "number_sections": true,
   "sideBar": true,
   "skip_h1_title": false,
   "title_cell": "Table of Contents",
   "title_sidebar": "Contents",
   "toc_cell": false,
   "toc_position": {},
   "toc_section_display": true,
   "toc_window_display": false
  },
  "varInspector": {
   "cols": {
    "lenName": 16,
    "lenType": 16,
    "lenVar": 40
   },
   "kernels_config": {
    "python": {
     "delete_cmd_postfix": "",
     "delete_cmd_prefix": "del ",
     "library": "var_list.py",
     "varRefreshCmd": "print(var_dic_list())"
    },
    "r": {
     "delete_cmd_postfix": ") ",
     "delete_cmd_prefix": "rm(",
     "library": "var_list.r",
     "varRefreshCmd": "cat(var_dic_list()) "
    }
   },
   "types_to_exclude": [
    "module",
    "function",
    "builtin_function_or_method",
    "instance",
    "_Feature"
   ],
   "window_display": false
  }
 },
 "nbformat": 4,
 "nbformat_minor": 4
}
