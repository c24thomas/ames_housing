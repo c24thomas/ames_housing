{
 "cells": [
  {
   "cell_type": "code",
   "execution_count": null,
   "metadata": {},
   "outputs": [],
   "source": []
  },
  {
   "cell_type": "code",
   "execution_count": 15,
   "metadata": {
    "ExecuteTime": {
     "end_time": "2021-04-10T00:57:42.843905Z",
     "start_time": "2021-04-10T00:57:42.832523Z"
    }
   },
   "outputs": [],
   "source": [
    "import pandas as pd\n",
    "import numpy as np\n",
    "import matplotlib.pyplot as plt\n",
    "import seaborn as sns\n",
    "from sklearn.linear_model import LinearRegression\n",
    "from sklearn.model_selection import train_test_split, cross_val_score\n",
    "from sklearn.metrics import mean_squared_error\n",
    "from local_EDA import heat"
   ]
  },
  {
   "cell_type": "code",
   "execution_count": 2,
   "metadata": {
    "ExecuteTime": {
     "end_time": "2021-04-10T00:20:59.110546Z",
     "start_time": "2021-04-10T00:20:59.081185Z"
    }
   },
   "outputs": [],
   "source": [
    "df = pd.read_csv('datasets/train_cleaned.csv')\n",
    "test = pd.read_csv('datasets/test_cleaned.csv')"
   ]
  },
  {
   "cell_type": "code",
   "execution_count": 3,
   "metadata": {
    "ExecuteTime": {
     "end_time": "2021-04-10T00:20:59.126035Z",
     "start_time": "2021-04-10T00:20:59.111958Z"
    }
   },
   "outputs": [],
   "source": [
    "high_corr = ['lot_area', 'reg_shape', 'house_qual', 'built_before_1970', 'vinyl_siding', 'has_masonry',\n",
    "            'ext_qual_above_avg', 'b_height_above_avg', 'heating_above_avg', 'central_air', 'std_circuit_breaker', \n",
    "            'kitchen_above_avg', 'has_fireplace', 'fireplace_qual', 'has_garage', 'garage_finished', 'garage_sqft', \n",
    "            'has_open_porch', 'has_encl_porch', 'has_fence', 'total_sqft', 'full_baths', 'half_baths', 'total_rooms',\n",
    "            'foundation_CBlock', 'foundation_PConc']"
   ]
  },
  {
   "cell_type": "code",
   "execution_count": 4,
   "metadata": {
    "ExecuteTime": {
     "end_time": "2021-04-10T00:20:59.141411Z",
     "start_time": "2021-04-10T00:20:59.127027Z"
    }
   },
   "outputs": [
    {
     "data": {
      "text/plain": [
       "(878, 95)"
      ]
     },
     "execution_count": 4,
     "metadata": {},
     "output_type": "execute_result"
    }
   ],
   "source": [
    "test.shape"
   ]
  },
  {
   "cell_type": "code",
   "execution_count": 5,
   "metadata": {
    "ExecuteTime": {
     "end_time": "2021-04-10T00:20:59.156844Z",
     "start_time": "2021-04-10T00:20:59.142900Z"
    }
   },
   "outputs": [],
   "source": [
    "X = df[high_corr]\n",
    "y = df.SalePrice\n",
    "X_train, X_test, y_train, y_test = train_test_split(X, y, random_state=6)"
   ]
  },
  {
   "cell_type": "code",
   "execution_count": 6,
   "metadata": {
    "ExecuteTime": {
     "end_time": "2021-04-10T00:20:59.172222Z",
     "start_time": "2021-04-10T00:20:59.157838Z"
    }
   },
   "outputs": [],
   "source": [
    "model = LinearRegression()"
   ]
  },
  {
   "cell_type": "code",
   "execution_count": 7,
   "metadata": {
    "ExecuteTime": {
     "end_time": "2021-04-10T00:20:59.233702Z",
     "start_time": "2021-04-10T00:20:59.174182Z"
    }
   },
   "outputs": [
    {
     "data": {
      "text/plain": [
       "(array([0.80633778, 0.85840691, 0.71228241, 0.87306354, 0.84180009]),\n",
       " 0.8183781456996145)"
      ]
     },
     "execution_count": 7,
     "metadata": {},
     "output_type": "execute_result"
    }
   ],
   "source": [
    "cross_val_score(model, X_train, y_train), cross_val_score(model, X_train, y_train).mean()"
   ]
  },
  {
   "cell_type": "code",
   "execution_count": 8,
   "metadata": {
    "ExecuteTime": {
     "end_time": "2021-04-10T00:20:59.249078Z",
     "start_time": "2021-04-10T00:20:59.235191Z"
    }
   },
   "outputs": [
    {
     "data": {
      "text/plain": [
       "LinearRegression()"
      ]
     },
     "execution_count": 8,
     "metadata": {},
     "output_type": "execute_result"
    }
   ],
   "source": [
    "model.fit(X_train, y_train)"
   ]
  },
  {
   "cell_type": "code",
   "execution_count": 9,
   "metadata": {
    "ExecuteTime": {
     "end_time": "2021-04-10T00:20:59.264484Z",
     "start_time": "2021-04-10T00:20:59.251062Z"
    }
   },
   "outputs": [
    {
     "data": {
      "text/plain": [
       "(0.8292043570218959, 0.7473258216899159)"
      ]
     },
     "execution_count": 9,
     "metadata": {},
     "output_type": "execute_result"
    }
   ],
   "source": [
    "model.score(X_train, y_train), model.score(X_test, y_test)"
   ]
  },
  {
   "cell_type": "code",
   "execution_count": 16,
   "metadata": {
    "ExecuteTime": {
     "end_time": "2021-04-10T00:58:21.988649Z",
     "start_time": "2021-04-10T00:58:21.982695Z"
    }
   },
   "outputs": [],
   "source": [
    "preds = model.predict(X_test)"
   ]
  },
  {
   "cell_type": "code",
   "execution_count": 17,
   "metadata": {
    "ExecuteTime": {
     "end_time": "2021-04-10T00:58:40.388323Z",
     "start_time": "2021-04-10T00:58:40.379869Z"
    }
   },
   "outputs": [
    {
     "data": {
      "text/plain": [
       "39888.53170164186"
      ]
     },
     "execution_count": 17,
     "metadata": {},
     "output_type": "execute_result"
    }
   ],
   "source": [
    "mean_squared_error(y_test, preds, squared=False)"
   ]
  },
  {
   "cell_type": "code",
   "execution_count": 10,
   "metadata": {
    "ExecuteTime": {
     "end_time": "2021-04-10T00:20:59.279830Z",
     "start_time": "2021-04-10T00:20:59.266438Z"
    }
   },
   "outputs": [],
   "source": [
    "test_X = test[high_corr]\n",
    "y_hats = model.predict(test_X)"
   ]
  },
  {
   "cell_type": "code",
   "execution_count": 11,
   "metadata": {
    "ExecuteTime": {
     "end_time": "2021-04-10T00:20:59.295206Z",
     "start_time": "2021-04-10T00:20:59.281318Z"
    }
   },
   "outputs": [],
   "source": [
    "predicted_prices = pd.DataFrame(list(zip(test.Id, y_hats)), columns=['Id', 'SalePrice'])"
   ]
  },
  {
   "cell_type": "code",
   "execution_count": 12,
   "metadata": {
    "ExecuteTime": {
     "end_time": "2021-04-10T00:20:59.310582Z",
     "start_time": "2021-04-10T00:20:59.296695Z"
    }
   },
   "outputs": [
    {
     "data": {
      "text/html": [
       "<div>\n",
       "<style scoped>\n",
       "    .dataframe tbody tr th:only-of-type {\n",
       "        vertical-align: middle;\n",
       "    }\n",
       "\n",
       "    .dataframe tbody tr th {\n",
       "        vertical-align: top;\n",
       "    }\n",
       "\n",
       "    .dataframe thead th {\n",
       "        text-align: right;\n",
       "    }\n",
       "</style>\n",
       "<table border=\"1\" class=\"dataframe\">\n",
       "  <thead>\n",
       "    <tr style=\"text-align: right;\">\n",
       "      <th></th>\n",
       "      <th>Id</th>\n",
       "      <th>SalePrice</th>\n",
       "    </tr>\n",
       "  </thead>\n",
       "  <tbody>\n",
       "    <tr>\n",
       "      <th>0</th>\n",
       "      <td>2658</td>\n",
       "      <td>162181.989940</td>\n",
       "    </tr>\n",
       "    <tr>\n",
       "      <th>1</th>\n",
       "      <td>2718</td>\n",
       "      <td>175612.872577</td>\n",
       "    </tr>\n",
       "    <tr>\n",
       "      <th>2</th>\n",
       "      <td>2414</td>\n",
       "      <td>226999.804851</td>\n",
       "    </tr>\n",
       "    <tr>\n",
       "      <th>3</th>\n",
       "      <td>1989</td>\n",
       "      <td>113115.322178</td>\n",
       "    </tr>\n",
       "    <tr>\n",
       "      <th>4</th>\n",
       "      <td>625</td>\n",
       "      <td>205708.452866</td>\n",
       "    </tr>\n",
       "    <tr>\n",
       "      <th>...</th>\n",
       "      <td>...</td>\n",
       "      <td>...</td>\n",
       "    </tr>\n",
       "    <tr>\n",
       "      <th>873</th>\n",
       "      <td>1662</td>\n",
       "      <td>181600.770839</td>\n",
       "    </tr>\n",
       "    <tr>\n",
       "      <th>874</th>\n",
       "      <td>1234</td>\n",
       "      <td>224980.640809</td>\n",
       "    </tr>\n",
       "    <tr>\n",
       "      <th>875</th>\n",
       "      <td>1373</td>\n",
       "      <td>113763.362764</td>\n",
       "    </tr>\n",
       "    <tr>\n",
       "      <th>876</th>\n",
       "      <td>1672</td>\n",
       "      <td>89592.213248</td>\n",
       "    </tr>\n",
       "    <tr>\n",
       "      <th>877</th>\n",
       "      <td>1939</td>\n",
       "      <td>114706.707451</td>\n",
       "    </tr>\n",
       "  </tbody>\n",
       "</table>\n",
       "<p>878 rows × 2 columns</p>\n",
       "</div>"
      ],
      "text/plain": [
       "       Id      SalePrice\n",
       "0    2658  162181.989940\n",
       "1    2718  175612.872577\n",
       "2    2414  226999.804851\n",
       "3    1989  113115.322178\n",
       "4     625  205708.452866\n",
       "..    ...            ...\n",
       "873  1662  181600.770839\n",
       "874  1234  224980.640809\n",
       "875  1373  113763.362764\n",
       "876  1672   89592.213248\n",
       "877  1939  114706.707451\n",
       "\n",
       "[878 rows x 2 columns]"
      ]
     },
     "execution_count": 12,
     "metadata": {},
     "output_type": "execute_result"
    }
   ],
   "source": [
    "predicted_prices"
   ]
  },
  {
   "cell_type": "code",
   "execution_count": 13,
   "metadata": {
    "ExecuteTime": {
     "end_time": "2021-04-10T00:20:59.325958Z",
     "start_time": "2021-04-10T00:20:59.312070Z"
    }
   },
   "outputs": [],
   "source": [
    "predicted_prices.to_csv('./datasets/prediction_1.csv', index=False)"
   ]
  },
  {
   "cell_type": "code",
   "execution_count": 14,
   "metadata": {
    "ExecuteTime": {
     "end_time": "2021-04-10T00:20:59.341334Z",
     "start_time": "2021-04-10T00:20:59.327447Z"
    }
   },
   "outputs": [
    {
     "data": {
      "text/plain": [
       "(878, 2)"
      ]
     },
     "execution_count": 14,
     "metadata": {},
     "output_type": "execute_result"
    }
   ],
   "source": [
    "predicted_prices.shape"
   ]
  },
  {
   "cell_type": "code",
   "execution_count": null,
   "metadata": {},
   "outputs": [],
   "source": []
  }
 ],
 "metadata": {
  "kernelspec": {
   "display_name": "Python 3",
   "language": "python",
   "name": "python3"
  },
  "language_info": {
   "codemirror_mode": {
    "name": "ipython",
    "version": 3
   },
   "file_extension": ".py",
   "mimetype": "text/x-python",
   "name": "python",
   "nbconvert_exporter": "python",
   "pygments_lexer": "ipython3",
   "version": "3.8.5"
  },
  "toc": {
   "base_numbering": 1,
   "nav_menu": {},
   "number_sections": true,
   "sideBar": true,
   "skip_h1_title": false,
   "title_cell": "Table of Contents",
   "title_sidebar": "Contents",
   "toc_cell": false,
   "toc_position": {},
   "toc_section_display": true,
   "toc_window_display": false
  },
  "varInspector": {
   "cols": {
    "lenName": 16,
    "lenType": 16,
    "lenVar": 40
   },
   "kernels_config": {
    "python": {
     "delete_cmd_postfix": "",
     "delete_cmd_prefix": "del ",
     "library": "var_list.py",
     "varRefreshCmd": "print(var_dic_list())"
    },
    "r": {
     "delete_cmd_postfix": ") ",
     "delete_cmd_prefix": "rm(",
     "library": "var_list.r",
     "varRefreshCmd": "cat(var_dic_list()) "
    }
   },
   "types_to_exclude": [
    "module",
    "function",
    "builtin_function_or_method",
    "instance",
    "_Feature"
   ],
   "window_display": false
  }
 },
 "nbformat": 4,
 "nbformat_minor": 4
}
