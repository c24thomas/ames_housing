{
 "cells": [
  {
   "cell_type": "code",
   "execution_count": null,
   "metadata": {},
   "outputs": [],
   "source": []
  },
  {
   "cell_type": "markdown",
   "metadata": {
    "ExecuteTime": {
     "end_time": "2021-04-06T21:44:03.935658Z",
     "start_time": "2021-04-06T21:43:49.562158Z"
    }
   },
   "source": [
    "# This is my first attempt at cleaning and feature engineering for the Kaggle submission"
   ]
  },
  {
   "cell_type": "markdown",
   "metadata": {},
   "source": [
    "### Instead of having a separate notebook for my train.csv and test.csv, I just cleaned train.csv first, then changed the filepaths and reran the notebook on the test.csv data. Lazy, yes. Best practice, probably not."
   ]
  },
  {
   "cell_type": "code",
   "execution_count": 1,
   "metadata": {
    "ExecuteTime": {
     "end_time": "2021-04-16T22:07:13.053426Z",
     "start_time": "2021-04-16T22:07:12.038611Z"
    }
   },
   "outputs": [],
   "source": [
    "import pandas as pd\n",
    "import numpy as np\n",
    "import matplotlib.pyplot as plt\n",
    "import seaborn as sns\n",
    "from sklearn.linear_model import LinearRegression\n",
    "from sklearn.model_selection import train_test_split, cross_val_score\n",
    "from local_EDA import heat # This is my local helper functions .py file"
   ]
  },
  {
   "cell_type": "markdown",
   "metadata": {},
   "source": [
    "Standard imports above, reading in the csvs below"
   ]
  },
  {
   "cell_type": "code",
   "execution_count": 2,
   "metadata": {
    "ExecuteTime": {
     "end_time": "2021-04-10T00:19:30.360156Z",
     "start_time": "2021-04-10T00:19:30.330396Z"
    }
   },
   "outputs": [],
   "source": [
    "df = pd.read_csv('datasets/test.csv')"
   ]
  },
  {
   "cell_type": "markdown",
   "metadata": {},
   "source": [
    "Standard opening moves for EDA: check `.head`, `.info`, etc. looking for `NaN`s, mismatched `dtype`s, unrealistic values, etc."
   ]
  },
  {
   "cell_type": "code",
   "execution_count": 3,
   "metadata": {
    "ExecuteTime": {
     "end_time": "2021-04-10T00:19:30.390932Z",
     "start_time": "2021-04-10T00:19:30.361148Z"
    },
    "scrolled": true
   },
   "outputs": [
    {
     "data": {
      "text/html": [
       "<div>\n",
       "<style scoped>\n",
       "    .dataframe tbody tr th:only-of-type {\n",
       "        vertical-align: middle;\n",
       "    }\n",
       "\n",
       "    .dataframe tbody tr th {\n",
       "        vertical-align: top;\n",
       "    }\n",
       "\n",
       "    .dataframe thead th {\n",
       "        text-align: right;\n",
       "    }\n",
       "</style>\n",
       "<table border=\"1\" class=\"dataframe\">\n",
       "  <thead>\n",
       "    <tr style=\"text-align: right;\">\n",
       "      <th></th>\n",
       "      <th>Id</th>\n",
       "      <th>PID</th>\n",
       "      <th>MS SubClass</th>\n",
       "      <th>MS Zoning</th>\n",
       "      <th>Lot Frontage</th>\n",
       "      <th>Lot Area</th>\n",
       "      <th>Street</th>\n",
       "      <th>Alley</th>\n",
       "      <th>Lot Shape</th>\n",
       "      <th>Land Contour</th>\n",
       "      <th>...</th>\n",
       "      <th>3Ssn Porch</th>\n",
       "      <th>Screen Porch</th>\n",
       "      <th>Pool Area</th>\n",
       "      <th>Pool QC</th>\n",
       "      <th>Fence</th>\n",
       "      <th>Misc Feature</th>\n",
       "      <th>Misc Val</th>\n",
       "      <th>Mo Sold</th>\n",
       "      <th>Yr Sold</th>\n",
       "      <th>Sale Type</th>\n",
       "    </tr>\n",
       "  </thead>\n",
       "  <tbody>\n",
       "    <tr>\n",
       "      <th>0</th>\n",
       "      <td>2658</td>\n",
       "      <td>902301120</td>\n",
       "      <td>190</td>\n",
       "      <td>RM</td>\n",
       "      <td>69.0</td>\n",
       "      <td>9142</td>\n",
       "      <td>Pave</td>\n",
       "      <td>Grvl</td>\n",
       "      <td>Reg</td>\n",
       "      <td>Lvl</td>\n",
       "      <td>...</td>\n",
       "      <td>0</td>\n",
       "      <td>0</td>\n",
       "      <td>0</td>\n",
       "      <td>NaN</td>\n",
       "      <td>NaN</td>\n",
       "      <td>NaN</td>\n",
       "      <td>0</td>\n",
       "      <td>4</td>\n",
       "      <td>2006</td>\n",
       "      <td>WD</td>\n",
       "    </tr>\n",
       "    <tr>\n",
       "      <th>1</th>\n",
       "      <td>2718</td>\n",
       "      <td>905108090</td>\n",
       "      <td>90</td>\n",
       "      <td>RL</td>\n",
       "      <td>NaN</td>\n",
       "      <td>9662</td>\n",
       "      <td>Pave</td>\n",
       "      <td>NaN</td>\n",
       "      <td>IR1</td>\n",
       "      <td>Lvl</td>\n",
       "      <td>...</td>\n",
       "      <td>0</td>\n",
       "      <td>0</td>\n",
       "      <td>0</td>\n",
       "      <td>NaN</td>\n",
       "      <td>NaN</td>\n",
       "      <td>NaN</td>\n",
       "      <td>0</td>\n",
       "      <td>8</td>\n",
       "      <td>2006</td>\n",
       "      <td>WD</td>\n",
       "    </tr>\n",
       "    <tr>\n",
       "      <th>2</th>\n",
       "      <td>2414</td>\n",
       "      <td>528218130</td>\n",
       "      <td>60</td>\n",
       "      <td>RL</td>\n",
       "      <td>58.0</td>\n",
       "      <td>17104</td>\n",
       "      <td>Pave</td>\n",
       "      <td>NaN</td>\n",
       "      <td>IR1</td>\n",
       "      <td>Lvl</td>\n",
       "      <td>...</td>\n",
       "      <td>0</td>\n",
       "      <td>0</td>\n",
       "      <td>0</td>\n",
       "      <td>NaN</td>\n",
       "      <td>NaN</td>\n",
       "      <td>NaN</td>\n",
       "      <td>0</td>\n",
       "      <td>9</td>\n",
       "      <td>2006</td>\n",
       "      <td>New</td>\n",
       "    </tr>\n",
       "    <tr>\n",
       "      <th>3</th>\n",
       "      <td>1989</td>\n",
       "      <td>902207150</td>\n",
       "      <td>30</td>\n",
       "      <td>RM</td>\n",
       "      <td>60.0</td>\n",
       "      <td>8520</td>\n",
       "      <td>Pave</td>\n",
       "      <td>NaN</td>\n",
       "      <td>Reg</td>\n",
       "      <td>Lvl</td>\n",
       "      <td>...</td>\n",
       "      <td>0</td>\n",
       "      <td>0</td>\n",
       "      <td>0</td>\n",
       "      <td>NaN</td>\n",
       "      <td>NaN</td>\n",
       "      <td>NaN</td>\n",
       "      <td>0</td>\n",
       "      <td>7</td>\n",
       "      <td>2007</td>\n",
       "      <td>WD</td>\n",
       "    </tr>\n",
       "    <tr>\n",
       "      <th>4</th>\n",
       "      <td>625</td>\n",
       "      <td>535105100</td>\n",
       "      <td>20</td>\n",
       "      <td>RL</td>\n",
       "      <td>NaN</td>\n",
       "      <td>9500</td>\n",
       "      <td>Pave</td>\n",
       "      <td>NaN</td>\n",
       "      <td>IR1</td>\n",
       "      <td>Lvl</td>\n",
       "      <td>...</td>\n",
       "      <td>0</td>\n",
       "      <td>185</td>\n",
       "      <td>0</td>\n",
       "      <td>NaN</td>\n",
       "      <td>NaN</td>\n",
       "      <td>NaN</td>\n",
       "      <td>0</td>\n",
       "      <td>7</td>\n",
       "      <td>2009</td>\n",
       "      <td>WD</td>\n",
       "    </tr>\n",
       "  </tbody>\n",
       "</table>\n",
       "<p>5 rows × 80 columns</p>\n",
       "</div>"
      ],
      "text/plain": [
       "     Id        PID  MS SubClass MS Zoning  Lot Frontage  Lot Area Street  \\\n",
       "0  2658  902301120          190        RM          69.0      9142   Pave   \n",
       "1  2718  905108090           90        RL           NaN      9662   Pave   \n",
       "2  2414  528218130           60        RL          58.0     17104   Pave   \n",
       "3  1989  902207150           30        RM          60.0      8520   Pave   \n",
       "4   625  535105100           20        RL           NaN      9500   Pave   \n",
       "\n",
       "  Alley Lot Shape Land Contour  ... 3Ssn Porch Screen Porch Pool Area Pool QC  \\\n",
       "0  Grvl       Reg          Lvl  ...          0            0         0     NaN   \n",
       "1   NaN       IR1          Lvl  ...          0            0         0     NaN   \n",
       "2   NaN       IR1          Lvl  ...          0            0         0     NaN   \n",
       "3   NaN       Reg          Lvl  ...          0            0         0     NaN   \n",
       "4   NaN       IR1          Lvl  ...          0          185         0     NaN   \n",
       "\n",
       "  Fence Misc Feature Misc Val Mo Sold  Yr Sold  Sale Type  \n",
       "0   NaN          NaN        0       4     2006        WD   \n",
       "1   NaN          NaN        0       8     2006        WD   \n",
       "2   NaN          NaN        0       9     2006        New  \n",
       "3   NaN          NaN        0       7     2007        WD   \n",
       "4   NaN          NaN        0       7     2009        WD   \n",
       "\n",
       "[5 rows x 80 columns]"
      ]
     },
     "execution_count": 3,
     "metadata": {},
     "output_type": "execute_result"
    }
   ],
   "source": [
    "df.head()"
   ]
  },
  {
   "cell_type": "code",
   "execution_count": 4,
   "metadata": {
    "ExecuteTime": {
     "end_time": "2021-04-10T00:19:30.406284Z",
     "start_time": "2021-04-10T00:19:30.391927Z"
    }
   },
   "outputs": [
    {
     "name": "stdout",
     "output_type": "stream",
     "text": [
      "<class 'pandas.core.frame.DataFrame'>\n",
      "RangeIndex: 878 entries, 0 to 877\n",
      "Data columns (total 80 columns):\n",
      " #   Column           Non-Null Count  Dtype  \n",
      "---  ------           --------------  -----  \n",
      " 0   Id               878 non-null    int64  \n",
      " 1   PID              878 non-null    int64  \n",
      " 2   MS SubClass      878 non-null    int64  \n",
      " 3   MS Zoning        878 non-null    object \n",
      " 4   Lot Frontage     718 non-null    float64\n",
      " 5   Lot Area         878 non-null    int64  \n",
      " 6   Street           878 non-null    object \n",
      " 7   Alley            58 non-null     object \n",
      " 8   Lot Shape        878 non-null    object \n",
      " 9   Land Contour     878 non-null    object \n",
      " 10  Utilities        878 non-null    object \n",
      " 11  Lot Config       878 non-null    object \n",
      " 12  Land Slope       878 non-null    object \n",
      " 13  Neighborhood     878 non-null    object \n",
      " 14  Condition 1      878 non-null    object \n",
      " 15  Condition 2      878 non-null    object \n",
      " 16  Bldg Type        878 non-null    object \n",
      " 17  House Style      878 non-null    object \n",
      " 18  Overall Qual     878 non-null    int64  \n",
      " 19  Overall Cond     878 non-null    int64  \n",
      " 20  Year Built       878 non-null    int64  \n",
      " 21  Year Remod/Add   878 non-null    int64  \n",
      " 22  Roof Style       878 non-null    object \n",
      " 23  Roof Matl        878 non-null    object \n",
      " 24  Exterior 1st     878 non-null    object \n",
      " 25  Exterior 2nd     878 non-null    object \n",
      " 26  Mas Vnr Type     877 non-null    object \n",
      " 27  Mas Vnr Area     877 non-null    float64\n",
      " 28  Exter Qual       878 non-null    object \n",
      " 29  Exter Cond       878 non-null    object \n",
      " 30  Foundation       878 non-null    object \n",
      " 31  Bsmt Qual        853 non-null    object \n",
      " 32  Bsmt Cond        853 non-null    object \n",
      " 33  Bsmt Exposure    853 non-null    object \n",
      " 34  BsmtFin Type 1   853 non-null    object \n",
      " 35  BsmtFin SF 1     878 non-null    int64  \n",
      " 36  BsmtFin Type 2   853 non-null    object \n",
      " 37  BsmtFin SF 2     878 non-null    int64  \n",
      " 38  Bsmt Unf SF      878 non-null    int64  \n",
      " 39  Total Bsmt SF    878 non-null    int64  \n",
      " 40  Heating          878 non-null    object \n",
      " 41  Heating QC       878 non-null    object \n",
      " 42  Central Air      878 non-null    object \n",
      " 43  Electrical       877 non-null    object \n",
      " 44  1st Flr SF       878 non-null    int64  \n",
      " 45  2nd Flr SF       878 non-null    int64  \n",
      " 46  Low Qual Fin SF  878 non-null    int64  \n",
      " 47  Gr Liv Area      878 non-null    int64  \n",
      " 48  Bsmt Full Bath   878 non-null    int64  \n",
      " 49  Bsmt Half Bath   878 non-null    int64  \n",
      " 50  Full Bath        878 non-null    int64  \n",
      " 51  Half Bath        878 non-null    int64  \n",
      " 52  Bedroom AbvGr    878 non-null    int64  \n",
      " 53  Kitchen AbvGr    878 non-null    int64  \n",
      " 54  Kitchen Qual     878 non-null    object \n",
      " 55  TotRms AbvGrd    878 non-null    int64  \n",
      " 56  Functional       878 non-null    object \n",
      " 57  Fireplaces       878 non-null    int64  \n",
      " 58  Fireplace Qu     456 non-null    object \n",
      " 59  Garage Type      834 non-null    object \n",
      " 60  Garage Yr Blt    833 non-null    float64\n",
      " 61  Garage Finish    833 non-null    object \n",
      " 62  Garage Cars      878 non-null    int64  \n",
      " 63  Garage Area      878 non-null    int64  \n",
      " 64  Garage Qual      833 non-null    object \n",
      " 65  Garage Cond      833 non-null    object \n",
      " 66  Paved Drive      878 non-null    object \n",
      " 67  Wood Deck SF     878 non-null    int64  \n",
      " 68  Open Porch SF    878 non-null    int64  \n",
      " 69  Enclosed Porch   878 non-null    int64  \n",
      " 70  3Ssn Porch       878 non-null    int64  \n",
      " 71  Screen Porch     878 non-null    int64  \n",
      " 72  Pool Area        878 non-null    int64  \n",
      " 73  Pool QC          4 non-null      object \n",
      " 74  Fence            172 non-null    object \n",
      " 75  Misc Feature     41 non-null     object \n",
      " 76  Misc Val         878 non-null    int64  \n",
      " 77  Mo Sold          878 non-null    int64  \n",
      " 78  Yr Sold          878 non-null    int64  \n",
      " 79  Sale Type        878 non-null    object \n",
      "dtypes: float64(3), int64(35), object(42)\n",
      "memory usage: 548.9+ KB\n"
     ]
    }
   ],
   "source": [
    "df.info()"
   ]
  },
  {
   "cell_type": "code",
   "execution_count": 5,
   "metadata": {
    "ExecuteTime": {
     "end_time": "2021-04-10T00:19:30.421685Z",
     "start_time": "2021-04-10T00:19:30.407276Z"
    }
   },
   "outputs": [
    {
     "data": {
      "text/plain": [
       "NaN     837\n",
       "Shed     39\n",
       "Gar2      1\n",
       "Othr      1\n",
       "Name: Misc Feature, dtype: int64"
      ]
     },
     "execution_count": 5,
     "metadata": {},
     "output_type": "execute_result"
    }
   ],
   "source": [
    "df['Misc Feature'].value_counts(dropna=False)"
   ]
  },
  {
   "cell_type": "code",
   "execution_count": 8,
   "metadata": {
    "ExecuteTime": {
     "end_time": "2021-04-10T00:19:30.544668Z",
     "start_time": "2021-04-10T00:19:30.530284Z"
    }
   },
   "outputs": [
    {
     "data": {
      "text/plain": [
       "count    718.000000\n",
       "mean      69.545961\n",
       "std       23.533945\n",
       "min       21.000000\n",
       "25%       59.000000\n",
       "50%       68.000000\n",
       "75%       80.000000\n",
       "max      182.000000\n",
       "Name: Lot Frontage, dtype: float64"
      ]
     },
     "execution_count": 8,
     "metadata": {},
     "output_type": "execute_result"
    }
   ],
   "source": [
    "df['Lot Frontage'].describe()"
   ]
  },
  {
   "cell_type": "code",
   "execution_count": 9,
   "metadata": {
    "ExecuteTime": {
     "end_time": "2021-04-10T00:19:30.560069Z",
     "start_time": "2021-04-10T00:19:30.546155Z"
    }
   },
   "outputs": [
    {
     "data": {
      "text/plain": [
       "count       878.000000\n",
       "mean      10307.033030\n",
       "std       10002.674602\n",
       "min        1477.000000\n",
       "25%        7297.250000\n",
       "50%        9446.000000\n",
       "75%       11589.000000\n",
       "max      215245.000000\n",
       "Name: Lot Area, dtype: float64"
      ]
     },
     "execution_count": 9,
     "metadata": {},
     "output_type": "execute_result"
    }
   ],
   "source": [
    "df['Lot Area'].describe()"
   ]
  },
  {
   "cell_type": "code",
   "execution_count": 10,
   "metadata": {
    "ExecuteTime": {
     "end_time": "2021-04-10T00:19:30.575420Z",
     "start_time": "2021-04-10T00:19:30.561058Z"
    }
   },
   "outputs": [
    {
     "data": {
      "text/plain": [
       "count     878.000000\n",
       "mean     1970.492027\n",
       "std        30.395895\n",
       "min      1880.000000\n",
       "25%      1954.000000\n",
       "50%      1972.000000\n",
       "75%      1999.750000\n",
       "max      2010.000000\n",
       "Name: Year Built, dtype: float64"
      ]
     },
     "execution_count": 10,
     "metadata": {},
     "output_type": "execute_result"
    }
   ],
   "source": [
    "df['Year Built'].describe()"
   ]
  },
  {
   "cell_type": "code",
   "execution_count": 11,
   "metadata": {
    "ExecuteTime": {
     "end_time": "2021-04-10T00:19:30.590821Z",
     "start_time": "2021-04-10T00:19:30.576908Z"
    }
   },
   "outputs": [
    {
     "data": {
      "text/plain": [
       "0"
      ]
     },
     "execution_count": 11,
     "metadata": {},
     "output_type": "execute_result"
    }
   ],
   "source": [
    "df['Year Remod/Add'].isna().sum()"
   ]
  },
  {
   "cell_type": "code",
   "execution_count": 12,
   "metadata": {
    "ExecuteTime": {
     "end_time": "2021-04-10T00:19:30.606196Z",
     "start_time": "2021-04-10T00:19:30.592284Z"
    }
   },
   "outputs": [
    {
     "data": {
      "text/plain": [
       "count     878.000000\n",
       "mean     1984.417995\n",
       "std        20.450725\n",
       "min      1950.000000\n",
       "25%      1967.000000\n",
       "50%      1992.000000\n",
       "75%      2003.000000\n",
       "max      2010.000000\n",
       "Name: Year Remod/Add, dtype: float64"
      ]
     },
     "execution_count": 12,
     "metadata": {},
     "output_type": "execute_result"
    }
   ],
   "source": [
    "df['Year Remod/Add'].describe()"
   ]
  },
  {
   "cell_type": "code",
   "execution_count": 13,
   "metadata": {
    "ExecuteTime": {
     "end_time": "2021-04-10T00:19:30.621548Z",
     "start_time": "2021-04-10T00:19:30.607163Z"
    }
   },
   "outputs": [
    {
     "data": {
      "text/plain": [
       "Index(['Id', 'PID', 'MS SubClass', 'MS Zoning', 'Lot Frontage', 'Lot Area',\n",
       "       'Street', 'Alley', 'Lot Shape', 'Land Contour', 'Utilities',\n",
       "       'Lot Config', 'Land Slope', 'Neighborhood', 'Condition 1',\n",
       "       'Condition 2', 'Bldg Type', 'House Style', 'Overall Qual',\n",
       "       'Overall Cond', 'Year Built', 'Year Remod/Add', 'Roof Style',\n",
       "       'Roof Matl', 'Exterior 1st', 'Exterior 2nd', 'Mas Vnr Type',\n",
       "       'Mas Vnr Area', 'Exter Qual', 'Exter Cond', 'Foundation', 'Bsmt Qual',\n",
       "       'Bsmt Cond', 'Bsmt Exposure', 'BsmtFin Type 1', 'BsmtFin SF 1',\n",
       "       'BsmtFin Type 2', 'BsmtFin SF 2', 'Bsmt Unf SF', 'Total Bsmt SF',\n",
       "       'Heating', 'Heating QC', 'Central Air', 'Electrical', '1st Flr SF',\n",
       "       '2nd Flr SF', 'Low Qual Fin SF', 'Gr Liv Area', 'Bsmt Full Bath',\n",
       "       'Bsmt Half Bath', 'Full Bath', 'Half Bath', 'Bedroom AbvGr',\n",
       "       'Kitchen AbvGr', 'Kitchen Qual', 'TotRms AbvGrd', 'Functional',\n",
       "       'Fireplaces', 'Fireplace Qu', 'Garage Type', 'Garage Yr Blt',\n",
       "       'Garage Finish', 'Garage Cars', 'Garage Area', 'Garage Qual',\n",
       "       'Garage Cond', 'Paved Drive', 'Wood Deck SF', 'Open Porch SF',\n",
       "       'Enclosed Porch', '3Ssn Porch', 'Screen Porch', 'Pool Area', 'Pool QC',\n",
       "       'Fence', 'Misc Feature', 'Misc Val', 'Mo Sold', 'Yr Sold', 'Sale Type'],\n",
       "      dtype='object')"
      ]
     },
     "execution_count": 13,
     "metadata": {},
     "output_type": "execute_result"
    }
   ],
   "source": [
    "df.columns"
   ]
  },
  {
   "cell_type": "markdown",
   "metadata": {},
   "source": [
    "Here I dropped a bunch of columns that I thought (after reading the <a href='http://jse.amstat.org/v19n3/decock/DataDocumentation.txt'>data dictionary</a>) would do more harm than good in prediction. Some of these would be collinear, some wouldn't fit well into my vision for how I wanted to clean my data, some were redundant."
   ]
  },
  {
   "cell_type": "code",
   "execution_count": 14,
   "metadata": {
    "ExecuteTime": {
     "end_time": "2021-04-10T00:19:30.636924Z",
     "start_time": "2021-04-10T00:19:30.623035Z"
    }
   },
   "outputs": [],
   "source": [
    "df.drop(columns=['PID', 'MS SubClass', 'Utilities', 'Condition 2', 'Year Remod/Add', 'Exterior 2nd', \n",
    "                'Mas Vnr Area', 'Bsmt Exposure', 'BsmtFin SF 1', 'BsmtFin Type 2', 'BsmtFin SF 2', \n",
    "                 'Bsmt Unf SF', '1st Flr SF', '2nd Flr SF', 'Low Qual Fin SF', 'Garage Yr Blt',\n",
    "                'Garage Cars', 'Garage Qual', 'Garage Cond', 'Pool QC', 'Misc Val', 'Sale Type'],\n",
    "       inplace=True)"
   ]
  },
  {
   "cell_type": "code",
   "execution_count": 15,
   "metadata": {
    "ExecuteTime": {
     "end_time": "2021-04-10T00:19:30.652324Z",
     "start_time": "2021-04-10T00:19:30.638412Z"
    }
   },
   "outputs": [
    {
     "data": {
      "text/html": [
       "<div>\n",
       "<style scoped>\n",
       "    .dataframe tbody tr th:only-of-type {\n",
       "        vertical-align: middle;\n",
       "    }\n",
       "\n",
       "    .dataframe tbody tr th {\n",
       "        vertical-align: top;\n",
       "    }\n",
       "\n",
       "    .dataframe thead th {\n",
       "        text-align: right;\n",
       "    }\n",
       "</style>\n",
       "<table border=\"1\" class=\"dataframe\">\n",
       "  <thead>\n",
       "    <tr style=\"text-align: right;\">\n",
       "      <th></th>\n",
       "      <th>Id</th>\n",
       "      <th>MS Zoning</th>\n",
       "      <th>Lot Frontage</th>\n",
       "      <th>Lot Area</th>\n",
       "      <th>Street</th>\n",
       "      <th>Alley</th>\n",
       "      <th>Lot Shape</th>\n",
       "      <th>Land Contour</th>\n",
       "      <th>Lot Config</th>\n",
       "      <th>Land Slope</th>\n",
       "      <th>...</th>\n",
       "      <th>Wood Deck SF</th>\n",
       "      <th>Open Porch SF</th>\n",
       "      <th>Enclosed Porch</th>\n",
       "      <th>3Ssn Porch</th>\n",
       "      <th>Screen Porch</th>\n",
       "      <th>Pool Area</th>\n",
       "      <th>Fence</th>\n",
       "      <th>Misc Feature</th>\n",
       "      <th>Mo Sold</th>\n",
       "      <th>Yr Sold</th>\n",
       "    </tr>\n",
       "  </thead>\n",
       "  <tbody>\n",
       "    <tr>\n",
       "      <th>0</th>\n",
       "      <td>2658</td>\n",
       "      <td>RM</td>\n",
       "      <td>69.0</td>\n",
       "      <td>9142</td>\n",
       "      <td>Pave</td>\n",
       "      <td>Grvl</td>\n",
       "      <td>Reg</td>\n",
       "      <td>Lvl</td>\n",
       "      <td>Inside</td>\n",
       "      <td>Gtl</td>\n",
       "      <td>...</td>\n",
       "      <td>0</td>\n",
       "      <td>60</td>\n",
       "      <td>112</td>\n",
       "      <td>0</td>\n",
       "      <td>0</td>\n",
       "      <td>0</td>\n",
       "      <td>NaN</td>\n",
       "      <td>NaN</td>\n",
       "      <td>4</td>\n",
       "      <td>2006</td>\n",
       "    </tr>\n",
       "    <tr>\n",
       "      <th>1</th>\n",
       "      <td>2718</td>\n",
       "      <td>RL</td>\n",
       "      <td>NaN</td>\n",
       "      <td>9662</td>\n",
       "      <td>Pave</td>\n",
       "      <td>NaN</td>\n",
       "      <td>IR1</td>\n",
       "      <td>Lvl</td>\n",
       "      <td>Inside</td>\n",
       "      <td>Gtl</td>\n",
       "      <td>...</td>\n",
       "      <td>170</td>\n",
       "      <td>0</td>\n",
       "      <td>0</td>\n",
       "      <td>0</td>\n",
       "      <td>0</td>\n",
       "      <td>0</td>\n",
       "      <td>NaN</td>\n",
       "      <td>NaN</td>\n",
       "      <td>8</td>\n",
       "      <td>2006</td>\n",
       "    </tr>\n",
       "    <tr>\n",
       "      <th>2</th>\n",
       "      <td>2414</td>\n",
       "      <td>RL</td>\n",
       "      <td>58.0</td>\n",
       "      <td>17104</td>\n",
       "      <td>Pave</td>\n",
       "      <td>NaN</td>\n",
       "      <td>IR1</td>\n",
       "      <td>Lvl</td>\n",
       "      <td>Inside</td>\n",
       "      <td>Gtl</td>\n",
       "      <td>...</td>\n",
       "      <td>100</td>\n",
       "      <td>24</td>\n",
       "      <td>0</td>\n",
       "      <td>0</td>\n",
       "      <td>0</td>\n",
       "      <td>0</td>\n",
       "      <td>NaN</td>\n",
       "      <td>NaN</td>\n",
       "      <td>9</td>\n",
       "      <td>2006</td>\n",
       "    </tr>\n",
       "    <tr>\n",
       "      <th>3</th>\n",
       "      <td>1989</td>\n",
       "      <td>RM</td>\n",
       "      <td>60.0</td>\n",
       "      <td>8520</td>\n",
       "      <td>Pave</td>\n",
       "      <td>NaN</td>\n",
       "      <td>Reg</td>\n",
       "      <td>Lvl</td>\n",
       "      <td>Inside</td>\n",
       "      <td>Gtl</td>\n",
       "      <td>...</td>\n",
       "      <td>0</td>\n",
       "      <td>0</td>\n",
       "      <td>184</td>\n",
       "      <td>0</td>\n",
       "      <td>0</td>\n",
       "      <td>0</td>\n",
       "      <td>NaN</td>\n",
       "      <td>NaN</td>\n",
       "      <td>7</td>\n",
       "      <td>2007</td>\n",
       "    </tr>\n",
       "    <tr>\n",
       "      <th>4</th>\n",
       "      <td>625</td>\n",
       "      <td>RL</td>\n",
       "      <td>NaN</td>\n",
       "      <td>9500</td>\n",
       "      <td>Pave</td>\n",
       "      <td>NaN</td>\n",
       "      <td>IR1</td>\n",
       "      <td>Lvl</td>\n",
       "      <td>Inside</td>\n",
       "      <td>Gtl</td>\n",
       "      <td>...</td>\n",
       "      <td>0</td>\n",
       "      <td>76</td>\n",
       "      <td>0</td>\n",
       "      <td>0</td>\n",
       "      <td>185</td>\n",
       "      <td>0</td>\n",
       "      <td>NaN</td>\n",
       "      <td>NaN</td>\n",
       "      <td>7</td>\n",
       "      <td>2009</td>\n",
       "    </tr>\n",
       "  </tbody>\n",
       "</table>\n",
       "<p>5 rows × 58 columns</p>\n",
       "</div>"
      ],
      "text/plain": [
       "     Id MS Zoning  Lot Frontage  Lot Area Street Alley Lot Shape Land Contour  \\\n",
       "0  2658        RM          69.0      9142   Pave  Grvl       Reg          Lvl   \n",
       "1  2718        RL           NaN      9662   Pave   NaN       IR1          Lvl   \n",
       "2  2414        RL          58.0     17104   Pave   NaN       IR1          Lvl   \n",
       "3  1989        RM          60.0      8520   Pave   NaN       Reg          Lvl   \n",
       "4   625        RL           NaN      9500   Pave   NaN       IR1          Lvl   \n",
       "\n",
       "  Lot Config Land Slope  ... Wood Deck SF Open Porch SF Enclosed Porch  \\\n",
       "0     Inside        Gtl  ...            0            60            112   \n",
       "1     Inside        Gtl  ...          170             0              0   \n",
       "2     Inside        Gtl  ...          100            24              0   \n",
       "3     Inside        Gtl  ...            0             0            184   \n",
       "4     Inside        Gtl  ...            0            76              0   \n",
       "\n",
       "  3Ssn Porch  Screen Porch  Pool Area  Fence Misc Feature Mo Sold Yr Sold  \n",
       "0          0             0          0    NaN          NaN       4    2006  \n",
       "1          0             0          0    NaN          NaN       8    2006  \n",
       "2          0             0          0    NaN          NaN       9    2006  \n",
       "3          0             0          0    NaN          NaN       7    2007  \n",
       "4          0           185          0    NaN          NaN       7    2009  \n",
       "\n",
       "[5 rows x 58 columns]"
      ]
     },
     "execution_count": 15,
     "metadata": {},
     "output_type": "execute_result"
    }
   ],
   "source": [
    "df.head()"
   ]
  },
  {
   "cell_type": "markdown",
   "metadata": {},
   "source": [
    "I decided that the easiest way to clean all of these nasty categorical features, since so many of them were unbalanced to begin with, was to simply binarize most of them."
   ]
  },
  {
   "cell_type": "code",
   "execution_count": 16,
   "metadata": {
    "ExecuteTime": {
     "end_time": "2021-04-10T00:19:30.667700Z",
     "start_time": "2021-04-10T00:19:30.653291Z"
    }
   },
   "outputs": [
    {
     "data": {
      "text/plain": [
       "1    833\n",
       "0     45\n",
       "Name: MS Zoning, dtype: int64"
      ]
     },
     "execution_count": 16,
     "metadata": {},
     "output_type": "execute_result"
    }
   ],
   "source": [
    "# Separating into Residential zoning or not\n",
    "df['MS Zoning'] = df['MS Zoning'].map(lambda x: 1 if x[0] == 'R' else 0)\n",
    "df['MS Zoning'].value_counts()"
   ]
  },
  {
   "cell_type": "code",
   "execution_count": 17,
   "metadata": {
    "ExecuteTime": {
     "end_time": "2021-04-10T00:19:30.683076Z",
     "start_time": "2021-04-10T00:19:30.668669Z"
    }
   },
   "outputs": [
    {
     "data": {
      "text/plain": [
       "160"
      ]
     },
     "execution_count": 17,
     "metadata": {},
     "output_type": "execute_result"
    }
   ],
   "source": [
    "df['Lot Frontage'].isna().sum()"
   ]
  },
  {
   "cell_type": "markdown",
   "metadata": {},
   "source": [
    " I'm assuming the NaN values mean 0, and separating into \"within IQR of frontage or not\""
   ]
  },
  {
   "cell_type": "code",
   "execution_count": null,
   "metadata": {
    "ExecuteTime": {
     "end_time": "2021-04-10T00:19:30.698458Z",
     "start_time": "2021-04-10T00:19:30.684540Z"
    }
   },
   "outputs": [],
   "source": [
    "df['Lot Frontage'] = df['Lot Frontage'].map(lambda x: 1 if 58 <= x <= 80 else 0)\n",
    "df['Lot Frontage'].value_counts()"
   ]
  },
  {
   "cell_type": "code",
   "execution_count": 19,
   "metadata": {
    "ExecuteTime": {
     "end_time": "2021-04-10T00:19:30.713832Z",
     "start_time": "2021-04-10T00:19:30.699419Z"
    }
   },
   "outputs": [
    {
     "data": {
      "text/plain": [
       "count       878.000000\n",
       "mean      10307.033030\n",
       "std       10002.674602\n",
       "min        1477.000000\n",
       "25%        7297.250000\n",
       "50%        9446.000000\n",
       "75%       11589.000000\n",
       "max      215245.000000\n",
       "Name: Lot Area, dtype: float64"
      ]
     },
     "execution_count": 19,
     "metadata": {},
     "output_type": "execute_result"
    }
   ],
   "source": [
    "df['Lot Area'].describe()"
   ]
  },
  {
   "cell_type": "code",
   "execution_count": 20,
   "metadata": {
    "ExecuteTime": {
     "end_time": "2021-04-10T00:19:30.729201Z",
     "start_time": "2021-04-10T00:19:30.714824Z"
    }
   },
   "outputs": [
    {
     "data": {
      "text/plain": [
       "215245    1\n",
       "164660    1\n",
       "56600     1\n",
       "45600     1\n",
       "36500     1\n",
       "35760     1\n",
       "35133     1\n",
       "33983     1\n",
       "31220     1\n",
       "29959     1\n",
       "Name: Lot Area, dtype: int64"
      ]
     },
     "execution_count": 20,
     "metadata": {},
     "output_type": "execute_result"
    }
   ],
   "source": [
    "df['Lot Area'].value_counts(dropna=False).sort_index(ascending=False).head(10)"
   ]
  },
  {
   "cell_type": "markdown",
   "metadata": {},
   "source": [
    "This one was already binary, just converting to actual 1/0"
   ]
  },
  {
   "cell_type": "code",
   "execution_count": 21,
   "metadata": {
    "ExecuteTime": {
     "end_time": "2021-04-10T00:19:30.744556Z",
     "start_time": "2021-04-10T00:19:30.733147Z"
    }
   },
   "outputs": [],
   "source": [
    "df.Street = df.Street.map(lambda x: 1 if x == 'Pave' else 0)"
   ]
  },
  {
   "cell_type": "markdown",
   "metadata": {},
   "source": [
    "Whether or not a house has alley access"
   ]
  },
  {
   "cell_type": "code",
   "execution_count": 22,
   "metadata": {
    "ExecuteTime": {
     "end_time": "2021-04-10T00:19:30.759959Z",
     "start_time": "2021-04-10T00:19:30.746540Z"
    }
   },
   "outputs": [],
   "source": [
    "df.Alley = df.Alley.map(lambda x: 1 if x in ['Grvl', 'Pave'] else 0)"
   ]
  },
  {
   "cell_type": "markdown",
   "metadata": {},
   "source": [
    "Whether or not the lot is regularly shaped"
   ]
  },
  {
   "cell_type": "code",
   "execution_count": 23,
   "metadata": {
    "ExecuteTime": {
     "end_time": "2021-04-10T00:19:30.775332Z",
     "start_time": "2021-04-10T00:19:30.760954Z"
    }
   },
   "outputs": [],
   "source": [
    "df['Lot Shape'] = df['Lot Shape'].map(lambda x: 1 if x == 'Reg' else 0)"
   ]
  },
  {
   "cell_type": "markdown",
   "metadata": {},
   "source": [
    "Whether or not the lot is flat"
   ]
  },
  {
   "cell_type": "code",
   "execution_count": 24,
   "metadata": {
    "ExecuteTime": {
     "end_time": "2021-04-10T00:19:30.790684Z",
     "start_time": "2021-04-10T00:19:30.776324Z"
    }
   },
   "outputs": [],
   "source": [
    "df['Land Contour'] = df['Land Contour'].map(lambda x: 1 if x == 'Lvl' else 0)"
   ]
  },
  {
   "cell_type": "markdown",
   "metadata": {},
   "source": [
    "I got sick of writing out unique lambdas for every column"
   ]
  },
  {
   "cell_type": "code",
   "execution_count": 25,
   "metadata": {
    "ExecuteTime": {
     "end_time": "2021-04-10T00:19:30.806087Z",
     "start_time": "2021-04-10T00:19:30.791676Z"
    }
   },
   "outputs": [],
   "source": [
    "# Laziness is my passion\n",
    "\n",
    "# This lets me input a column to map, an operator (is, is not, in, greater than, etc.), \n",
    "# and a condition to compare to, and returns a mapped (binarized) version of the input column.\n",
    "# I could have added more operators, but I only needed the ones you see below\n",
    "def binarizer(col, operator, condition):\n",
    "    if operator == 'is':\n",
    "        return df[col].map(lambda x: 1 if x == condition else 0)\n",
    "    elif operator == 'is not':\n",
    "        return df[col].map(lambda x: 1 if x != condition else 0)\n",
    "    elif operator == 'lt':\n",
    "        return df[col].map(lambda x: 1 if x < condition else 0)\n",
    "    elif operator == 'in':\n",
    "        return df[col].map(lambda x: 1 if x in condition else 0)\n",
    "    elif operator == 'gte':\n",
    "        return df[col].map(lambda x: 1 if x >= condition else 0)\n",
    "    "
   ]
  },
  {
   "cell_type": "markdown",
   "metadata": {},
   "source": [
    "Wherther or not the lot is 'normal' (specifically an inside lot, not corner lot, cul-de-sac, other weird lot type)"
   ]
  },
  {
   "cell_type": "code",
   "execution_count": 26,
   "metadata": {
    "ExecuteTime": {
     "end_time": "2021-04-10T00:19:30.821461Z",
     "start_time": "2021-04-10T00:19:30.807083Z"
    }
   },
   "outputs": [],
   "source": [
    "df['Lot Config'] = binarizer('Lot Config', 'is', 'Inside')"
   ]
  },
  {
   "cell_type": "code",
   "execution_count": 27,
   "metadata": {
    "ExecuteTime": {
     "end_time": "2021-04-10T00:19:30.836835Z",
     "start_time": "2021-04-10T00:19:30.822456Z"
    }
   },
   "outputs": [
    {
     "data": {
      "text/plain": [
       "Norm      755\n",
       "Feedr      55\n",
       "Artery     22\n",
       "RRAn       14\n",
       "PosN       11\n",
       "PosA        8\n",
       "RRAe        7\n",
       "RRNe        3\n",
       "RRNn        3\n",
       "Name: Condition 1, dtype: int64"
      ]
     },
     "execution_count": 27,
     "metadata": {},
     "output_type": "execute_result"
    }
   ],
   "source": [
    "df['Condition 1'].value_counts()"
   ]
  },
  {
   "cell_type": "markdown",
   "metadata": {},
   "source": [
    "I made this one essentially `is_near_railroad`, as most of the values here are 'no condition' anyway, and I predicted that proximity to a railroad would have the most impact on house value"
   ]
  },
  {
   "cell_type": "code",
   "execution_count": 28,
   "metadata": {
    "ExecuteTime": {
     "end_time": "2021-04-10T00:19:30.852214Z",
     "start_time": "2021-04-10T00:19:30.837835Z"
    }
   },
   "outputs": [],
   "source": [
    "df['Condition 1'] = binarizer('Condition 1', 'in', ['RRAn', 'RRAe', 'RRNn', 'RRNe'])"
   ]
  },
  {
   "cell_type": "markdown",
   "metadata": {},
   "source": [
    "Single family house or not"
   ]
  },
  {
   "cell_type": "code",
   "execution_count": 29,
   "metadata": {
    "ExecuteTime": {
     "end_time": "2021-04-10T00:19:30.867588Z",
     "start_time": "2021-04-10T00:19:30.853179Z"
    }
   },
   "outputs": [],
   "source": [
    "df['Bldg Type'] = binarizer('Bldg Type', 'is', '1Fam')"
   ]
  },
  {
   "cell_type": "markdown",
   "metadata": {},
   "source": [
    "Single story house or not"
   ]
  },
  {
   "cell_type": "code",
   "execution_count": 30,
   "metadata": {
    "ExecuteTime": {
     "end_time": "2021-04-10T00:19:30.882954Z",
     "start_time": "2021-04-10T00:19:30.868580Z"
    }
   },
   "outputs": [],
   "source": [
    "df['House Style'] = binarizer('House Style', 'is', '1Story')"
   ]
  },
  {
   "cell_type": "markdown",
   "metadata": {},
   "source": [
    "House built before 1970 or not"
   ]
  },
  {
   "cell_type": "code",
   "execution_count": 31,
   "metadata": {
    "ExecuteTime": {
     "end_time": "2021-04-10T00:19:30.898337Z",
     "start_time": "2021-04-10T00:19:30.884441Z"
    }
   },
   "outputs": [],
   "source": [
    "df['Year Built'] = binarizer('Year Built', 'lt', 1970)"
   ]
  },
  {
   "cell_type": "markdown",
   "metadata": {},
   "source": [
    "Gable style roof or not"
   ]
  },
  {
   "cell_type": "code",
   "execution_count": 32,
   "metadata": {
    "ExecuteTime": {
     "end_time": "2021-04-10T00:19:30.913716Z",
     "start_time": "2021-04-10T00:19:30.899804Z"
    }
   },
   "outputs": [],
   "source": [
    "df['Roof Style'] = binarizer('Roof Style', 'is', 'Gable')"
   ]
  },
  {
   "cell_type": "markdown",
   "metadata": {},
   "source": [
    "Standard composite shingled roof or not"
   ]
  },
  {
   "cell_type": "code",
   "execution_count": 33,
   "metadata": {
    "ExecuteTime": {
     "end_time": "2021-04-10T00:19:30.929104Z",
     "start_time": "2021-04-10T00:19:30.914684Z"
    }
   },
   "outputs": [],
   "source": [
    "df['Roof Matl'] = binarizer('Roof Matl', 'is', 'CompShg')"
   ]
  },
  {
   "cell_type": "markdown",
   "metadata": {},
   "source": [
    "Standard vinyl siding or not"
   ]
  },
  {
   "cell_type": "code",
   "execution_count": 34,
   "metadata": {
    "ExecuteTime": {
     "end_time": "2021-04-10T00:19:30.944444Z",
     "start_time": "2021-04-10T00:19:30.930059Z"
    }
   },
   "outputs": [],
   "source": [
    "df['Exterior 1st'] = binarizer('Exterior 1st', 'is', 'VinylSd')"
   ]
  },
  {
   "cell_type": "markdown",
   "metadata": {},
   "source": [
    "Has masonry veneer or not"
   ]
  },
  {
   "cell_type": "code",
   "execution_count": 35,
   "metadata": {
    "ExecuteTime": {
     "end_time": "2021-04-10T00:19:30.959848Z",
     "start_time": "2021-04-10T00:19:30.945435Z"
    }
   },
   "outputs": [],
   "source": [
    "df['Mas Vnr Type'] = binarizer('Mas Vnr Type', 'is not', 'None')"
   ]
  },
  {
   "cell_type": "markdown",
   "metadata": {},
   "source": [
    "Exterior quality above average or not"
   ]
  },
  {
   "cell_type": "code",
   "execution_count": 36,
   "metadata": {
    "ExecuteTime": {
     "end_time": "2021-04-10T00:19:30.975228Z",
     "start_time": "2021-04-10T00:19:30.961307Z"
    }
   },
   "outputs": [],
   "source": [
    "df['Exter Qual'] = binarizer('Exter Qual', 'in', ['Gd', 'Ex'])"
   ]
  },
  {
   "cell_type": "code",
   "execution_count": 37,
   "metadata": {
    "ExecuteTime": {
     "end_time": "2021-04-10T00:19:30.990572Z",
     "start_time": "2021-04-10T00:19:30.976187Z"
    }
   },
   "outputs": [],
   "source": [
    "gdex = ['Gd', 'Ex']"
   ]
  },
  {
   "cell_type": "markdown",
   "metadata": {},
   "source": [
    "Current exterior condition above average or not"
   ]
  },
  {
   "cell_type": "code",
   "execution_count": 38,
   "metadata": {
    "ExecuteTime": {
     "end_time": "2021-04-10T00:19:31.005972Z",
     "start_time": "2021-04-10T00:19:30.991564Z"
    }
   },
   "outputs": [],
   "source": [
    "df['Exter Cond'] = binarizer('Exter Cond', 'in', gdex)"
   ]
  },
  {
   "cell_type": "markdown",
   "metadata": {},
   "source": [
    "Basement ceiling height above average or not"
   ]
  },
  {
   "cell_type": "code",
   "execution_count": 39,
   "metadata": {
    "ExecuteTime": {
     "end_time": "2021-04-10T00:19:31.021348Z",
     "start_time": "2021-04-10T00:19:31.006939Z"
    }
   },
   "outputs": [],
   "source": [
    "df['Bsmt Qual'] = binarizer('Bsmt Qual', 'in', gdex)"
   ]
  },
  {
   "cell_type": "markdown",
   "metadata": {},
   "source": [
    "Basement condition above average or not"
   ]
  },
  {
   "cell_type": "code",
   "execution_count": 40,
   "metadata": {
    "ExecuteTime": {
     "end_time": "2021-04-10T00:19:31.036700Z",
     "start_time": "2021-04-10T00:19:31.022349Z"
    }
   },
   "outputs": [],
   "source": [
    "df['Bsmt Cond'] = binarizer('Bsmt Cond', 'in', gdex)"
   ]
  },
  {
   "cell_type": "markdown",
   "metadata": {},
   "source": [
    "Is the basement finished or not"
   ]
  },
  {
   "cell_type": "code",
   "execution_count": 42,
   "metadata": {
    "ExecuteTime": {
     "end_time": "2021-04-10T00:19:31.067452Z",
     "start_time": "2021-04-10T00:19:31.053068Z"
    }
   },
   "outputs": [],
   "source": [
    "df['BsmtFin Type 1'] = binarizer('BsmtFin Type 1', 'in', ['GLQ', 'ALQ', 'BLQ', 'Rec', 'LwQ'])"
   ]
  },
  {
   "cell_type": "markdown",
   "metadata": {},
   "source": [
    "Has forced air furnace or not"
   ]
  },
  {
   "cell_type": "code",
   "execution_count": 43,
   "metadata": {
    "ExecuteTime": {
     "end_time": "2021-04-10T00:19:31.082828Z",
     "start_time": "2021-04-10T00:19:31.068941Z"
    }
   },
   "outputs": [],
   "source": [
    "df.Heating = binarizer('Heating', 'is', 'GasA')"
   ]
  },
  {
   "cell_type": "markdown",
   "metadata": {},
   "source": [
    "Heating quality above average or not"
   ]
  },
  {
   "cell_type": "code",
   "execution_count": 44,
   "metadata": {
    "ExecuteTime": {
     "end_time": "2021-04-10T00:19:31.098203Z",
     "start_time": "2021-04-10T00:19:31.085308Z"
    }
   },
   "outputs": [],
   "source": [
    "df['Heating QC'] = binarizer('Heating QC', 'in', gdex)"
   ]
  },
  {
   "cell_type": "markdown",
   "metadata": {},
   "source": [
    "Has central air or not"
   ]
  },
  {
   "cell_type": "code",
   "execution_count": 45,
   "metadata": {
    "ExecuteTime": {
     "end_time": "2021-04-10T00:19:31.113579Z",
     "start_time": "2021-04-10T00:19:31.099195Z"
    }
   },
   "outputs": [],
   "source": [
    "df['Central Air'] = binarizer('Central Air', 'is', 'Y')"
   ]
  },
  {
   "cell_type": "markdown",
   "metadata": {},
   "source": [
    "Has standard circuit breaker or not"
   ]
  },
  {
   "cell_type": "code",
   "execution_count": 46,
   "metadata": {
    "ExecuteTime": {
     "end_time": "2021-04-10T00:19:31.128983Z",
     "start_time": "2021-04-10T00:19:31.114571Z"
    }
   },
   "outputs": [],
   "source": [
    "df.Electrical = binarizer('Electrical', 'is', 'SBrkr')"
   ]
  },
  {
   "cell_type": "markdown",
   "metadata": {},
   "source": [
    "Kitchen quality above average or not"
   ]
  },
  {
   "cell_type": "code",
   "execution_count": 47,
   "metadata": {
    "ExecuteTime": {
     "end_time": "2021-04-10T00:19:31.144364Z",
     "start_time": "2021-04-10T00:19:31.129976Z"
    }
   },
   "outputs": [],
   "source": [
    "df['Kitchen Qual'] = binarizer('Kitchen Qual', 'in', gdex)"
   ]
  },
  {
   "cell_type": "markdown",
   "metadata": {},
   "source": [
    "Is the house fully functional or not"
   ]
  },
  {
   "cell_type": "code",
   "execution_count": 48,
   "metadata": {
    "ExecuteTime": {
     "end_time": "2021-04-10T00:19:31.159731Z",
     "start_time": "2021-04-10T00:19:31.145352Z"
    }
   },
   "outputs": [],
   "source": [
    "df.Functional = binarizer('Functional', 'is', 'Typ')"
   ]
  },
  {
   "cell_type": "markdown",
   "metadata": {},
   "source": [
    "Has a fireplace or not"
   ]
  },
  {
   "cell_type": "code",
   "execution_count": 49,
   "metadata": {
    "ExecuteTime": {
     "end_time": "2021-04-10T00:19:31.175107Z",
     "start_time": "2021-04-10T00:19:31.160715Z"
    }
   },
   "outputs": [],
   "source": [
    "df.Fireplaces = binarizer('Fireplaces', 'gte', 1)"
   ]
  },
  {
   "cell_type": "markdown",
   "metadata": {},
   "source": [
    "fireplace quality above average or not"
   ]
  },
  {
   "cell_type": "code",
   "execution_count": 50,
   "metadata": {
    "ExecuteTime": {
     "end_time": "2021-04-10T00:19:31.190459Z",
     "start_time": "2021-04-10T00:19:31.176571Z"
    }
   },
   "outputs": [],
   "source": [
    "df['Fireplace Qu'] = binarizer('Fireplace Qu', 'in', gdex)"
   ]
  },
  {
   "cell_type": "markdown",
   "metadata": {},
   "source": [
    "Assuming `NaN`s for `Garage Type` indicate no garage, filling `NaN`s with 0"
   ]
  },
  {
   "cell_type": "code",
   "execution_count": 51,
   "metadata": {
    "ExecuteTime": {
     "end_time": "2021-04-10T00:19:31.205835Z",
     "start_time": "2021-04-10T00:19:31.191451Z"
    }
   },
   "outputs": [
    {
     "data": {
      "text/plain": [
       "Attchd     518\n",
       "Detchd     246\n",
       "BuiltIn     53\n",
       "0           44\n",
       "Basment      9\n",
       "CarPort      4\n",
       "2Types       4\n",
       "Name: Garage Type, dtype: int64"
      ]
     },
     "execution_count": 51,
     "metadata": {},
     "output_type": "execute_result"
    }
   ],
   "source": [
    "df['Garage Type'].fillna(0, inplace=True)\n",
    "df['Garage Type'].value_counts(dropna=False)"
   ]
  },
  {
   "cell_type": "markdown",
   "metadata": {},
   "source": [
    "Has a garage or not"
   ]
  },
  {
   "cell_type": "code",
   "execution_count": 52,
   "metadata": {
    "ExecuteTime": {
     "end_time": "2021-04-10T00:19:31.221211Z",
     "start_time": "2021-04-10T00:19:31.206827Z"
    }
   },
   "outputs": [],
   "source": [
    "# has a garage or not\n",
    "df['Garage Type'] = binarizer('Garage Type', 'is not', 0)"
   ]
  },
  {
   "cell_type": "markdown",
   "metadata": {},
   "source": [
    "Is the garage finished or not"
   ]
  },
  {
   "cell_type": "code",
   "execution_count": 54,
   "metadata": {
    "ExecuteTime": {
     "end_time": "2021-04-10T00:19:31.251987Z",
     "start_time": "2021-04-10T00:19:31.237611Z"
    }
   },
   "outputs": [],
   "source": [
    "df['Garage Finish'] = df['Garage Finish'].map(lambda x: 1 if x in ['RFn', 'Fin'] else 0)"
   ]
  },
  {
   "cell_type": "markdown",
   "metadata": {},
   "source": [
    "Is the driveway paved or not"
   ]
  },
  {
   "cell_type": "code",
   "execution_count": 55,
   "metadata": {
    "ExecuteTime": {
     "end_time": "2021-04-10T00:19:31.267339Z",
     "start_time": "2021-04-10T00:19:31.252982Z"
    }
   },
   "outputs": [],
   "source": [
    "df['Paved Drive'] = binarizer('Paved Drive', 'in', ['Y', 'P'])"
   ]
  },
  {
   "cell_type": "markdown",
   "metadata": {},
   "source": [
    "For each of the deck/porch columns and the pool column, does the house have one or not"
   ]
  },
  {
   "cell_type": "code",
   "execution_count": 57,
   "metadata": {
    "ExecuteTime": {
     "end_time": "2021-04-10T00:19:31.298091Z",
     "start_time": "2021-04-10T00:19:31.283707Z"
    }
   },
   "outputs": [],
   "source": [
    "cols = ['Wood Deck SF', 'Open Porch SF',\n",
    "       'Enclosed Porch', '3Ssn Porch', 'Screen Porch', 'Pool Area']\n",
    "for col in cols:\n",
    "    df[col] = binarizer(col, 'gte', 1)"
   ]
  },
  {
   "cell_type": "markdown",
   "metadata": {},
   "source": []
  },
  {
   "cell_type": "code",
   "execution_count": 59,
   "metadata": {
    "ExecuteTime": {
     "end_time": "2021-04-10T00:19:31.328871Z",
     "start_time": "2021-04-10T00:19:31.314955Z"
    }
   },
   "outputs": [],
   "source": [
    "df.Fence = binarizer('Fence', 'in', ['MnPrv', 'GdPrv', 'GdWo', 'MnWw'])"
   ]
  },
  {
   "cell_type": "markdown",
   "metadata": {},
   "source": [
    "Does the house have a miscellanious feature or not"
   ]
  },
  {
   "cell_type": "code",
   "execution_count": 61,
   "metadata": {
    "ExecuteTime": {
     "end_time": "2021-04-10T00:19:31.359619Z",
     "start_time": "2021-04-10T00:19:31.345211Z"
    }
   },
   "outputs": [],
   "source": [
    "df['Misc Feature'] = binarizer('Misc Feature', 'in', ['Shed', 'Gar2', 'Othr', 'TenC', 'Elev'])"
   ]
  },
  {
   "cell_type": "markdown",
   "metadata": {},
   "source": [
    "Combining features into aggregates that make more sense:\n",
    "\n",
    "I.e. making totals out of above/below grade room/sqft counts"
   ]
  },
  {
   "cell_type": "code",
   "execution_count": 62,
   "metadata": {
    "ExecuteTime": {
     "end_time": "2021-04-10T00:19:31.374971Z",
     "start_time": "2021-04-10T00:19:31.360603Z"
    }
   },
   "outputs": [],
   "source": [
    "df['total_sqft'] = df['Total Bsmt SF'] + df['Gr Liv Area']"
   ]
  },
  {
   "cell_type": "code",
   "execution_count": 63,
   "metadata": {
    "ExecuteTime": {
     "end_time": "2021-04-10T00:19:31.390369Z",
     "start_time": "2021-04-10T00:19:31.375974Z"
    }
   },
   "outputs": [],
   "source": [
    "df['full_baths'] = df['Bsmt Full Bath'] + df['Full Bath']"
   ]
  },
  {
   "cell_type": "code",
   "execution_count": 64,
   "metadata": {
    "ExecuteTime": {
     "end_time": "2021-04-10T00:19:31.405747Z",
     "start_time": "2021-04-10T00:19:31.391381Z"
    }
   },
   "outputs": [],
   "source": [
    "df['half_baths'] = df['Bsmt Half Bath'] + df['Half Bath']"
   ]
  },
  {
   "cell_type": "code",
   "execution_count": 65,
   "metadata": {
    "ExecuteTime": {
     "end_time": "2021-04-10T00:19:31.421145Z",
     "start_time": "2021-04-10T00:19:31.406715Z"
    }
   },
   "outputs": [],
   "source": [
    "df['total_rooms'] = df.full_baths + df.half_baths + df['Kitchen AbvGr'] + df['Bedroom AbvGr']"
   ]
  },
  {
   "cell_type": "markdown",
   "metadata": {},
   "source": [
    "Then dropping the columns we no longer need"
   ]
  },
  {
   "cell_type": "code",
   "execution_count": 66,
   "metadata": {
    "ExecuteTime": {
     "end_time": "2021-04-10T00:19:31.436509Z",
     "start_time": "2021-04-10T00:19:31.428070Z"
    }
   },
   "outputs": [],
   "source": [
    "df.drop(columns=['Total Bsmt SF', 'Gr Liv Area', 'Bsmt Full Bath', 'Full Bath', 'Bsmt Half Bath', \n",
    "                'Half Bath', 'Kitchen AbvGr', 'Bedroom AbvGr'], inplace=True)"
   ]
  },
  {
   "cell_type": "code",
   "execution_count": 69,
   "metadata": {
    "ExecuteTime": {
     "end_time": "2021-04-10T00:19:31.513387Z",
     "start_time": "2021-04-10T00:19:31.498971Z"
    }
   },
   "outputs": [],
   "source": [
    "df.drop(columns=['TotRms AbvGrd'], inplace=True)"
   ]
  },
  {
   "cell_type": "markdown",
   "metadata": {},
   "source": [
    "And renaming the columns into something more friendly to my lazy typing fingers:"
   ]
  },
  {
   "cell_type": "code",
   "execution_count": 71,
   "metadata": {
    "ExecuteTime": {
     "end_time": "2021-04-10T00:19:31.544138Z",
     "start_time": "2021-04-10T00:19:31.529723Z"
    }
   },
   "outputs": [],
   "source": [
    "df.rename(columns = {'MS Zoning': 'zoning', \n",
    "                     'Lot Frontage': 'normal_frontage', \n",
    "                     'Lot Area': 'lot_area',\n",
    "                     'Street': 'paved_access',\n",
    "                     'Alley': 'alley', \n",
    "                     'Lot Shape': 'reg_shape', \n",
    "                     'Land Contour': 'is_flat', \n",
    "                     'Lot Config': 'inside_lot', \n",
    "                     'Land Slope': 'slope', \n",
    "                     'Neighborhood': 'neighborhood', \n",
    "                     'Condition 1': 'near_rr', \n",
    "                     'Bldg Type': 'single_fam', \n",
    "                     'House Style': 'one_story', \n",
    "                     'Overall Qual': 'house_qual', \n",
    "                     'Overall Cond': 'house_cond', \n",
    "                     'Year Built': 'built_before_1970', \n",
    "                     'Roof Style': 'roof_gable', \n",
    "                     'Roof Matl': 'roof_std_shingle', \n",
    "                     'Exterior 1st': 'vinyl_siding', \n",
    "                     'Mas Vnr Type': 'has_masonry', \n",
    "                     'Exter Qual': 'ext_qual_above_avg', \n",
    "                     'Exter Cond': 'ext_cond_above_avg',\n",
    "                     'Foundation': 'foundation', \n",
    "                     'Bsmt Qual': 'b_height_above_avg', \n",
    "                     'Bsmt Cond': 'b_cond_above_avg', \n",
    "                     'BsmtFin Type 1': 'basement_finished', \n",
    "                     'Heating': 'forced_air', \n",
    "                     'Heating QC': 'heating_above_avg', \n",
    "                     'Central Air': 'central_air', \n",
    "                     'Electrical': 'std_circuit_breaker', \n",
    "                     'Kitchen Qual': 'kitchen_above_avg', \n",
    "                     'Functional': 'fully_functional', \n",
    "                     'Fireplaces': 'has_fireplace', \n",
    "                     'Fireplace Qu': 'fireplace_qual', \n",
    "                     'Garage Type': 'has_garage', \n",
    "                     'Garage Finish': 'garage_finished', \n",
    "                     'Garage Area': 'garage_sqft', \n",
    "                     'Paved Drive': 'driveway_paved', \n",
    "                     'Wood Deck SF': 'has_wood_deck', \n",
    "                     'Open Porch SF': 'has_open_porch', \n",
    "                     'Enclosed Porch': 'has_encl_porch', \n",
    "                     '3Ssn Porch': 'has_3ssn_porch', \n",
    "                     'Screen Porch': 'has_screen_porch', \n",
    "                     'Pool Area': 'has_pool', \n",
    "                     'Fence': 'has_fence', \n",
    "                     'Misc Feature': 'has_misc', \n",
    "                     'Mo Sold': 'month_sold', \n",
    "                     'Yr Sold': 'year_sold'\n",
    "                    }, inplace=True)"
   ]
  },
  {
   "cell_type": "markdown",
   "metadata": {},
   "source": [
    "Double-checking I didn't miss anything"
   ]
  },
  {
   "cell_type": "code",
   "execution_count": 72,
   "metadata": {
    "ExecuteTime": {
     "end_time": "2021-04-10T00:19:31.559510Z",
     "start_time": "2021-04-10T00:19:31.545099Z"
    }
   },
   "outputs": [
    {
     "data": {
      "text/plain": [
       "Index(['Id', 'zoning', 'normal_frontage', 'lot_area', 'paved_access', 'alley',\n",
       "       'reg_shape', 'is_flat', 'inside_lot', 'slope', 'neighborhood',\n",
       "       'near_rr', 'single_fam', 'one_story', 'house_qual', 'house_cond',\n",
       "       'built_before_1970', 'roof_gable', 'roof_std_shingle', 'vinyl_siding',\n",
       "       'has_masonry', 'ext_qual_above_avg', 'ext_cond_above_avg', 'foundation',\n",
       "       'b_height_above_avg', 'b_cond_above_avg', 'basement_finished',\n",
       "       'forced_air', 'heating_above_avg', 'central_air', 'std_circuit_breaker',\n",
       "       'kitchen_above_avg', 'fully_functional', 'has_fireplace',\n",
       "       'fireplace_qual', 'has_garage', 'garage_finished', 'garage_sqft',\n",
       "       'driveway_paved', 'has_wood_deck', 'has_open_porch', 'has_encl_porch',\n",
       "       'has_3ssn_porch', 'has_screen_porch', 'has_pool', 'has_fence',\n",
       "       'has_misc', 'month_sold', 'year_sold', 'total_sqft', 'full_baths',\n",
       "       'half_baths', 'total_rooms'],\n",
       "      dtype='object')"
      ]
     },
     "execution_count": 72,
     "metadata": {},
     "output_type": "execute_result"
    }
   ],
   "source": [
    "df.columns"
   ]
  },
  {
   "cell_type": "code",
   "execution_count": 73,
   "metadata": {
    "ExecuteTime": {
     "end_time": "2021-04-10T00:19:31.574887Z",
     "start_time": "2021-04-10T00:19:31.560475Z"
    }
   },
   "outputs": [
    {
     "data": {
      "text/plain": [
       "Id                     0\n",
       "zoning                 0\n",
       "normal_frontage        0\n",
       "lot_area               0\n",
       "paved_access           0\n",
       "alley                  0\n",
       "reg_shape              0\n",
       "is_flat                0\n",
       "inside_lot             0\n",
       "slope                  0\n",
       "neighborhood           0\n",
       "near_rr                0\n",
       "single_fam             0\n",
       "one_story              0\n",
       "house_qual             0\n",
       "house_cond             0\n",
       "built_before_1970      0\n",
       "roof_gable             0\n",
       "roof_std_shingle       0\n",
       "vinyl_siding           0\n",
       "has_masonry            0\n",
       "ext_qual_above_avg     0\n",
       "ext_cond_above_avg     0\n",
       "foundation             0\n",
       "b_height_above_avg     0\n",
       "b_cond_above_avg       0\n",
       "basement_finished      0\n",
       "forced_air             0\n",
       "heating_above_avg      0\n",
       "central_air            0\n",
       "std_circuit_breaker    0\n",
       "kitchen_above_avg      0\n",
       "fully_functional       0\n",
       "has_fireplace          0\n",
       "fireplace_qual         0\n",
       "has_garage             0\n",
       "garage_finished        0\n",
       "garage_sqft            0\n",
       "driveway_paved         0\n",
       "has_wood_deck          0\n",
       "has_open_porch         0\n",
       "has_encl_porch         0\n",
       "has_3ssn_porch         0\n",
       "has_screen_porch       0\n",
       "has_pool               0\n",
       "has_fence              0\n",
       "has_misc               0\n",
       "month_sold             0\n",
       "year_sold              0\n",
       "total_sqft             0\n",
       "full_baths             0\n",
       "half_baths             0\n",
       "total_rooms            0\n",
       "dtype: int64"
      ]
     },
     "execution_count": 73,
     "metadata": {},
     "output_type": "execute_result"
    }
   ],
   "source": [
    "df.isna().sum()"
   ]
  },
  {
   "cell_type": "code",
   "execution_count": 74,
   "metadata": {
    "ExecuteTime": {
     "end_time": "2021-04-10T00:19:31.590264Z",
     "start_time": "2021-04-10T00:19:31.576347Z"
    }
   },
   "outputs": [],
   "source": [
    "df.garage_sqft.fillna(df.garage_sqft.mean(), inplace=True)"
   ]
  },
  {
   "cell_type": "code",
   "execution_count": 75,
   "metadata": {
    "ExecuteTime": {
     "end_time": "2021-04-10T00:19:31.605611Z",
     "start_time": "2021-04-10T00:19:31.591226Z"
    }
   },
   "outputs": [],
   "source": [
    "for col in ['total_sqft', 'full_baths', 'half_baths', 'total_rooms']:\n",
    "    df[col].fillna(df[col].mean(), inplace=True)"
   ]
  },
  {
   "cell_type": "code",
   "execution_count": 76,
   "metadata": {
    "ExecuteTime": {
     "end_time": "2021-04-10T00:19:31.620987Z",
     "start_time": "2021-04-10T00:19:31.606602Z"
    }
   },
   "outputs": [
    {
     "data": {
      "text/plain": [
       "Id                     0\n",
       "zoning                 0\n",
       "normal_frontage        0\n",
       "lot_area               0\n",
       "paved_access           0\n",
       "alley                  0\n",
       "reg_shape              0\n",
       "is_flat                0\n",
       "inside_lot             0\n",
       "slope                  0\n",
       "neighborhood           0\n",
       "near_rr                0\n",
       "single_fam             0\n",
       "one_story              0\n",
       "house_qual             0\n",
       "house_cond             0\n",
       "built_before_1970      0\n",
       "roof_gable             0\n",
       "roof_std_shingle       0\n",
       "vinyl_siding           0\n",
       "has_masonry            0\n",
       "ext_qual_above_avg     0\n",
       "ext_cond_above_avg     0\n",
       "foundation             0\n",
       "b_height_above_avg     0\n",
       "b_cond_above_avg       0\n",
       "basement_finished      0\n",
       "forced_air             0\n",
       "heating_above_avg      0\n",
       "central_air            0\n",
       "std_circuit_breaker    0\n",
       "kitchen_above_avg      0\n",
       "fully_functional       0\n",
       "has_fireplace          0\n",
       "fireplace_qual         0\n",
       "has_garage             0\n",
       "garage_finished        0\n",
       "garage_sqft            0\n",
       "driveway_paved         0\n",
       "has_wood_deck          0\n",
       "has_open_porch         0\n",
       "has_encl_porch         0\n",
       "has_3ssn_porch         0\n",
       "has_screen_porch       0\n",
       "has_pool               0\n",
       "has_fence              0\n",
       "has_misc               0\n",
       "month_sold             0\n",
       "year_sold              0\n",
       "total_sqft             0\n",
       "full_baths             0\n",
       "half_baths             0\n",
       "total_rooms            0\n",
       "dtype: int64"
      ]
     },
     "execution_count": 76,
     "metadata": {},
     "output_type": "execute_result"
    }
   ],
   "source": [
    "df.isna().sum()"
   ]
  },
  {
   "cell_type": "markdown",
   "metadata": {},
   "source": [
    "And dummifying our remaining, unbinarizable columns"
   ]
  },
  {
   "cell_type": "code",
   "execution_count": 77,
   "metadata": {
    "ExecuteTime": {
     "end_time": "2021-04-10T00:19:31.636363Z",
     "start_time": "2021-04-10T00:19:31.622475Z"
    }
   },
   "outputs": [],
   "source": [
    "df = pd.get_dummies(df, columns=['slope', 'neighborhood', 'foundation', 'month_sold', 'year_sold'], \n",
    "                   drop_first=True)"
   ]
  },
  {
   "cell_type": "markdown",
   "metadata": {},
   "source": [
    "This puts the target column at the end of the DataFrame"
   ]
  },
  {
   "cell_type": "code",
   "execution_count": 78,
   "metadata": {
    "ExecuteTime": {
     "end_time": "2021-04-10T00:19:31.928663Z",
     "start_time": "2021-04-10T00:19:31.637384Z"
    }
   },
   "outputs": [
    {
     "ename": "KeyError",
     "evalue": "'SalePrice'",
     "output_type": "error",
     "traceback": [
      "\u001b[1;31m---------------------------------------------------------------------------\u001b[0m",
      "\u001b[1;31mKeyError\u001b[0m                                  Traceback (most recent call last)",
      "\u001b[1;32m~\\anaconda3\\lib\\site-packages\\pandas\\core\\indexes\\base.py\u001b[0m in \u001b[0;36mget_loc\u001b[1;34m(self, key, method, tolerance)\u001b[0m\n\u001b[0;32m   3079\u001b[0m             \u001b[1;32mtry\u001b[0m\u001b[1;33m:\u001b[0m\u001b[1;33m\u001b[0m\u001b[1;33m\u001b[0m\u001b[0m\n\u001b[1;32m-> 3080\u001b[1;33m                 \u001b[1;32mreturn\u001b[0m \u001b[0mself\u001b[0m\u001b[1;33m.\u001b[0m\u001b[0m_engine\u001b[0m\u001b[1;33m.\u001b[0m\u001b[0mget_loc\u001b[0m\u001b[1;33m(\u001b[0m\u001b[0mcasted_key\u001b[0m\u001b[1;33m)\u001b[0m\u001b[1;33m\u001b[0m\u001b[1;33m\u001b[0m\u001b[0m\n\u001b[0m\u001b[0;32m   3081\u001b[0m             \u001b[1;32mexcept\u001b[0m \u001b[0mKeyError\u001b[0m \u001b[1;32mas\u001b[0m \u001b[0merr\u001b[0m\u001b[1;33m:\u001b[0m\u001b[1;33m\u001b[0m\u001b[1;33m\u001b[0m\u001b[0m\n",
      "\u001b[1;32mpandas\\_libs\\index.pyx\u001b[0m in \u001b[0;36mpandas._libs.index.IndexEngine.get_loc\u001b[1;34m()\u001b[0m\n",
      "\u001b[1;32mpandas\\_libs\\index.pyx\u001b[0m in \u001b[0;36mpandas._libs.index.IndexEngine.get_loc\u001b[1;34m()\u001b[0m\n",
      "\u001b[1;32mpandas\\_libs\\hashtable_class_helper.pxi\u001b[0m in \u001b[0;36mpandas._libs.hashtable.PyObjectHashTable.get_item\u001b[1;34m()\u001b[0m\n",
      "\u001b[1;32mpandas\\_libs\\hashtable_class_helper.pxi\u001b[0m in \u001b[0;36mpandas._libs.hashtable.PyObjectHashTable.get_item\u001b[1;34m()\u001b[0m\n",
      "\u001b[1;31mKeyError\u001b[0m: 'SalePrice'",
      "\nThe above exception was the direct cause of the following exception:\n",
      "\u001b[1;31mKeyError\u001b[0m                                  Traceback (most recent call last)",
      "\u001b[1;32m<ipython-input-78-f1a43a519773>\u001b[0m in \u001b[0;36m<module>\u001b[1;34m\u001b[0m\n\u001b[1;32m----> 1\u001b[1;33m \u001b[0mtgt\u001b[0m \u001b[1;33m=\u001b[0m \u001b[0mdf\u001b[0m\u001b[1;33m[\u001b[0m\u001b[1;34m'SalePrice'\u001b[0m\u001b[1;33m]\u001b[0m\u001b[1;33m\u001b[0m\u001b[1;33m\u001b[0m\u001b[0m\n\u001b[0m\u001b[0;32m      2\u001b[0m \u001b[0mdf\u001b[0m \u001b[1;33m=\u001b[0m \u001b[0mdf\u001b[0m\u001b[1;33m.\u001b[0m\u001b[0mdrop\u001b[0m\u001b[1;33m(\u001b[0m\u001b[0mcolumns\u001b[0m\u001b[1;33m=\u001b[0m\u001b[1;33m[\u001b[0m\u001b[1;34m'SalePrice'\u001b[0m\u001b[1;33m]\u001b[0m\u001b[1;33m)\u001b[0m\u001b[1;33m\u001b[0m\u001b[1;33m\u001b[0m\u001b[0m\n\u001b[0;32m      3\u001b[0m \u001b[0mdf\u001b[0m\u001b[1;33m.\u001b[0m\u001b[0minsert\u001b[0m\u001b[1;33m(\u001b[0m\u001b[0mloc\u001b[0m\u001b[1;33m=\u001b[0m\u001b[0mlen\u001b[0m\u001b[1;33m(\u001b[0m\u001b[0mdf\u001b[0m\u001b[1;33m.\u001b[0m\u001b[0mcolumns\u001b[0m\u001b[1;33m)\u001b[0m\u001b[1;33m,\u001b[0m \u001b[0mcolumn\u001b[0m\u001b[1;33m=\u001b[0m\u001b[1;34m'SalePrice'\u001b[0m\u001b[1;33m,\u001b[0m \u001b[0mvalue\u001b[0m\u001b[1;33m=\u001b[0m\u001b[0mtgt\u001b[0m\u001b[1;33m)\u001b[0m\u001b[1;33m\u001b[0m\u001b[1;33m\u001b[0m\u001b[0m\n",
      "\u001b[1;32m~\\anaconda3\\lib\\site-packages\\pandas\\core\\frame.py\u001b[0m in \u001b[0;36m__getitem__\u001b[1;34m(self, key)\u001b[0m\n\u001b[0;32m   3022\u001b[0m             \u001b[1;32mif\u001b[0m \u001b[0mself\u001b[0m\u001b[1;33m.\u001b[0m\u001b[0mcolumns\u001b[0m\u001b[1;33m.\u001b[0m\u001b[0mnlevels\u001b[0m \u001b[1;33m>\u001b[0m \u001b[1;36m1\u001b[0m\u001b[1;33m:\u001b[0m\u001b[1;33m\u001b[0m\u001b[1;33m\u001b[0m\u001b[0m\n\u001b[0;32m   3023\u001b[0m                 \u001b[1;32mreturn\u001b[0m \u001b[0mself\u001b[0m\u001b[1;33m.\u001b[0m\u001b[0m_getitem_multilevel\u001b[0m\u001b[1;33m(\u001b[0m\u001b[0mkey\u001b[0m\u001b[1;33m)\u001b[0m\u001b[1;33m\u001b[0m\u001b[1;33m\u001b[0m\u001b[0m\n\u001b[1;32m-> 3024\u001b[1;33m             \u001b[0mindexer\u001b[0m \u001b[1;33m=\u001b[0m \u001b[0mself\u001b[0m\u001b[1;33m.\u001b[0m\u001b[0mcolumns\u001b[0m\u001b[1;33m.\u001b[0m\u001b[0mget_loc\u001b[0m\u001b[1;33m(\u001b[0m\u001b[0mkey\u001b[0m\u001b[1;33m)\u001b[0m\u001b[1;33m\u001b[0m\u001b[1;33m\u001b[0m\u001b[0m\n\u001b[0m\u001b[0;32m   3025\u001b[0m             \u001b[1;32mif\u001b[0m \u001b[0mis_integer\u001b[0m\u001b[1;33m(\u001b[0m\u001b[0mindexer\u001b[0m\u001b[1;33m)\u001b[0m\u001b[1;33m:\u001b[0m\u001b[1;33m\u001b[0m\u001b[1;33m\u001b[0m\u001b[0m\n\u001b[0;32m   3026\u001b[0m                 \u001b[0mindexer\u001b[0m \u001b[1;33m=\u001b[0m \u001b[1;33m[\u001b[0m\u001b[0mindexer\u001b[0m\u001b[1;33m]\u001b[0m\u001b[1;33m\u001b[0m\u001b[1;33m\u001b[0m\u001b[0m\n",
      "\u001b[1;32m~\\anaconda3\\lib\\site-packages\\pandas\\core\\indexes\\base.py\u001b[0m in \u001b[0;36mget_loc\u001b[1;34m(self, key, method, tolerance)\u001b[0m\n\u001b[0;32m   3080\u001b[0m                 \u001b[1;32mreturn\u001b[0m \u001b[0mself\u001b[0m\u001b[1;33m.\u001b[0m\u001b[0m_engine\u001b[0m\u001b[1;33m.\u001b[0m\u001b[0mget_loc\u001b[0m\u001b[1;33m(\u001b[0m\u001b[0mcasted_key\u001b[0m\u001b[1;33m)\u001b[0m\u001b[1;33m\u001b[0m\u001b[1;33m\u001b[0m\u001b[0m\n\u001b[0;32m   3081\u001b[0m             \u001b[1;32mexcept\u001b[0m \u001b[0mKeyError\u001b[0m \u001b[1;32mas\u001b[0m \u001b[0merr\u001b[0m\u001b[1;33m:\u001b[0m\u001b[1;33m\u001b[0m\u001b[1;33m\u001b[0m\u001b[0m\n\u001b[1;32m-> 3082\u001b[1;33m                 \u001b[1;32mraise\u001b[0m \u001b[0mKeyError\u001b[0m\u001b[1;33m(\u001b[0m\u001b[0mkey\u001b[0m\u001b[1;33m)\u001b[0m \u001b[1;32mfrom\u001b[0m \u001b[0merr\u001b[0m\u001b[1;33m\u001b[0m\u001b[1;33m\u001b[0m\u001b[0m\n\u001b[0m\u001b[0;32m   3083\u001b[0m \u001b[1;33m\u001b[0m\u001b[0m\n\u001b[0;32m   3084\u001b[0m         \u001b[1;32mif\u001b[0m \u001b[0mtolerance\u001b[0m \u001b[1;32mis\u001b[0m \u001b[1;32mnot\u001b[0m \u001b[1;32mNone\u001b[0m\u001b[1;33m:\u001b[0m\u001b[1;33m\u001b[0m\u001b[1;33m\u001b[0m\u001b[0m\n",
      "\u001b[1;31mKeyError\u001b[0m: 'SalePrice'"
     ]
    }
   ],
   "source": [
    "# tgt = df['SalePrice']\n",
    "# df = df.drop(columns=['SalePrice'])\n",
    "# df.insert(loc=len(df.columns), column='SalePrice', value=tgt)"
   ]
  },
  {
   "cell_type": "markdown",
   "metadata": {},
   "source": [
    "And finally, saving it all to a .csv"
   ]
  },
  {
   "cell_type": "code",
   "execution_count": 81,
   "metadata": {
    "ExecuteTime": {
     "end_time": "2021-04-10T00:20:51.492780Z",
     "start_time": "2021-04-10T00:20:51.474428Z"
    }
   },
   "outputs": [],
   "source": [
    "# df.to_csv('./datasets/test_cleaned.csv', index=False)"
   ]
  },
  {
   "cell_type": "code",
   "execution_count": null,
   "metadata": {},
   "outputs": [],
   "source": []
  },
  {
   "cell_type": "code",
   "execution_count": null,
   "metadata": {},
   "outputs": [],
   "source": []
  },
  {
   "cell_type": "code",
   "execution_count": null,
   "metadata": {},
   "outputs": [],
   "source": []
  },
  {
   "cell_type": "code",
   "execution_count": null,
   "metadata": {},
   "outputs": [],
   "source": []
  }
 ],
 "metadata": {
  "kernelspec": {
   "display_name": "Python 3",
   "language": "python",
   "name": "python3"
  },
  "language_info": {
   "codemirror_mode": {
    "name": "ipython",
    "version": 3
   },
   "file_extension": ".py",
   "mimetype": "text/x-python",
   "name": "python",
   "nbconvert_exporter": "python",
   "pygments_lexer": "ipython3",
   "version": "3.8.5"
  },
  "toc": {
   "base_numbering": 1,
   "nav_menu": {},
   "number_sections": true,
   "sideBar": true,
   "skip_h1_title": false,
   "title_cell": "Table of Contents",
   "title_sidebar": "Contents",
   "toc_cell": false,
   "toc_position": {},
   "toc_section_display": true,
   "toc_window_display": false
  },
  "varInspector": {
   "cols": {
    "lenName": 16,
    "lenType": 16,
    "lenVar": 40
   },
   "kernels_config": {
    "python": {
     "delete_cmd_postfix": "",
     "delete_cmd_prefix": "del ",
     "library": "var_list.py",
     "varRefreshCmd": "print(var_dic_list())"
    },
    "r": {
     "delete_cmd_postfix": ") ",
     "delete_cmd_prefix": "rm(",
     "library": "var_list.r",
     "varRefreshCmd": "cat(var_dic_list()) "
    }
   },
   "types_to_exclude": [
    "module",
    "function",
    "builtin_function_or_method",
    "instance",
    "_Feature"
   ],
   "window_display": false
  }
 },
 "nbformat": 4,
 "nbformat_minor": 4
}
